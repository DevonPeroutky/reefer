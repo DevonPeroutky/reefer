{
 "cells": [
  {
   "cell_type": "code",
   "execution_count": 2,
   "id": "dd3b4a55-0778-4e6d-a9e5-9a0112b393c1",
   "metadata": {},
   "outputs": [
    {
     "name": "stderr",
     "output_type": "stream",
     "text": [
      "/Users/devonperoutky/Development/projects/reefer/.pixi/envs/default/lib/python3.12/site-packages/bs4/css.py:8: UserWarning: The soupsieve package is not installed. CSS selectors cannot be used.\n",
      "  warnings.warn(\n"
     ]
    }
   ],
   "source": [
    "import importlib.util\n",
    "import requests\n",
    "import asyncio\n",
    "import os\n",
    "import sys\n",
    "import json\n",
    "\n",
    "from abc import ABC, abstractmethod\n",
    "from typing import Optional\n",
    "from pydantic import BaseModel\n",
    "from fasthtml.common import List\n",
    "from exa_py import Exa"
   ]
  },
  {
   "cell_type": "code",
   "execution_count": 3,
   "id": "98eb2be7-135e-4ec9-8be2-b5fc5d215f5f",
   "metadata": {},
   "outputs": [],
   "source": [
    "class SearchResult(BaseModel):\n",
    "    id: str\n",
    "    url: str\n",
    "    title: str\n",
    "    snippet: Optional[str]\n",
    "\n",
    "\n",
    "class SearchClient(ABC):\n",
    "    @abstractmethod\n",
    "    def search(self, query: str) -> str:\n",
    "        pass\n",
    "\n",
    "\n",
    "class ExaClient:\n",
    "    def __init__(self) -> None:\n",
    "        self.api_key = os.getenv(\"EXA_API_KEY\")\n",
    "        assert self.api_key, \"EXA_API_KEY environment variable is not set.\"\n",
    "        self.exa = Exa(self.api_key)\n",
    "\n",
    "    def search(self, query: str) -> List[SearchResult]:\n",
    "        result = self.exa.search_and_contents(\n",
    "            query,\n",
    "            type=\"neural\",\n",
    "            # use_autoprompt=True,\n",
    "            num_results=10,\n",
    "            text=True,\n",
    "        )\n",
    "        return [SearchResult(id=res.id, url=res.url, title=res.title, snippet=res.text) for res in result.results]\n",
    "\n",
    "\n",
    "class SerpDogClient:\n",
    "    def __init__(self) -> None:\n",
    "        self.api_key = os.getenv(\"SERPDOG_API_KEY\")\n",
    "        assert self.api_key, \"SERPDOG_API_KEY environment variable is not set.\"\n",
    "\n",
    "    def search(self, query: str) -> List[SearchResult]:\n",
    "        payload = {\"api_key\": self.api_key, \"q\": query, \"gl\": \"us\"}\n",
    "        resp = requests.get(\"https://api.serpdog.io/search\", params=payload)\n",
    "        print(resp)\n",
    "        if resp.status_code != 200:\n",
    "            raise Exception(\n",
    "                \"Failed to fetch search results. Error: \", resp.status_code, resp.reason\n",
    "            )\n",
    "        return resp.text\n",
    "\n",
    "\n",
    "class GoogleSearchClient:\n",
    "    def __init__(self,  SEARCH_ENGINE_ID: str, API_KEY: Optional[str] = None) -> None:\n",
    "        self.api_key = API_KEY or os.getenv(\"GOOGLE_SEARCH_API_KEY\")\n",
    "        self.search_engine_id = SEARCH_ENGINE_ID\n",
    "        assert self.api_key, \"GOOGLE_API_KEY environment variable is not set.\"\n",
    "        assert self.search_engine_id, \"GOOGLE_SEARCH_ENGINE_ID environment variable is not set.\"\n",
    "\n",
    "    def search(self, query: str) -> List[SearchResult]:\n",
    "        url = \"https://www.googleapis.com/customsearch/v1\"\n",
    "        params = {\n",
    "            'key': self.api_key,\n",
    "            'cx': self.search_engine_id,\n",
    "            'q': query\n",
    "        }\n",
    "\n",
    "        \n",
    "        resp = requests.get(url, params=params)\n",
    "\n",
    "        \n",
    "        if resp.status_code != 200:\n",
    "            raise Exception(\n",
    "                f\"Failed to fetch search results. Error: {resp.status_code} - {resp.reason}\"\n",
    "            )\n",
    "\n",
    "        data = resp.json()\n",
    "        print(data)\n",
    "        return [\n",
    "            SearchResult(\n",
    "                id=str(index),\n",
    "                url=item.get(\"link\"),\n",
    "                title=item.get(\"title\"),\n",
    "                snippet=item.get(\"snippet\"),\n",
    "            )\n",
    "            for index, item in enumerate(data.get(\"items\", []))\n",
    "        ]"
   ]
  },
  {
   "cell_type": "code",
   "execution_count": 3,
   "id": "1e85882e-114f-4e16-90ee-cd79fb2115a7",
   "metadata": {},
   "outputs": [],
   "source": [
    "client = ExaClient()"
   ]
  },
  {
   "cell_type": "code",
   "execution_count": 63,
   "id": "6c01b880-06db-459b-b7db-03b29ab91d10",
   "metadata": {},
   "outputs": [],
   "source": [
    "res = client.search(\"valon software careers\")"
   ]
  },
  {
   "cell_type": "code",
   "execution_count": 64,
   "id": "50118801-7d1f-496b-ad27-8f8f774f8b83",
   "metadata": {},
   "outputs": [
    {
     "data": {
      "text/plain": [
       "SearchResult(id='https://isovalent.com/careers/', url='https://isovalent.com/careers/', title='Isovalent — Careers', snippet='Come join a fast growing team and help define the future of open-source networking.  See open positions    Join Isovalent Isovalent is the company founded by the creators of Cilium and eBPF. We build open source software and enterprise solutions solving networking, security, and observability needs for modern cloud native infrastructure.   Amazing technology We are driven by a simple goal: Building amazing technology. Beginning with our open source roots, building outstanding technology with a great team continues to be at the core of everything we do. We work every day to inspire our customers with our products and exceed their expectations.   Open source Building open source software is the engine of our innovation and the root of our engineering culture. We believe that open source leads to great technology and the highest quality software and we apply its best practices across the board.   Inclusive teams Inclusive teams and culture are very important to us. Inclusive and diverse teams lead to better decisions, creative innovation, and well-balanced teams. From hiring, onboarding to everyday team culture, a welcoming and inclusive work environment enables all team members to collaborate in the most successful way possible.   Remote-first We strongly believe in a remote-first approach and build teams working around the world. Our work and communication culture allows teams to be successful regardless of their location. For those interested to work in an office, we offer office locations in Mountain View and Zurich.     Open Positions   Marketing   Technical Marketing Engineer, Observability (Mountain View, Zurich or Remote)   Regional/ Field Marketing Associate EMEA     Engineering   Go Software Engineer (Mountain View, Zurich or Remote)   eBPF/Kernel Engineer (US Timezone preferred, Remote, Mountain View)     Sales   Enterprise Account Executive - (East Coast, West Coast, Europe)   Senior Sales Engineer - US East/Central/West and Europe         US Headquarters 20830 Stevens Creek Blvd #1047  Cupertino, CA 95014 USA     Swiss Headquarters Hönggerstrasse 65, 8037Zürich, Switzerland        Product       Events     Blog')"
      ]
     },
     "execution_count": 64,
     "metadata": {},
     "output_type": "execute_result"
    }
   ],
   "source": [
    "res[0]"
   ]
  },
  {
   "cell_type": "code",
   "execution_count": 11,
   "id": "2f33a91b-4fad-4d69-9c47-72978427698d",
   "metadata": {},
   "outputs": [],
   "source": [
    "google_client = GoogleSearchClient(SEARCH_ENGINE_ID='657279e3e4a414209')"
   ]
  },
  {
   "cell_type": "code",
   "execution_count": 14,
   "id": "c219965b-431d-4eb6-bbc0-1ba1585a595f",
   "metadata": {},
   "outputs": [
    {
     "name": "stdout",
     "output_type": "stream",
     "text": [
      "{'kind': 'customsearch#search', 'url': {'type': 'application/json', 'template': 'https://www.googleapis.com/customsearch/v1?q={searchTerms}&num={count?}&start={startIndex?}&lr={language?}&safe={safe?}&cx={cx?}&sort={sort?}&filter={filter?}&gl={gl?}&cr={cr?}&googlehost={googleHost?}&c2coff={disableCnTwTranslation?}&hq={hq?}&hl={hl?}&siteSearch={siteSearch?}&siteSearchFilter={siteSearchFilter?}&exactTerms={exactTerms?}&excludeTerms={excludeTerms?}&linkSite={linkSite?}&orTerms={orTerms?}&dateRestrict={dateRestrict?}&lowRange={lowRange?}&highRange={highRange?}&searchType={searchType}&fileType={fileType?}&rights={rights?}&imgSize={imgSize?}&imgType={imgType?}&imgColorType={imgColorType?}&imgDominantColor={imgDominantColor?}&alt=json'}, 'queries': {'request': [{'title': 'Google Custom Search - valon careers jobs', 'totalResults': '56100', 'searchTerms': 'valon careers jobs', 'count': 10, 'startIndex': 1, 'inputEncoding': 'utf8', 'outputEncoding': 'utf8', 'safe': 'off', 'cx': '657279e3e4a414209'}], 'nextPage': [{'title': 'Google Custom Search - valon careers jobs', 'totalResults': '56100', 'searchTerms': 'valon careers jobs', 'count': 10, 'startIndex': 11, 'inputEncoding': 'utf8', 'outputEncoding': 'utf8', 'safe': 'off', 'cx': '657279e3e4a414209'}]}, 'context': {'title': 'Google'}, 'searchInformation': {'searchTime': 0.296573, 'formattedSearchTime': '0.30', 'totalResults': '56100', 'formattedTotalResults': '56,100'}, 'items': [{'kind': 'customsearch#result', 'title': 'Valon NYC Jobs + Careers | Built In NYC', 'htmlTitle': '<b>Valon</b> NYC <b>Jobs</b> + <b>Careers</b> | Built In NYC', 'link': 'https://www.builtinnyc.com/company/valon/jobs', 'displayLink': 'www.builtinnyc.com', 'snippet': 'Explore jobs and careers at Valon in NYC. Valon is currently hiring for a range of positions.', 'htmlSnippet': 'Explore <b>jobs</b> and <b>careers</b> at <b>Valon</b> in NYC. <b>Valon</b> is currently hiring for a range of positions.', 'formattedUrl': 'https://www.builtinnyc.com/company/valon/jobs', 'htmlFormattedUrl': 'https://www.builtinnyc.com/company/<b>valon</b>/<b>jobs</b>', 'pagemap': {'cse_thumbnail': [{'src': 'https://encrypted-tbn0.gstatic.com/images?q=tbn:ANd9GcQHnrAt6rq5tQX6KnhUAvxBCqzFmMBhsGg4LQ1jQtlP15e1NIYHomsslFo&s', 'width': '200', 'height': '200'}], 'metatags': [{'viewport': 'width=device-width, initial-scale=1.0'}], 'cse_image': [{'src': 'https://cdn.builtin.com/cdn-cgi/image/f=auto,fit=contain,w=200,h=200,q=100/https://builtinnyc.com/sites/www.builtinnyc.com/files/2021-11/Wh3b1SQj.png'}]}}, {'kind': 'customsearch#result', 'title': 'Jobs at Valon | Andreessen Horowitz', 'htmlTitle': '<b>Jobs</b> at <b>Valon</b> | Andreessen Horowitz', 'link': 'https://jobs.a16z.com/jobs/valon', 'displayLink': 'jobs.a16z.com', 'snippet': 'Careers at Valon · Mortgage Assistance Processor · Client Engagement Manager · Senior Accountant · Staff Software Engineer · Business Operations Senior Associate.', 'htmlSnippet': '<b>Careers</b> at <b>Valon</b> &middot; Mortgage Assistance Processor &middot; Client Engagement Manager &middot; Senior Accountant &middot; Staff Software Engineer &middot; Business Operations Senior Associate.', 'formattedUrl': 'https://jobs.a16z.com/jobs/valon', 'htmlFormattedUrl': 'https://<b>jobs</b>.a16z.com/<b>jobs</b>/<b>valon</b>', 'pagemap': {'cse_thumbnail': [{'src': 'https://encrypted-tbn0.gstatic.com/images?q=tbn:ANd9GcSKii6MNCCQrNOWws4rdlDUdegwkVzaiJiOczkh1ye-XYwK51OeGGxtdBM3&s', 'width': '310', 'height': '163'}], 'metatags': [{'og:image': 'https://consider.com/static/images/boards/social/a16z.png', 'twitter:card': 'summary_large_image', 'og:image:width': '1200', 'og:type': 'website', 'viewport': 'width=device-width, initial-scale=1', 'og:title': 'Jobs at Valon | Andreessen Horowitz', 'og:image:height': '630', 'og:description': 'Jobs at Valon | Andreessen Horowitz'}], 'cse_image': [{'src': 'https://consider.com/static/images/boards/social/a16z.png'}]}}, {'kind': 'customsearch#result', 'title': 'Apply for a new home loan with Valon Mortgage', 'htmlTitle': 'Apply for a new home loan with <b>Valon</b> Mortgage', 'link': 'https://valon.com/loans/apply', 'displayLink': 'valon.com', 'snippet': 'Start your application for a purchase loan, refinance, or home equity product--or, continue an existing application ... Careers · Blog · Partners. Legal. Legal\\xa0...', 'htmlSnippet': 'Start your application for a purchase loan, refinance, or home equity product--or, continue an existing application ... <b>Careers</b> &middot; Blog &middot; Partners. Legal. Legal&nbsp;...', 'formattedUrl': 'https://valon.com/loans/apply', 'htmlFormattedUrl': 'https://<b>valon</b>.com/loans/apply', 'pagemap': {'cse_thumbnail': [{'src': 'https://encrypted-tbn0.gstatic.com/images?q=tbn:ANd9GcTl9mq8FnNK4fwgqbXGVJsgeppzXrbf_ZEILsW6cMxR4HULOrfD-MsGCOKo&s', 'width': '310', 'height': '163'}], 'metatags': [{'og:image': 'https://valon.com/assets/images/open-graph.png', 'next-head-count': '11', 'og:type': 'website', 'viewport': 'width=device-width', 'og:title': 'Valon Mortgage', 'og:url': 'https://valon.com'}], 'cse_image': [{'src': 'https://valon.com/assets/images/open-graph.png'}]}}, {'kind': 'customsearch#result', 'title': 'Jobs at Valon', 'htmlTitle': '<b>Jobs</b> at <b>Valon</b>', 'link': 'https://job-boards.greenhouse.io/valon', 'displayLink': 'job-boards.greenhouse.io', 'snippet': \"Current openings at Valon. We're on a mission to empower every homeowner. We ... 24 jobs. Analytics. Job. Data Analyst. New York, New York, United States\\xa0...\", 'htmlSnippet': 'Current openings at <b>Valon</b>. We&#39;re on a mission to empower every homeowner. We ... 24 <b>jobs</b>. Analytics. <b>Job</b>. Data Analyst. New York, New York, United States&nbsp;...', 'formattedUrl': 'https://job-boards.greenhouse.io/valon', 'htmlFormattedUrl': 'https://job-boards.greenhouse.io/<b>valon</b>', 'pagemap': {'cse_thumbnail': [{'src': 'https://encrypted-tbn0.gstatic.com/images?q=tbn:ANd9GcRPcnToVU-B9YqmccSC2ThmxubwD1gZEiy0K-sFGCH60gPphD5hlfRmro4&s', 'width': '351', 'height': '144'}], 'metatags': [{'viewport': 'width=device-width,initial-scale=1'}], 'cse_image': [{'src': 'https://s6-recruiting.cdn.greenhouse.io/external_greenhouse_job_boards/logos/400/093/700/original/4891a2ea-9047-428a-8e75-f5032aabdd22-1649721704647.png?1666218379'}]}}, {'kind': 'customsearch#result', 'title': 'Careers - Valon Kone', 'htmlTitle': '<b>Careers</b> - <b>Valon</b> Kone', 'link': 'https://valonkone.com/en/company/careers', 'displayLink': 'valonkone.com', 'snippet': \"It was year 1980 as Jukka and Martti entered the Valon Kone's main gate in Lohja, Finland for the first time. Jukka wanted to apply for a job at the company\\xa0...\", 'htmlSnippet': 'It was year 1980 as Jukka and Martti entered the <b>Valon</b> Kone&#39;s main gate in Lohja, Finland for the first time. Jukka wanted to apply for a <b>job</b> at the company&nbsp;...', 'formattedUrl': 'https://valonkone.com/en/company/careers', 'htmlFormattedUrl': 'https://<b>valon</b>kone.com/en/company/<b>careers</b>', 'pagemap': {'cse_thumbnail': [{'src': 'https://encrypted-tbn0.gstatic.com/images?q=tbn:ANd9GcRG1bQ7qzpbZvTaal3q6RaW_lpjBY9hfZuYa0lY_zbA5UJsHkABIiLjZc0i&s', 'width': '259', 'height': '194'}], 'metatags': [{'og:image': 'https://valonkone.com/templates/yootheme/cache/81/Service_hero-815127be.jpeg', 'og:type': 'article', 'og:image:width': '1200', 'og:image:alt': 'vk employee', 'twitter:card': 'summary', 'twitter:title': 'Careers - Valon Kone', 'og:site_name': 'Valon Kone', 'twitter:url': 'https://valonkone.com/en/company/careers', 'og:title': 'Careers - Valon Kone', 'og:image:height': '900', 'og:description': 'Solutions for all industrial debarking needs in locations where logs can be fed into the debarker one at a time.', 'og:image:secure_url': 'https://valonkone.com/templates/yootheme/cache/81/Service_hero-815127be.jpeg', 'twitter:image': 'https://valonkone.com/templates/yootheme/cache/81/Service_hero-815127be.jpeg', 'ahrefs-site-verification': 'beee292c4f947d64be0cf140e49f749db698c021ced59a9de0a729a77f76466e', 'fb:app_id': '966242223397117', 'viewport': 'width=device-width, initial-scale=1', 'twitter:description': 'Solutions for all industrial debarking needs in locations where logs can be fed into the debarker one at a time.', 'og:locale': 'en_GB', 'og:url': 'https://valonkone.com/en/company/careers'}], 'cse_image': [{'src': 'https://valonkone.com/templates/yootheme/cache/81/Service_hero-815127be.jpeg'}]}}, {'kind': 'customsearch#result', 'title': 'Valon Jobs, Employment in Phoenix, AZ | Indeed.com', 'htmlTitle': '<b>Valon Jobs</b>, <b>Employment</b> in Phoenix, AZ | Indeed.com', 'link': 'https://www.indeed.com/q-valon-l-phoenix,-az-jobs.html', 'displayLink': 'www.indeed.com', 'snippet': '6 Valon jobs available in Phoenix, AZ on Indeed.com. Apply to Mortgage Processor, Mortgage Assistance Spoc, IT Analyst and more!', 'htmlSnippet': '6 <b>Valon jobs</b> available in Phoenix, AZ on Indeed.com. Apply to Mortgage Processor, Mortgage Assistance Spoc, IT Analyst and more!', 'formattedUrl': 'https://www.indeed.com/q-valon-l-phoenix,-az-jobs.html', 'htmlFormattedUrl': 'https://www.indeed.com/q-<b>valon</b>-l-phoenix,-az-<b>jobs</b>.html', 'pagemap': {'metatags': [{'referrer': 'origin-when-cross-origin', 'viewport': 'width=device-width,initial-scale=1.0', 'format-detection': 'telephone=no'}]}}, {'kind': 'customsearch#result', 'title': '38 Valon jobs (1 new)', 'htmlTitle': '38 <b>Valon jobs</b> (1 new)', 'link': 'https://www.linkedin.com/jobs/valon-jobs-worldwide', 'displayLink': 'www.linkedin.com', 'snippet': '38 Valon Jobs in Worldwide (1 new) · Mortgage Loan Processor · Mortgage Assistance Processor · Claims Analyst · Business Operations Senior Associate · Mortgage\\xa0...', 'htmlSnippet': '38 <b>Valon Jobs</b> in Worldwide (1 new) &middot; Mortgage Loan Processor &middot; Mortgage Assistance Processor &middot; Claims Analyst &middot; Business Operations Senior Associate &middot; Mortgage&nbsp;...', 'formattedUrl': 'https://www.linkedin.com/jobs/valon-jobs-worldwide', 'htmlFormattedUrl': 'https://www.linkedin.com/<b>jobs</b>/<b>valon</b>-<b>jobs</b>-worldwide', 'pagemap': {'metatags': [{'og:type': 'website', 'twitter:title': '38 Valon jobs (1 new)', 'twitter:card': 'summary_large_image', 'clientsideingraphs': '1', 'linkedin:pagetag': 'urlType=jserp_canonical_keyword_location;emptyResult=false', 'og:title': '38 Valon jobs (1 new)', 'pagekey': 'p_jobs_guest_search', 'locale': 'en_US', 'og:description': 'Today&rsquo;s top 38 Valon jobs. Leverage your professional network, and get hired. New Valon jobs added daily.', 'lnkd:url': 'https://www.linkedin.com/jobs/valon-jobs-worldwide', 'twitter:site': '@LinkedIn', 'viewport': 'width=device-width, initial-scale=1.0', 'litmsprofilename': 'jobs-guest-frontend', 'twitter:description': 'Today&rsquo;s top 38 Valon jobs. Leverage your professional network, and get hired. New Valon jobs added daily.', 'og:url': 'https://www.linkedin.com/jobs/valon-jobs-worldwide'}]}}, {'kind': 'customsearch#result', 'title': 'Valon Mortgage Jobs, Employment in Phoenix, AZ | Indeed.com', 'htmlTitle': '<b>Valon</b> Mortgage <b>Jobs</b>, <b>Employment</b> in Phoenix, AZ | Indeed.com', 'link': 'https://www.indeed.com/q-valon-mortgage-l-phoenix,-az-jobs.html', 'displayLink': 'www.indeed.com', 'snippet': '20 Valon Mortgage jobs available in Phoenix, AZ on Indeed.com. Apply to Mortgage Processor, Mortgage Specialist, Closing Coordinator and more!', 'htmlSnippet': '20 <b>Valon</b> Mortgage <b>jobs</b> available in Phoenix, AZ on Indeed.com. Apply to Mortgage Processor, Mortgage Specialist, Closing Coordinator and more!', 'formattedUrl': 'https://www.indeed.com/q-valon-mortgage-l-phoenix,-az-jobs.html', 'htmlFormattedUrl': 'https://www.indeed.com/q-<b>valon</b>-mortgage-l-phoenix,-az-<b>jobs</b>.html', 'pagemap': {'metatags': [{'referrer': 'origin-when-cross-origin', 'viewport': 'width=device-width,initial-scale=1.0', 'format-detection': 'telephone=no'}]}}, {'kind': 'customsearch#result', 'title': 'Valon Jobs & Careers - 12 Open Positions | Glassdoor', 'htmlTitle': '<b>Valon Jobs</b> &amp; <b>Careers</b> - 12 Open Positions | Glassdoor', 'link': 'https://www.glassdoor.com/Jobs/Valon-Jobs-E5256003.htm', 'displayLink': 'www.glassdoor.com', 'snippet': 'Valon Jobs · Claims Analyst. Remote. $60K - $81K (Employer est.) · Investor Reporting Analyst. Remote. $60K - $81K (Employer est.) · Resolution Specialist.', 'htmlSnippet': '<b>Valon Jobs</b> &middot; Claims Analyst. Remote. $60K - $81K (Employer est.) &middot; Investor Reporting Analyst. Remote. $60K - $81K (Employer est.) &middot; Resolution Specialist.', 'formattedUrl': 'https://www.glassdoor.com/Jobs/Valon-Jobs-E5256003.htm', 'htmlFormattedUrl': 'https://www.glassdoor.com/<b>Jobs</b>/<b>Valon</b>-<b>Jobs</b>-E5256003.htm', 'pagemap': {'metatags': [{'og:type': 'website', 'theme-color': '#0caa41', 'og:site_name': 'Glassdoor', 'og:title': 'Valon Jobs & Careers - 12 Open Positions', 'bingbot': 'nocache', 'og:description': 'Search job openings at Valon. 12 Valon jobs including salaries, ratings, and reviews, posted by Valon employees.', 'msapplication-navbutton-color': '#0caa41', 'next-head-count': '34', 'referrer': 'origin', 'apple-mobile-web-app-status-bar-style': '#0caa41', 'viewport': 'width=device-width', 'apple-mobile-web-app-capable': 'yes', 'og:url': 'https://www.glassdoor.com/Jobs/Valon-Jobs-E5256003.htm'}]}}, {'kind': 'customsearch#result', 'title': 'Valon Careers | Wellfound (formerly AngelList Talent)', 'htmlTitle': '<b>Valon Careers</b> | Wellfound (formerly AngelList Talent)', 'link': 'https://wellfound.com/company/valon-2', 'displayLink': 'wellfound.com', 'snippet': 'Find out if Valon is the right fit for your future career! Explore jobs, salary, equity, and funding information. Read about work-life balance, perks,\\xa0...', 'htmlSnippet': 'Find out if <b>Valon</b> is the right fit for your future <b>career</b>! Explore <b>jobs</b>, salary, equity, and funding information. Read about work-life balance, perks,&nbsp;...', 'formattedUrl': 'https://wellfound.com/company/valon-2', 'htmlFormattedUrl': 'https://wellfound.com/company/<b>valon</b>-2', 'pagemap': {'cse_thumbnail': [{'src': 'https://encrypted-tbn0.gstatic.com/images?q=tbn:ANd9GcTOlfgHKmxEukJZfK6EehdQ3iIPR_K8m_i5ihMr1HwfxxTvEgwJeTEL&s', 'width': '100', 'height': '100'}], 'metatags': [{'og:image': 'https://photos.wellfound.com/startups/i/8414848-56565f427f74299df97698e815b68e87-thumb_jpg.jpg?buster=1625602342', 'next-head-count': '23', 'twitter:card': 'summary', 'og:site_name': 'Wellfound (formerly AngelList Talent)', 'twitter:site': '@wellfoundhq', 'viewport': 'width=device-width, initial-scale=1, minimum-scale=1, maximum-scale=1', 'og:title': 'Valon Careers', 'google': 'notranslate', 'og:url': 'https://wellfound.com/company/valon-2', 'og:description': 'Find out if Valon is the right fit for your future career! Explore jobs, salary, equity, and funding information. Read about work-life balance, perks, benefits, and the company culture!', 'twitter:creator': '@wellfoundhq'}], 'cse_image': [{'src': 'https://photos.wellfound.com/startups/i/8414848-56565f427f74299df97698e815b68e87-thumb_jpg.jpg?buster=1625602342'}]}}]}\n"
     ]
    }
   ],
   "source": [
    "results = google_client.search(\"valon careers jobs\")"
   ]
  },
  {
   "cell_type": "code",
   "execution_count": 15,
   "id": "9ecf434a-e58f-477a-b79d-5f1e9c82a5e5",
   "metadata": {},
   "outputs": [
    {
     "data": {
      "text/plain": [
       "[SearchResult(id='0', url='https://www.builtinnyc.com/company/valon/jobs', title='Valon NYC Jobs + Careers | Built In NYC', snippet='Explore jobs and careers at Valon in NYC. Valon is currently hiring for a range of positions.'),\n",
       " SearchResult(id='1', url='https://jobs.a16z.com/jobs/valon', title='Jobs at Valon | Andreessen Horowitz', snippet='Careers at Valon · Mortgage Assistance Processor · Client Engagement Manager · Senior Accountant · Staff Software Engineer · Business Operations Senior Associate.'),\n",
       " SearchResult(id='2', url='https://valon.com/loans/apply', title='Apply for a new home loan with Valon Mortgage', snippet='Start your application for a purchase loan, refinance, or home equity product--or, continue an existing application ... Careers · Blog · Partners. Legal. Legal\\xa0...'),\n",
       " SearchResult(id='3', url='https://job-boards.greenhouse.io/valon', title='Jobs at Valon', snippet=\"Current openings at Valon. We're on a mission to empower every homeowner. We ... 24 jobs. Analytics. Job. Data Analyst. New York, New York, United States\\xa0...\"),\n",
       " SearchResult(id='4', url='https://valonkone.com/en/company/careers', title='Careers - Valon Kone', snippet=\"It was year 1980 as Jukka and Martti entered the Valon Kone's main gate in Lohja, Finland for the first time. Jukka wanted to apply for a job at the company\\xa0...\"),\n",
       " SearchResult(id='5', url='https://www.indeed.com/q-valon-l-phoenix,-az-jobs.html', title='Valon Jobs, Employment in Phoenix, AZ | Indeed.com', snippet='6 Valon jobs available in Phoenix, AZ on Indeed.com. Apply to Mortgage Processor, Mortgage Assistance Spoc, IT Analyst and more!'),\n",
       " SearchResult(id='6', url='https://www.linkedin.com/jobs/valon-jobs-worldwide', title='38 Valon jobs (1 new)', snippet='38 Valon Jobs in Worldwide (1 new) · Mortgage Loan Processor · Mortgage Assistance Processor · Claims Analyst · Business Operations Senior Associate · Mortgage\\xa0...'),\n",
       " SearchResult(id='7', url='https://www.indeed.com/q-valon-mortgage-l-phoenix,-az-jobs.html', title='Valon Mortgage Jobs, Employment in Phoenix, AZ | Indeed.com', snippet='20 Valon Mortgage jobs available in Phoenix, AZ on Indeed.com. Apply to Mortgage Processor, Mortgage Specialist, Closing Coordinator and more!'),\n",
       " SearchResult(id='8', url='https://www.glassdoor.com/Jobs/Valon-Jobs-E5256003.htm', title='Valon Jobs & Careers - 12 Open Positions | Glassdoor', snippet='Valon Jobs · Claims Analyst. Remote. $60K - $81K (Employer est.) · Investor Reporting Analyst. Remote. $60K - $81K (Employer est.) · Resolution Specialist.'),\n",
       " SearchResult(id='9', url='https://wellfound.com/company/valon-2', title='Valon Careers | Wellfound (formerly AngelList Talent)', snippet='Find out if Valon is the right fit for your future career! Explore jobs, salary, equity, and funding information. Read about work-life balance, perks,\\xa0...')]"
      ]
     },
     "execution_count": 15,
     "metadata": {},
     "output_type": "execute_result"
    }
   ],
   "source": [
    "results"
   ]
  },
  {
   "cell_type": "code",
   "execution_count": 9,
   "id": "60182b4c-0cb4-41e4-a37c-770a81d506e0",
   "metadata": {},
   "outputs": [
    {
     "name": "stdout",
     "output_type": "stream",
     "text": [
      "63655678cd36805b2cb76220\n",
      "<Response [429]>\n"
     ]
    },
    {
     "ename": "Exception",
     "evalue": "('Failed to fetch search results. Error: ', 429, 'Too Many Requests')",
     "output_type": "error",
     "traceback": [
      "\u001b[0;31m---------------------------------------------------------------------------\u001b[0m",
      "\u001b[0;31mException\u001b[0m                                 Traceback (most recent call last)",
      "Cell \u001b[0;32mIn[9], line 9\u001b[0m\n\u001b[1;32m      7\u001b[0m \u001b[38;5;28mprint\u001b[39m(resp)\n\u001b[1;32m      8\u001b[0m \u001b[38;5;28;01mif\u001b[39;00m resp\u001b[38;5;241m.\u001b[39mstatus_code \u001b[38;5;241m!=\u001b[39m \u001b[38;5;241m200\u001b[39m:\n\u001b[0;32m----> 9\u001b[0m     \u001b[38;5;28;01mraise\u001b[39;00m \u001b[38;5;167;01mException\u001b[39;00m(\n\u001b[1;32m     10\u001b[0m         \u001b[38;5;124m\"\u001b[39m\u001b[38;5;124mFailed to fetch search results. Error: \u001b[39m\u001b[38;5;124m\"\u001b[39m, resp\u001b[38;5;241m.\u001b[39mstatus_code, resp\u001b[38;5;241m.\u001b[39mreason\n\u001b[1;32m     11\u001b[0m     )\n",
      "\u001b[0;31mException\u001b[0m: ('Failed to fetch search results. Error: ', 429, 'Too Many Requests')"
     ]
    }
   ],
   "source": [
    "SERPDOG_API_KEY = os.getenv(\"SERPDOG_API_KEY\")\n",
    "print(SERPDOG_API_KEY)\n",
    "query = \"valon careers\"\n",
    "payload = {\"api_key\": SERPDOG_API_KEY, \"q\": query, \"gl\": \"us\"}\n",
    "# resp = requests.get(\"https://api.serpdog.io/search\", params=payload)\n",
    "resp = requests.get(\"http://api.scrapingdog.com/google\", params=payload)\n",
    "print(resp)\n",
    "if resp.status_code != 200:\n",
    "    raise Exception(\n",
    "        \"Failed to fetch search results. Error: \", resp.status_code, resp.reason\n",
    "    )"
   ]
  },
  {
   "cell_type": "code",
   "execution_count": null,
   "id": "8cb2015e-0c46-4f58-a412-24f727c2fbb5",
   "metadata": {},
   "outputs": [],
   "source": []
  }
 ],
 "metadata": {
  "kernelspec": {
   "display_name": "Python (reefer)",
   "language": "python",
   "name": "reefer"
  },
  "language_info": {
   "codemirror_mode": {
    "name": "ipython",
    "version": 3
   },
   "file_extension": ".py",
   "mimetype": "text/x-python",
   "name": "python",
   "nbconvert_exporter": "python",
   "pygments_lexer": "ipython3",
   "version": "3.12.5"
  }
 },
 "nbformat": 4,
 "nbformat_minor": 5
}
