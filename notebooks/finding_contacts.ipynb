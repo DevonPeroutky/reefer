{
 "cells": [
  {
   "cell_type": "code",
   "execution_count": null,
   "id": "fc68bf7e-46a3-439f-8dff-666194ea9a45",
   "metadata": {},
   "outputs": [],
   "source": [
    "import os\n",
    "import sys\n",
    "import json\n",
    "\n",
    "module_path = os.path.abspath(os.path.join('..'))\n",
    "if module_path not in sys.path:\n",
    "    sys.path.append(module_path)\n",
    "\n",
    "from services.scraping_service import ScrapingService, PARSE_QUERY_TERMS_PROMPT\n",
    "from services.serp_service import SerpService\n",
    "from data_types import JobOpening, Company"
   ]
  },
  {
   "cell_type": "code",
   "execution_count": null,
   "id": "b05a22ab-c55d-4d73-aafd-6def5c178788",
   "metadata": {},
   "outputs": [],
   "source": [
    "scraping_service = ScrapingService()\n",
    "serp_service = SerpService()"
   ]
  },
  {
   "cell_type": "code",
   "execution_count": null,
   "id": "513577c1-3dff-4b38-bbc2-9bff12496d7c",
   "metadata": {},
   "outputs": [],
   "source": [
    "valon = Company(name=\"Valon\", opening_link=None, careers_link=None)\n",
    "\n",
    "job = JobOpening(\n",
    "    title=\"Staff Software Engineer\",\n",
    "    company=valon,\n",
    "    link=\"https://job-boards.greenhouse.io/valon/jobs/4364156006\",\n",
    "    related=True,\n",
    "    location=None\n",
    ")\n",
    "\n",
    "PARSE_QUERY_TERMS_PROMPT"
   ]
  },
  {
   "cell_type": "code",
   "execution_count": null,
   "id": "46f915d6-b192-4620-8ce7-d58ace5fc677",
   "metadata": {},
   "outputs": [],
   "source": [
    "res = scraping_service.find_query_terms_from_job_description(job)"
   ]
  },
  {
   "cell_type": "code",
   "execution_count": null,
   "id": "f2af4943-07ac-4ad6-a261-1a09a008a025",
   "metadata": {},
   "outputs": [],
   "source": [
    "res"
   ]
  },
  {
   "cell_type": "code",
   "execution_count": null,
   "id": "8d92f60f-cff8-4501-bfd9-b225cb4470c3",
   "metadata": {},
   "outputs": [],
   "source": [
    "contacts = serp_service.find_list_of_contacts(\n",
    "    company=job.company,\n",
    "    keywords=res['keywords'],\n",
    "    targetted_role=res['positions'],\n",
    ") "
   ]
  },
  {
   "cell_type": "code",
   "execution_count": null,
   "id": "2d24734d-d0d3-417d-ae27-01bd965d385b",
   "metadata": {},
   "outputs": [],
   "source": [
    "res"
   ]
  },
  {
   "cell_type": "code",
   "execution_count": 31,
   "id": "49a1341f-5501-4de1-9734-68a15d004213",
   "metadata": {},
   "outputs": [
    {
     "name": "stdout",
     "output_type": "stream",
     "text": [
      "site:linkedin.com/in Valon Python React Docker Kubernetes Google Cloud Platform Engineering Manager Staff Software Engineer Technical Lead\n",
      "Search Results:  [{'title': 'Abhishek Kumar - Software Developer - Arista Networks', 'link': 'https://in.linkedin.com/in/abhishek-kumar-8b562516a?trk=public_profile_browsemap', 'displayed_link': '660+ followers', 'favicon': 'data:image/png;base64,iVBORw0KGgoAAAANSUhEUgAAABAAAAAQCAYAAAAf8/9hAAAAm0lEQVR4AWP4//8/RRhMyLfs3sNQvOk/KRikB24ATNB2yhEQJtoQuAEwzVAAYtPVAMJe4Cjf8l+0bsd/RkIGQAGc/ej9t/+TDt/7/+vPXzD/6Yfv/+2nHSXWAAT49P33/z9//4HZl559JM2Aqm3XwXyXGcfA/H///pFmgFj9DjCfp3IrTIgkA5ADbbAbQA6mKDPp9x7YBTOAIgwAVba5DGceMlQAAAAASUVORK5CYII=', 'source': 'LinkedIn\\xa0·\\xa0Abhishek Kumar', 'snippet': 'At Arista Networks, I boosted data center and network efficiencies using Python and React Native. Skilled in technologies like Docker, Kubernetes, React, and\\xa0...', 'highlighted_keywords': ['Python', 'React', 'Docker', 'Kubernetes', 'React'], 'rank': 1}, {'title': 'Yonathan Guez - DevOps Engineer from Linnovate', 'link': 'https://il.linkedin.com/in/yonathan-guez', 'displayed_link': '1.3K+ followers', 'favicon': 'data:image/png;base64,iVBORw0KGgoAAAANSUhEUgAAABAAAAAQCAYAAAAf8/9hAAAAm0lEQVR4AWP4//8/RRhMyLfs3sNQvOk/KRikB24ATNB2yhEQJtoQuAEwzVAAYtPVAMJe4Cjf8l+0bsd/RkIGQAGc/ej9t/+TDt/7/+vPXzD/6Yfv/+2nHSXWAAT49P33/z9//4HZl559JM2Aqm3XwXyXGcfA/H///pFmgFj9DjCfp3IrTIgkA5ADbbAbQA6mKDPp9x7YBTOAIgwAVba5DGceMlQAAAAASUVORK5CYII=', 'source': 'LinkedIn\\xa0·\\xa0Yonathan Guez', 'snippet': 'Enhanced build and deployment processes using Python scripting for faster execution times. Experienced with build tools like Ant and Gradle to automate Java\\xa0...', 'highlighted_keywords': ['Python'], 'date': '', 'inline_snippet': 'Israel · DevOps Engineer from Linnovate · Ofek 324 Unit - IAF', 'rank': 2}, {'title': 'Mikh ~ - Dragonfly', 'link': 'https://www.linkedin.com/in/mikhjones', 'displayed_link': '24.4K+ followers', 'favicon': 'data:image/png;base64,iVBORw0KGgoAAAANSUhEUgAAABAAAAAQCAYAAAAf8/9hAAAAm0lEQVR4AWP4//8/RRhMyLfs3sNQvOk/KRikB24ATNB2yhEQJtoQuAEwzVAAYtPVAMJe4Cjf8l+0bsd/RkIGQAGc/ej9t/+TDt/7/+vPXzD/6Yfv/+2nHSXWAAT49P33/z9//4HZl559JM2Aqm3XwXyXGcfA/H///pFmgFj9DjCfp3IrTIgkA5ADbbAbQA6mKDPp9x7YBTOAIgwAVba5DGceMlQAAAAASUVORK5CYII=', 'source': 'LinkedIn\\xa0·\\xa0Mikh ~', 'snippet': \"Experience: Dragonfly · Education: Cornell University · Location: San Francisco · 500+ connections on LinkedIn. View Mikh ~'s profile on LinkedIn,\\xa0...\", 'highlighted_keywords': [], 'date': '', 'inline_snippet': 'San Francisco, California, United States · Dragonfly', 'rank': 3}, {'title': 'Ravi Bollampally - Capital BlueCross', 'link': 'https://www.linkedin.com/in/ravibollampally', 'displayed_link': '750+ followers', 'favicon': 'data:image/png;base64,iVBORw0KGgoAAAANSUhEUgAAABAAAAAQCAYAAAAf8/9hAAAAm0lEQVR4AWP4//8/RRhMyLfs3sNQvOk/KRikB24ATNB2yhEQJtoQuAEwzVAAYtPVAMJe4Cjf8l+0bsd/RkIGQAGc/ej9t/+TDt/7/+vPXzD/6Yfv/+2nHSXWAAT49P33/z9//4HZl559JM2Aqm3XwXyXGcfA/H///pFmgFj9DjCfp3IrTIgkA5ADbbAbQA6mKDPp9x7YBTOAIgwAVba5DGceMlQAAAAASUVORK5CYII=', 'source': 'LinkedIn\\xa0·\\xa0Ravi Bollampally', 'snippet': 'Ravi Bollampally, Capital BlueCross, Strayer University, About, Have 18+ years of experience in Software Development for web based and mobile.', 'highlighted_keywords': ['Software'], 'date': '', 'inline_snippet': 'Mechanicsburg, Pennsylvania, United States · Capital BlueCross', 'rank': 4}, {'title': 'Pradipta Arya Daniswara - Co-Founder & Chief ...', 'link': 'https://id.linkedin.com/in/pradipta-arya-daniswara', 'displayed_link': '1K+ followers', 'favicon': 'data:image/png;base64,iVBORw0KGgoAAAANSUhEUgAAABAAAAAQCAYAAAAf8/9hAAAAm0lEQVR4AWP4//8/RRhMyLfs3sNQvOk/KRikB24ATNB2yhEQJtoQuAEwzVAAYtPVAMJe4Cjf8l+0bsd/RkIGQAGc/ej9t/+TDt/7/+vPXzD/6Yfv/+2nHSXWAAT49P33/z9//4HZl559JM2Aqm3XwXyXGcfA/H///pFmgFj9DjCfp3IrTIgkA5ADbbAbQA6mKDPp9x7YBTOAIgwAVba5DGceMlQAAAAASUVORK5CYII=', 'source': 'LinkedIn\\xa0·\\xa0Pradipta Arya Daniswara', 'snippet': \"Led a team of developers to develop Avalon's first public website built using React.js, Next.js, Tailwind CSS, and Google Cloud Platform. Gambar Avalon\\xa0...\", 'highlighted_keywords': ['team', 'React', 'Google Cloud Platform', 'Avalon'], 'rank': 5}, {'title': 'Marko Markovic - izzzy', 'link': 'https://rs.linkedin.com/in/markovicmarco', 'displayed_link': '16.7K+ followers', 'favicon': 'data:image/png;base64,iVBORw0KGgoAAAANSUhEUgAAABAAAAAQCAYAAAAf8/9hAAAAm0lEQVR4AWP4//8/RRhMyLfs3sNQvOk/KRikB24ATNB2yhEQJtoQuAEwzVAAYtPVAMJe4Cjf8l+0bsd/RkIGQAGc/ej9t/+TDt/7/+vPXzD/6Yfv/+2nHSXWAAT49P33/z9//4HZl559JM2Aqm3XwXyXGcfA/H///pFmgFj9DjCfp3IrTIgkA5ADbbAbQA6mKDPp9x7YBTOAIgwAVba5DGceMlQAAAAASUVORK5CYII=', 'source': 'LinkedIn\\xa0·\\xa0Marko Markovic', 'snippet': 'Building E commerce website using php and sql. 2019 - 2020 Full stack web development, css3, html5, JavaScript, Python and Django.', 'highlighted_keywords': ['Python'], 'date': '', 'inline_snippet': 'Pirot, Centralna Srbija, Serbia · izzzy', 'rank': 6}, {'title': 'Manogna S - IT Manager - Consumer Experience - Unilever', 'link': 'https://in.linkedin.com/in/manogna-s', 'displayed_link': '1.4K+ followers', 'favicon': 'data:image/png;base64,iVBORw0KGgoAAAANSUhEUgAAABAAAAAQCAYAAAAf8/9hAAAAm0lEQVR4AWP4//8/RRhMyLfs3sNQvOk/KRikB24ATNB2yhEQJtoQuAEwzVAAYtPVAMJe4Cjf8l+0bsd/RkIGQAGc/ej9t/+TDt/7/+vPXzD/6Yfv/+2nHSXWAAT49P33/z9//4HZl559JM2Aqm3XwXyXGcfA/H///pFmgFj9DjCfp3IrTIgkA5ADbbAbQA6mKDPp9x7YBTOAIgwAVba5DGceMlQAAAAASUVORK5CYII=', 'source': 'LinkedIn\\xa0·\\xa0Manogna S', 'snippet': 'Steering the helm of consumer experience at Unilever, I harness my MBA knowledge and IT strategy acumen to drive innovation and user-centric solutions.', 'highlighted_keywords': [], 'date': '', 'inline_snippet': 'Mumbai, Maharashtra, India · IT Manager - Consumer Experience · Unilever', 'rank': 7}]\n"
     ]
    }
   ],
   "source": [
    "query = \"site:linkedin.com/in {} {} {}\".format(\n",
    "    valon.name, \" \".join(res['keywords'][:5]), \" \".join(res['positions'][:3])\n",
    ")\n",
    "print(query)\n",
    "search_res = serp_service._search(query)\n",
    "results = json.loads(search_res)[\"organic_results\"]\n",
    "print(\"Search Results: \", results)"
   ]
  },
  {
   "cell_type": "code",
   "execution_count": 32,
   "id": "915df171-8679-4d16-af77-b10615ec64f8",
   "metadata": {},
   "outputs": [
    {
     "data": {
      "text/plain": [
       "['Abhishek Kumar - Software Developer - Arista Networks',\n",
       " 'Yonathan Guez - DevOps Engineer from Linnovate',\n",
       " 'Mikh ~ - Dragonfly',\n",
       " 'Ravi Bollampally - Capital BlueCross',\n",
       " 'Pradipta Arya Daniswara - Co-Founder & Chief ...',\n",
       " 'Marko Markovic - izzzy',\n",
       " 'Manogna S - IT Manager - Consumer Experience - Unilever']"
      ]
     },
     "execution_count": 32,
     "metadata": {},
     "output_type": "execute_result"
    }
   ],
   "source": [
    "[r['title'] for r in results]"
   ]
  },
  {
   "cell_type": "code",
   "execution_count": null,
   "id": "cac3947a-5c1c-45ba-997f-3a2cb03852a0",
   "metadata": {},
   "outputs": [],
   "source": []
  }
 ],
 "metadata": {
  "kernelspec": {
   "display_name": "Python (reefer)",
   "language": "python",
   "name": "reefer"
  },
  "language_info": {
   "codemirror_mode": {
    "name": "ipython",
    "version": 3
   },
   "file_extension": ".py",
   "mimetype": "text/x-python",
   "name": "python",
   "nbconvert_exporter": "python",
   "pygments_lexer": "ipython3",
   "version": "3.12.5"
  }
 },
 "nbformat": 4,
 "nbformat_minor": 5
}
