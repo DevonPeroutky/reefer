{
 "cells": [
  {
   "cell_type": "code",
   "execution_count": 25,
   "id": "87aa4980-2cea-4067-b798-59a17fa2953a",
   "metadata": {},
   "outputs": [],
   "source": [
    "import os\n",
    "import sys\n",
    "\n",
    "module_path = os.path.abspath(os.path.join('..'))\n",
    "if module_path not in sys.path:\n",
    "    sys.path.a\n",
    "    ppend(module_path)\n",
    "\n",
    "from services.scraping_service import ScrapingService, PARSE_OPENINGS_LINK_PROMPT, PARSE_HTML_SYSTEM_PROMPT"
   ]
  },
  {
   "cell_type": "code",
   "execution_count": 48,
   "id": "32e671de-608f-46c5-a6f1-38061950a74b",
   "metadata": {},
   "outputs": [],
   "source": [
    "careers_page_url = \"https://job-boards.greenhouse.io/spotter\"\n",
    "company = \"spotter\""
   ]
  },
  {
   "cell_type": "code",
   "execution_count": 49,
   "id": "2cfe78cc-ef2f-4d4e-b2cc-35bc419ef636",
   "metadata": {},
   "outputs": [
    {
     "name": "stdout",
     "output_type": "stream",
     "text": [
      "Waiting for javascript to finish loading\n",
      "Done.\n"
     ]
    }
   ],
   "source": [
    "source = scraping_service.get_page_source(careers_page_url)\n",
    "links = scraping_service.fetch_all_links_from_webpage(source)"
   ]
  },
  {
   "cell_type": "code",
   "execution_count": 50,
   "id": "1e328307-e464-4edc-a2cf-340afd02d46e",
   "metadata": {},
   "outputs": [
    {
     "data": {
      "text/plain": [
       "[{'text': '', 'link': 'https://spotter.la/'},\n",
       " {'text': 'Account Manager (New York City)New York, New York, United States',\n",
       "  'link': 'https://job-boards.greenhouse.io/spotter/jobs/4450346005'},\n",
       " {'text': 'Ad Operations ManagerNew York, New York, United States',\n",
       "  'link': 'https://job-boards.greenhouse.io/spotter/jobs/4448782005'},\n",
       " {'text': 'Research AnalystNewCulver City, California, United States',\n",
       "  'link': 'https://job-boards.greenhouse.io/spotter/jobs/4463358005'},\n",
       " {'text': 'Manager, Product AnalyticsCulver City, California, United States',\n",
       "  'link': 'https://job-boards.greenhouse.io/spotter/jobs/4420424005'},\n",
       " {'text': 'Product Analytics LeadCulver City, California, United States',\n",
       "  'link': 'https://job-boards.greenhouse.io/spotter/jobs/4365397005'},\n",
       " {'text': 'Senior Data Scientist - LLMCulver City, California, United States',\n",
       "  'link': 'https://job-boards.greenhouse.io/spotter/jobs/4282898005'},\n",
       " {'text': 'AI EngineerCulver City, California, United States',\n",
       "  'link': 'https://job-boards.greenhouse.io/spotter/jobs/4413256005'},\n",
       " {'text': 'Principal Backend Engineer (Microservices)Culver City, California, United States',\n",
       "  'link': 'https://job-boards.greenhouse.io/spotter/jobs/4399899005'},\n",
       " {'text': 'Senior AI Prompt EngineerCulver City, California, United States',\n",
       "  'link': 'https://job-boards.greenhouse.io/spotter/jobs/4417247005'},\n",
       " {'text': 'Senior Backend EngineerCulver City, California, United States',\n",
       "  'link': 'https://job-boards.greenhouse.io/spotter/jobs/4324258005'},\n",
       " {'text': 'Senior Front End Engineer (React / NextJS)Culver City, California, United States',\n",
       "  'link': 'https://job-boards.greenhouse.io/spotter/jobs/4448044005'},\n",
       " {'text': 'Engineering Manager, Developer Productivity & DevOpsCulver City, California, United States',\n",
       "  'link': 'https://job-boards.greenhouse.io/spotter/jobs/4432984005'},\n",
       " {'text': 'Principal Data EngineerCulver City, California, United States',\n",
       "  'link': 'https://job-boards.greenhouse.io/spotter/jobs/4340457005'},\n",
       " {'text': 'Senior Backend API Software EngineerCulver City, California, United States',\n",
       "  'link': 'https://job-boards.greenhouse.io/spotter/jobs/4404606005'},\n",
       " {'text': 'Senior Data Engineer Culver City, California, United States',\n",
       "  'link': 'https://job-boards.greenhouse.io/spotter/jobs/4233120005'},\n",
       " {'text': 'General CounselCulver City, California, United States',\n",
       "  'link': 'https://job-boards.greenhouse.io/spotter/jobs/4401753005'},\n",
       " {'text': 'Senior Human Resources Business Partner (HRBP)Culver City, California, United States',\n",
       "  'link': 'https://job-boards.greenhouse.io/spotter/jobs/4423509005'},\n",
       " {'text': 'Director, Lifecycle MarketingCulver City, California, United States',\n",
       "  'link': 'https://job-boards.greenhouse.io/spotter/jobs/4415342005'},\n",
       " {'text': 'Greenhouse', 'link': 'http://www.greenhouse.io/'},\n",
       " {'text': 'Privacy Policy', 'link': 'http://www.greenhouse.io/privacy-policy'}]"
      ]
     },
     "execution_count": 50,
     "metadata": {},
     "output_type": "execute_result"
    }
   ],
   "source": [
    "links"
   ]
  },
  {
   "cell_type": "code",
   "execution_count": 59,
   "id": "1d9a452d-f373-4a97-ae3c-29e916639a01",
   "metadata": {},
   "outputs": [],
   "source": [
    "PARSE_HTML_SYSTEM_PROMPT = \"\"\"Your job is to simply return structured data as requested. You parse the full document and return all the results. Provide only the answer, with no additional text or explanation. Do not answer with I Understand or similiar\"\"\"\n",
    "PARSE_OPENINGS_LINK_PROMPT = \"\"\"\n",
    "This is a JSON list of links parsed from the html content of the {} careers page. This list contains either a list of job openings, or a link to the list of openings/roles/positions/jobs. If the list contains a list of opens or jobs or positions, return None. Otherwise, \n",
    "return the link to the open positions/roles/openings. Do not acknowledge this request, do not return JSON, simply return only either the link or None, with no additional text or explanation: \\n\\n {}\n",
    "\"\"\"\n",
    "\n",
    "link_prompt = PARSE_OPENINGS_LINK_PROMPT.format(company, links)"
   ]
  },
  {
   "cell_type": "code",
   "execution_count": 61,
   "id": "525406fd-38cd-4666-a058-b686bcaffd08",
   "metadata": {},
   "outputs": [
    {
     "name": "stdout",
     "output_type": "stream",
     "text": [
      "None\n"
     ]
    }
   ],
   "source": [
    "openings_link = scraping_service.create_message(\n",
    "    PARSE_HTML_SYSTEM_PROMPT,\n",
    "    link_prompt,\n",
    "    model=\"claude-3-5-sonnet-20240620\",\n",
    "    temperature=0.1,\n",
    "    max_tokens=4096,\n",
    ")\n",
    "print(openings_link)"
   ]
  },
  {
   "cell_type": "code",
   "execution_count": null,
   "id": "3abbc29e-a023-40c8-b084-5181e33dda04",
   "metadata": {},
   "outputs": [],
   "source": [
    "test_prompt = \"\"\"This is a JSON list of links parsed from the html content of the Spotter careers page. This list contains either a list of job openings, or a link to the list of openings/roles/positions/jobs. If the list contains a list of opens or jobs or positions, return None. Otherwise, \n",
    "return the link to the open positions/roles/openings. Do not acknowledge this request, simply return only the link, with no additional text or explanation: \n",
    "\n",
    " [{'text': '', 'link': 'https://spotter.la/'}, {'text': 'Account Manager (New York City)New York, New York, United States', 'link': 'https://job-boards.greenhouse.io/spotter/jobs/4450346005'}, {'text': 'Ad Operations ManagerNew York, New York, United States', 'link': 'https://job-boards.greenhouse.io/spotter/jobs/4448782005'\n",
    "}, {'text': 'Research AnalystNewCulver City, California, United States', 'link': 'https://job-boards.greenhouse.io/spotter/jobs/4463358005'}, {'text': 'Manager, Product AnalyticsCulver City, California, United States', 'link': 'https://job-boards.greenhouse.io/spotter/jobs/4420424005'}, {'text': 'Product Analytics LeadCulver\n",
    " City, California, United States', 'link': 'https://job-boards.greenhouse.io/spotter/jobs/4365397005'}, {'text': 'Senior Data Scientist - LLMCulver City, California, United States', 'link': 'https://job-boards.greenhouse.io/spotter/jobs/4282898005'}, {'text': 'AI EngineerCulver City, California, United States', 'link': 'http\n",
    "s://job-boards.greenhouse.io/spotter/jobs/4413256005'}, {'text': 'Principal Backend Engineer (Microservices)Culver City, California, United States', 'link': 'https://job-boards.greenhouse.io/spotter/jobs/4399899005'}, {'text': 'Senior AI Prompt EngineerCulver City, California, United States', 'link': 'https://job-boards.gree\n",
    "nhouse.io/spotter/jobs/4417247005'}, {'text': 'Senior Backend EngineerCulver City, California, United States', 'link': 'https://job-boards.greenhouse.io/spotter/jobs/4324258005'}, {'text': 'Senior Front End Engineer (React / NextJS)Culver City, California, United States', 'link': 'https://job-boards.greenhouse.io/spotter/job\n",
    "s/4448044005'}, {'text': 'Engineering Manager, Developer Productivity & DevOpsCulver City, California, United States', 'link': 'https://job-boards.greenhouse.io/spotter/jobs/4432984005'}, {'text': 'Principal Data EngineerCulver City, California, United States', 'link': 'https://job-boards.greenhouse.io/spotter/jobs/434045700\n",
    "5'}, {'text': 'Senior Backend API Software EngineerCulver City, California, United States', 'link': 'https://job-boards.greenhouse.io/spotter/jobs/4404606005'}, {'text': 'Senior Data Engineer Culver City, California, United States', 'link': 'https://job-boards.greenhouse.io/spotter/jobs/4233120005'}, {'text': 'General Counse\n",
    "lCulver City, California, United States', 'link': 'https://job-boards.greenhouse.io/spotter/jobs/4401753005'}, {'text': 'Senior Human Resources Business Partner (HRBP)Culver City, California, United States', 'link': 'https://job-boards.greenhouse.io/spotter/jobs/4423509005'}, {'text': 'Director, Lifecycle MarketingCulver Cit\n",
    "y, California, United States', 'link': 'https://job-boards.greenhouse.io/spotter/jobs/4415342005'}, {'text': 'Greenhouse', 'link': 'http://www.greenhouse.io/'}, {'text': 'Privacy Policy', 'link': 'http://www.greenhouse.io/privacy-policy'}]\"\"\"\n",
    "\n",
    "openings_link = scraping_service.create_message(\n",
    "    PARSE_HTML_SYSTEM_PROMPT,\n",
    "    test_prompt,\n",
    "    model=\"claude-3-5-sonnet-20240620\",\n",
    "    temperature=0.1,\n",
    "    max_tokens=4096,\n",
    ")\n",
    "print(openings_link)"
   ]
  },
  {
   "cell_type": "code",
   "execution_count": 60,
   "id": "10a4b7e1-d324-4754-b31d-35fa8d5d7c12",
   "metadata": {},
   "outputs": [
    {
     "name": "stdout",
     "output_type": "stream",
     "text": [
      "\n",
      "This is a JSON list of links parsed from the html content of the spotter careers page. This list contains either a list of job openings, or a link to the list of openings/roles/positions/jobs. If the list contains a list of opens or jobs or positions, return None. Otherwise, \n",
      "return the link to the open positions/roles/openings. Do not acknowledge this request, do not return JSON, simply return only either the link or None, with no additional text or explanation: \n",
      "\n",
      " [{'text': '', 'link': 'https://spotter.la/'}, {'text': 'Account Manager (New York City)New York, New York, United States', 'link': 'https://job-boards.greenhouse.io/spotter/jobs/4450346005'}, {'text': 'Ad Operations ManagerNew York, New York, United States', 'link': 'https://job-boards.greenhouse.io/spotter/jobs/4448782005'}, {'text': 'Research AnalystNewCulver City, California, United States', 'link': 'https://job-boards.greenhouse.io/spotter/jobs/4463358005'}, {'text': 'Manager, Product AnalyticsCulver City, California, United States', 'link': 'https://job-boards.greenhouse.io/spotter/jobs/4420424005'}, {'text': 'Product Analytics LeadCulver City, California, United States', 'link': 'https://job-boards.greenhouse.io/spotter/jobs/4365397005'}, {'text': 'Senior Data Scientist - LLMCulver City, California, United States', 'link': 'https://job-boards.greenhouse.io/spotter/jobs/4282898005'}, {'text': 'AI EngineerCulver City, California, United States', 'link': 'https://job-boards.greenhouse.io/spotter/jobs/4413256005'}, {'text': 'Principal Backend Engineer (Microservices)Culver City, California, United States', 'link': 'https://job-boards.greenhouse.io/spotter/jobs/4399899005'}, {'text': 'Senior AI Prompt EngineerCulver City, California, United States', 'link': 'https://job-boards.greenhouse.io/spotter/jobs/4417247005'}, {'text': 'Senior Backend EngineerCulver City, California, United States', 'link': 'https://job-boards.greenhouse.io/spotter/jobs/4324258005'}, {'text': 'Senior Front End Engineer (React / NextJS)Culver City, California, United States', 'link': 'https://job-boards.greenhouse.io/spotter/jobs/4448044005'}, {'text': 'Engineering Manager, Developer Productivity & DevOpsCulver City, California, United States', 'link': 'https://job-boards.greenhouse.io/spotter/jobs/4432984005'}, {'text': 'Principal Data EngineerCulver City, California, United States', 'link': 'https://job-boards.greenhouse.io/spotter/jobs/4340457005'}, {'text': 'Senior Backend API Software EngineerCulver City, California, United States', 'link': 'https://job-boards.greenhouse.io/spotter/jobs/4404606005'}, {'text': 'Senior Data Engineer Culver City, California, United States', 'link': 'https://job-boards.greenhouse.io/spotter/jobs/4233120005'}, {'text': 'General CounselCulver City, California, United States', 'link': 'https://job-boards.greenhouse.io/spotter/jobs/4401753005'}, {'text': 'Senior Human Resources Business Partner (HRBP)Culver City, California, United States', 'link': 'https://job-boards.greenhouse.io/spotter/jobs/4423509005'}, {'text': 'Director, Lifecycle MarketingCulver City, California, United States', 'link': 'https://job-boards.greenhouse.io/spotter/jobs/4415342005'}, {'text': 'Greenhouse', 'link': 'http://www.greenhouse.io/'}, {'text': 'Privacy Policy', 'link': 'http://www.greenhouse.io/privacy-policy'}]\n",
      "\n"
     ]
    }
   ],
   "source": [
    "print(link_prompt)"
   ]
  },
  {
   "cell_type": "code",
   "execution_count": 57,
   "id": "b07990c2-d764-4045-9821-b018d431a62a",
   "metadata": {},
   "outputs": [
    {
     "name": "stdout",
     "output_type": "stream",
     "text": [
      "This is a JSON list of links parsed from the html content of the Spotter careers page. This list contains either a list of job openings, or a link to the list of openings/roles/positions/jobs. If the list contains a list of opens or jobs or positions, return none. Otherwise, \n",
      "return the link to the open positions/roles/openings. Do not acknowledge this request, simply return only the link, with no additional text or explanation: \n",
      " [{'text': '', 'link': 'https://spotter.la/'}, {'text': 'Account Manager (New York City)New York, New York, United States', 'link': 'https://job-boards.greenhouse.io/spotter/jobs/4450346005'}, {'text': 'Ad Operations ManagerNew York, New York, United States', 'link': 'https://job-boards.greenhouse.io/spotter/jobs/4448782005'\n",
      "}, {'text': 'Research AnalystNewCulver City, California, United States', 'link': 'https://job-boards.greenhouse.io/spotter/jobs/4463358005'}, {'text': 'Manager, Product AnalyticsCulver City, California, United States', 'link': 'https://job-boards.greenhouse.io/spotter/jobs/4420424005'}, {'text': 'Product Analytics LeadCulver\n",
      " City, California, United States', 'link': 'https://job-boards.greenhouse.io/spotter/jobs/4365397005'}, {'text': 'Senior Data Scientist - LLMCulver City, California, United States', 'link': 'https://job-boards.greenhouse.io/spotter/jobs/4282898005'}, {'text': 'AI EngineerCulver City, California, United States', 'link': 'http\n",
      "s://job-boards.greenhouse.io/spotter/jobs/4413256005'}, {'text': 'Principal Backend Engineer (Microservices)Culver City, California, United States', 'link': 'https://job-boards.greenhouse.io/spotter/jobs/4399899005'}, {'text': 'Senior AI Prompt EngineerCulver City, California, United States', 'link': 'https://job-boards.gree\n",
      "nhouse.io/spotter/jobs/4417247005'}, {'text': 'Senior Backend EngineerCulver City, California, United States', 'link': 'https://job-boards.greenhouse.io/spotter/jobs/4324258005'}, {'text': 'Senior Front End Engineer (React / NextJS)Culver City, California, United States', 'link': 'https://job-boards.greenhouse.io/spotter/job\n",
      "s/4448044005'}, {'text': 'Engineering Manager, Developer Productivity & DevOpsCulver City, California, United States', 'link': 'https://job-boards.greenhouse.io/spotter/jobs/4432984005'}, {'text': 'Principal Data EngineerCulver City, California, United States', 'link': 'https://job-boards.greenhouse.io/spotter/jobs/434045700\n",
      "5'}, {'text': 'Senior Backend API Software EngineerCulver City, California, United States', 'link': 'https://job-boards.greenhouse.io/spotter/jobs/4404606005'}, {'text': 'Senior Data Engineer Culver City, California, United States', 'link': 'https://job-boards.greenhouse.io/spotter/jobs/4233120005'}, {'text': 'General Counse\n",
      "lCulver City, California, United States', 'link': 'https://job-boards.greenhouse.io/spotter/jobs/4401753005'}, {'text': 'Senior Human Resources Business Partner (HRBP)Culver City, California, United States', 'link': 'https://job-boards.greenhouse.io/spotter/jobs/4423509005'}, {'text': 'Director, Lifecycle MarketingCulver Cit\n",
      "y, California, United States', 'link': 'https://job-boards.greenhouse.io/spotter/jobs/4415342005'}, {'text': 'Greenhouse', 'link': 'http://www.greenhouse.io/'}, {'text': 'Privacy Policy', 'link': 'http://www.greenhouse.io/privacy-policy'}]\n"
     ]
    }
   ],
   "source": [
    "print(test_prompt)"
   ]
  },
  {
   "cell_type": "code",
   "execution_count": null,
   "id": "69cb24d9-feb2-4beb-8ef4-9641835f3e76",
   "metadata": {},
   "outputs": [],
   "source": []
  }
 ],
 "metadata": {
  "kernelspec": {
   "display_name": "Python (reefer)",
   "language": "python",
   "name": "reefer"
  },
  "language_info": {
   "codemirror_mode": {
    "name": "ipython",
    "version": 3
   },
   "file_extension": ".py",
   "mimetype": "text/x-python",
   "name": "python",
   "nbconvert_exporter": "python",
   "pygments_lexer": "ipython3",
   "version": "3.12.5"
  }
 },
 "nbformat": 4,
 "nbformat_minor": 5
}
