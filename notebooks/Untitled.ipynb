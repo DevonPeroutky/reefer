{
 "cells": [
  {
   "cell_type": "code",
   "execution_count": 1,
   "id": "87aa4980-2cea-4067-b798-59a17fa2953a",
   "metadata": {},
   "outputs": [],
   "source": [
    "import os\n",
    "import sys\n",
    "import asyncio\n",
    "\n",
    "module_path = os.path.abspath(os.path.join('..'))\n",
    "if module_path not in sys.path:\n",
    "    sys.path.append(module_path)"
   ]
  },
  {
   "cell_type": "code",
   "execution_count": 2,
   "id": "32e671de-608f-46c5-a6f1-38061950a74b",
   "metadata": {},
   "outputs": [],
   "source": [
    "careers_page_url = \"https://job-boards.greenhouse.io/spotter\"\n",
    "company = \"spotter\""
   ]
  },
  {
   "cell_type": "code",
   "execution_count": null,
   "id": "2cfe78cc-ef2f-4d4e-b2cc-35bc419ef636",
   "metadata": {},
   "outputs": [],
   "source": [
    "source = scraping_service.get_page_source(careers_page_url)\n",
    "links = scraping_service.fetch_all_links_from_webpage(source)"
   ]
  },
  {
   "cell_type": "code",
   "execution_count": null,
   "id": "1e328307-e464-4edc-a2cf-340afd02d46e",
   "metadata": {},
   "outputs": [],
   "source": [
    "links"
   ]
  },
  {
   "cell_type": "code",
   "execution_count": null,
   "id": "1d9a452d-f373-4a97-ae3c-29e916639a01",
   "metadata": {},
   "outputs": [],
   "source": [
    "PARSE_HTML_SYSTEM_PROMPT = \"\"\"Your job is to simply return structured data as requested. You parse the full document and return all the results. Provide only the answer, with no additional text or explanation. Do not answer with I Understand or similiar\"\"\"\n",
    "PARSE_OPENINGS_LINK_PROMPT = \"\"\"\n",
    "This is a JSON list of links parsed from the html content of the {} careers page. This list contains either a list of job openings, or a link to the list of openings/roles/positions/jobs. If the list contains a list of opens or jobs or positions, return None. Otherwise, \n",
    "return the link to the open positions/roles/openings. Do not acknowledge this request, do not return JSON, simply return only either the link or None, with no additional text or explanation: \\n\\n {}\n",
    "\"\"\"\n",
    "\n",
    "link_prompt = PARSE_OPENINGS_LINK_PROMPT.format(company, links)"
   ]
  },
  {
   "cell_type": "code",
   "execution_count": null,
   "id": "525406fd-38cd-4666-a058-b686bcaffd08",
   "metadata": {},
   "outputs": [],
   "source": [
    "openings_link = scraping_service.create_message(\n",
    "    PARSE_HTML_SYSTEM_PROMPT,\n",
    "    link_prompt,\n",
    "    model=\"claude-3-5-sonnet-20240620\",\n",
    "    temperature=0.1,\n",
    "    max_tokens=4096,\n",
    ")\n",
    "print(openings_link)"
   ]
  },
  {
   "cell_type": "code",
   "execution_count": null,
   "id": "3abbc29e-a023-40c8-b084-5181e33dda04",
   "metadata": {},
   "outputs": [],
   "source": [
    "test_prompt = \"\"\"This is a JSON list of links parsed from the html content of the Spotter careers page. This list contains either a list of job openings, or a link to the list of openings/roles/positions/jobs. If the list contains a list of opens or jobs or positions, return None. Otherwise, \n",
    "return the link to the open positions/roles/openings. Do not acknowledge this request, simply return only the link, with no additional text or explanation: \n",
    "\n",
    " [{'text': '', 'link': 'https://spotter.la/'}, {'text': 'Account Manager (New York City)New York, New York, United States', 'link': 'https://job-boards.greenhouse.io/spotter/jobs/4450346005'}, {'text': 'Ad Operations ManagerNew York, New York, United States', 'link': 'https://job-boards.greenhouse.io/spotter/jobs/4448782005'\n",
    "}, {'text': 'Research AnalystNewCulver City, California, United States', 'link': 'https://job-boards.greenhouse.io/spotter/jobs/4463358005'}, {'text': 'Manager, Product AnalyticsCulver City, California, United States', 'link': 'https://job-boards.greenhouse.io/spotter/jobs/4420424005'}, {'text': 'Product Analytics LeadCulver\n",
    " City, California, United States', 'link': 'https://job-boards.greenhouse.io/spotter/jobs/4365397005'}, {'text': 'Senior Data Scientist - LLMCulver City, California, United States', 'link': 'https://job-boards.greenhouse.io/spotter/jobs/4282898005'}, {'text': 'AI EngineerCulver City, California, United States', 'link': 'http\n",
    "s://job-boards.greenhouse.io/spotter/jobs/4413256005'}, {'text': 'Principal Backend Engineer (Microservices)Culver City, California, United States', 'link': 'https://job-boards.greenhouse.io/spotter/jobs/4399899005'}, {'text': 'Senior AI Prompt EngineerCulver City, California, United States', 'link': 'https://job-boards.gree\n",
    "nhouse.io/spotter/jobs/4417247005'}, {'text': 'Senior Backend EngineerCulver City, California, United States', 'link': 'https://job-boards.greenhouse.io/spotter/jobs/4324258005'}, {'text': 'Senior Front End Engineer (React / NextJS)Culver City, California, United States', 'link': 'https://job-boards.greenhouse.io/spotter/job\n",
    "s/4448044005'}, {'text': 'Engineering Manager, Developer Productivity & DevOpsCulver City, California, United States', 'link': 'https://job-boards.greenhouse.io/spotter/jobs/4432984005'}, {'text': 'Principal Data EngineerCulver City, California, United States', 'link': 'https://job-boards.greenhouse.io/spotter/jobs/434045700\n",
    "5'}, {'text': 'Senior Backend API Software EngineerCulver City, California, United States', 'link': 'https://job-boards.greenhouse.io/spotter/jobs/4404606005'}, {'text': 'Senior Data Engineer Culver City, California, United States', 'link': 'https://job-boards.greenhouse.io/spotter/jobs/4233120005'}, {'text': 'General Counse\n",
    "lCulver City, California, United States', 'link': 'https://job-boards.greenhouse.io/spotter/jobs/4401753005'}, {'text': 'Senior Human Resources Business Partner (HRBP)Culver City, California, United States', 'link': 'https://job-boards.greenhouse.io/spotter/jobs/4423509005'}, {'text': 'Director, Lifecycle MarketingCulver Cit\n",
    "y, California, United States', 'link': 'https://job-boards.greenhouse.io/spotter/jobs/4415342005'}, {'text': 'Greenhouse', 'link': 'http://www.greenhouse.io/'}, {'text': 'Privacy Policy', 'link': 'http://www.greenhouse.io/privacy-policy'}]\"\"\"\n",
    "\n",
    "openings_link = scraping_service.create_message(\n",
    "    PARSE_HTML_SYSTEM_PROMPT,\n",
    "    test_prompt,\n",
    "    model=\"claude-3-5-sonnet-20240620\",\n",
    "    temperature=0.1,\n",
    "    max_tokens=4096,\n",
    ")\n",
    "print(openings_link)"
   ]
  },
  {
   "cell_type": "code",
   "execution_count": null,
   "id": "10a4b7e1-d324-4754-b31d-35fa8d5d7c12",
   "metadata": {},
   "outputs": [],
   "source": [
    "print(link_prompt)"
   ]
  },
  {
   "cell_type": "code",
   "execution_count": null,
   "id": "b07990c2-d764-4045-9821-b018d431a62a",
   "metadata": {},
   "outputs": [],
   "source": [
    "print(test_prompt)"
   ]
  },
  {
   "cell_type": "markdown",
   "id": "06d50668-3ce7-4b91-b676-691317c5152d",
   "metadata": {},
   "source": [
    "# Research Company"
   ]
  },
  {
   "cell_type": "code",
   "execution_count": null,
   "id": "213d2e67-0be8-4be6-bb2c-55d188fc7b81",
   "metadata": {},
   "outputs": [],
   "source": [
    "from typing import List, Optional\n",
    "import asyncio\n",
    "\n",
    "from typing import List, Optional, AsyncGenerator, Any\n",
    "\n",
    "from app.actions.find_company_action import FindCompanyAction\n",
    "from app.actions.parse_openings_action import ParseOpeningsAction\n",
    "from app.actions.find_contacts_action import FindContactsAction\n",
    "from app import Company, Contact, JobOpening\n",
    "from app.actions.research_job_action import ResearchJobAction\n",
    "from app.services.serp_service import SerpService\n",
    "from app.services.scraping_service import ScrapingService\n"
   ]
  },
  {
   "cell_type": "code",
   "execution_count": null,
   "id": "69cb24d9-feb2-4beb-8ef4-9641835f3e76",
   "metadata": {},
   "outputs": [],
   "source": [
    "async def research_job_openings(self, job_ids: List[str]):\n",
    "    assert self.company, \"Company is not determined?\"\n",
    "\n",
    "    desired_job_openings = list(\n",
    "        filter(lambda job: job.id in job_ids, self.openings)\n",
    "    )\n",
    "    print(\"Desired Job Openings: \", desired_job_openings)\n",
    "\n",
    "    generators = [\n",
    "        ResearchJobAction(job_opening=job).yield_action_stream()\n",
    "        for job in desired_job_openings\n",
    "    ]\n",
    "\n",
    "    async for res in asyncio.as_completed(generators):\n",
    "        print(\"Yielding research: \", res)\n",
    "        yield res\n",
    "\n",
    "\n",
    "spotter = Company(\n",
    "    name=\"Spotter\",\n",
    "    opening_link=\"https://job-boards.greenhouse.io/spotter\",\n",
    "    careers_link=\"https://job-boards.greenhouse.io/spotter\",\n",
    ")\n",
    "\n",
    "\n",
    "openings = [\n",
    "    JobOpening(\n",
    "        id=\"0\",\n",
    "        company=spotter,\n",
    "        title=\"AI Engineer\",\n",
    "        location=\"Los Angeles, CA\",\n",
    "        link=\"https://job-boards.greenhouse.io/spotter/jobs/4413256005\",\n",
    "        related=True\n",
    "    ),\n",
    "    JobOpening(\n",
    "        id=\"1\",\n",
    "        company=spotter,\n",
    "        title=\"Senior AI Prompt Engineer\",\n",
    "        location=\"Los Angeles, CA\",\n",
    "        link=\"https://job-boards.greenhouse.io/spotter/jobs/4417247005\",\n",
    "        related=True,\n",
    "    ),\n",
    "]"
   ]
  },
  {
   "cell_type": "code",
   "execution_count": null,
   "id": "ebb45009-9b8e-4734-ad4b-19e0b20494d8",
   "metadata": {},
   "outputs": [],
   "source": [
    "def research_job_openings(job_ids: List[str]):\n",
    "    desired_job_openings = list(\n",
    "        filter(lambda job: job.id in job_ids, openings)\n",
    "    )\n",
    "    print(\"Desired Job Openings: \", desired_job_openings)\n",
    "\n",
    "    return [\n",
    "        ResearchJobAction(job_opening=job).yield_action_stream()\n",
    "        for job in desired_job_openings\n",
    "    ]"
   ]
  },
  {
   "cell_type": "code",
   "execution_count": null,
   "id": "e4aa4d5e-f3e5-4af6-89a3-916e216d3bb5",
   "metadata": {},
   "outputs": [],
   "source": [
    "async def main():\n",
    "    # Consume the async generator using async for\n",
    "    async for value in research_job_openings([\"0\", \"1\"]):\n",
    "        print(f\"Received: {value}\")"
   ]
  },
  {
   "cell_type": "code",
   "execution_count": null,
   "id": "a8b0e5b3-8f8b-4687-939e-0ac058623943",
   "metadata": {},
   "outputs": [],
   "source": [
    "async def main():\n",
    "    f = )\n",
    "    print(f)\n",
    "    async for value in combine_generators(*research_job_openings([\"0\", \"1\"]):\n",
    "        print(value)\n",
    "        \n",
    "await main()"
   ]
  },
  {
   "cell_type": "code",
   "execution_count": 6,
   "id": "f6b89e80-c463-4f30-825c-d3cd52921e0e",
   "metadata": {},
   "outputs": [
    {
     "name": "stdout",
     "output_type": "stream",
     "text": [
      "Slow: 0\n",
      "Rescheduling next_task  <Task pending name='Task-15' coro=<<anext_awaitable without __name__>()>>\n",
      "Extra Slow: 0\n",
      "Rescheduling next_task  <Task pending name='Task-16' coro=<<anext_awaitable without __name__>()>>\n",
      "Slow: 1\n",
      "Rescheduling next_task  <Task pending name='Task-17' coro=<<anext_awaitable without __name__>()>>\n",
      "Extra Slow: 1\n",
      "Rescheduling next_task  <Task pending name='Task-18' coro=<<anext_awaitable without __name__>()>>\n",
      "DONE\n"
     ]
    }
   ],
   "source": [
    "import asyncio\n",
    "from typing import AsyncIterator\n",
    "\n",
    "async def combine_generators_as_completed(*generators: AsyncIterator) -> AsyncIterator:\n",
    "    \"\"\"\n",
    "    Combines multiple async generators into a single async iterator that yields\n",
    "    results as soon as they are available from any generator.\n",
    "\n",
    "    Args:\n",
    "        generators (AsyncIterator): A variable number of async generators.\n",
    "\n",
    "    Yields:\n",
    "        The items produced by the combined generators as they become available.\n",
    "    \"\"\"\n",
    "    # Create an initial list of tasks to pull the first item from each generator\n",
    "    tasks = [asyncio.create_task(anext(gen, None)) for gen in generators]\n",
    "\n",
    "    # Map tasks to their corresponding generators\n",
    "    generator_map = {task: gen for task, gen in zip(tasks, generators)}\n",
    "\n",
    "    # Process tasks as they complete\n",
    "    while tasks:\n",
    "        # Iterate over tasks as they complete\n",
    "        for task in asyncio.as_completed(tasks):\n",
    "            result = await task\n",
    "\n",
    "            # Yield the result if it's not None\n",
    "            if result is not None:\n",
    "                yield result\n",
    "\n",
    "            # Retrieve the generator associated with the completed task\n",
    "            gen = generator_map.pop(task)\n",
    "\n",
    "            # Schedule the next item from the generator\n",
    "            next_task = asyncio.create_task(anext(gen, None))\n",
    "\n",
    "            # If the generator is exhausted, the next_task will complete immediately with None\n",
    "            if not next_task.done():\n",
    "                tasks.append(next_task)\n",
    "                generator_map[next_task] = gen\n",
    "\n",
    "        # Clean up tasks that have completed\n",
    "        tasks = [t for t in tasks if not t.done()]\n",
    "\n",
    "\n",
    "async def combine_generators_task_group(*generators: AsyncIterator) -> AsyncIterator:\n",
    "    async with asyncio.TaskGroup() as tg:\n",
    "        nexts = [tg.create_task(anext(gen, None)) for gen in generators]\n",
    "        while not all(task.done() for task in nexts):\n",
    "            await asyncio.wait(nexts, return_when=asyncio.FIRST_COMPLETED)\n",
    "            for idx, task in enumerate(nexts):\n",
    "                if task.done():\n",
    "                    if (result := task.result()) is None:\n",
    "                        continue\n",
    "                    yield result\n",
    "                    nexts[idx] = tg.create_task(anext(generators[idx], None))\n",
    "\n",
    "async def combine_generators(*generators: AsyncIterator) -> AsyncIterator:\n",
    "    tasks = {asyncio.create_task(anext(gen, None)): gen for gen in generators}\n",
    "\n",
    "    while tasks:\n",
    "        # Wait for the first task to complete and yield the result\n",
    "        done, pending = await asyncio.wait(tasks, return_when=asyncio.FIRST_COMPLETED)\n",
    "        for task in done:\n",
    "            if (result := task.result()) is not None:\n",
    "                yield result\n",
    "            \n",
    "            generator = tasks.pop(task)\n",
    "\n",
    "            if result and generator:\n",
    "                next_task = asyncio.create_task(anext(generator, None))\n",
    "                print(\"Rescheduling next_task \", next_task)\n",
    "                tasks[next_task] = generator\n",
    "\n",
    "# Example usage\n",
    "async def async_gen(name: str, count: int, delay: float):\n",
    "    for i in range(count):\n",
    "        await asyncio.sleep(delay)\n",
    "        yield f\"{name}: {i}\"\n",
    "\n",
    "async def main():\n",
    "    gen1 = async_gen(\"Fast\", 3, 0.5)\n",
    "    gen2 = async_gen(\"Slow\", 2, 1.0)\n",
    "    gen3 = async_gen(\"Extra Slow\", 2, 2.0)\n",
    "    \n",
    "    async for item in combine_generators(gen2, gen3):\n",
    "        print(item)\n",
    "\n",
    "await main()\n",
    "print(\"DONE\")"
   ]
  },
  {
   "cell_type": "code",
   "execution_count": 20,
   "id": "a86c55ce-4b13-49a0-87ff-a4dae6a30a87",
   "metadata": {},
   "outputs": [],
   "source": [
    "from app.services.action_planner import Agent\n",
    "from app.services.scraping_service import DummyScrapingService\n",
    "from app.services.serp_service import DummySearchService\n",
    "from app.actions.research_job_action import ResearchJobAction\n",
    "from app.stub_data import spotter, spotter_openings\n",
    "from app.utils.asyncio import combine_generators\n",
    "from datetime import datetime\n",
    "from app.services.serp_service import SearchService, SerpService\n",
    "from app import Company\n",
    "import json\n",
    "\n",
    "agent = Agent(\n",
    "    serp_service=DummySearchService(), scraping_service=DummyScrapingService()\n",
    ")"
   ]
  },
  {
   "cell_type": "code",
   "execution_count": 3,
   "id": "cb63c22e-6bbf-43e0-8786-1fcf89a23673",
   "metadata": {},
   "outputs": [],
   "source": [
    "async def research_job_openings(desired_job_openings):\n",
    "    generators = [\n",
    "            ResearchJobAction(\n",
    "                job_opening=job, scraping_service=DummyScrapingService()\n",
    "            ).yield_action_stream()\n",
    "            for job in desired_job_openings\n",
    "        ]\n",
    "\n",
    "    async for res in combine_generators(*generators):\n",
    "        yield res\n",
    "        await asyncio.sleep(0.1)"
   ]
  },
  {
   "cell_type": "code",
   "execution_count": 4,
   "id": "3fb95525-5f35-4fa3-a47c-7a7788384b98",
   "metadata": {},
   "outputs": [
    {
     "name": "stdout",
     "output_type": "stream",
     "text": [
      "[2024-09-07 15:15:08] ----- RETURNING TO CLIENT -----\n",
      "[2024-09-07 15:15:08] ----- RETURNED -----\n",
      "Evaluating task lifecyle...\n",
      "Rescheduling next_task  <Task pending name='Task 0' coro=<<anext_awaitable without __name__>()>>\n",
      "[2024-09-07 15:15:08] ----- RETURNING TO CLIENT -----\n",
      "[2024-09-07 15:15:08] ----- RETURNED -----\n",
      "Evaluating task lifecyle...\n",
      "Rescheduling next_task  <Task pending name='Task 1' coro=<<anext_awaitable without __name__>()>>\n",
      "Searching for query terms for  AI Engineer (https://job-boards.greenhouse.io/spotter/jobs/4413256005) in a seperate thread...\n",
      "Searching for query terms for  Senior AI Prompt Engineer (https://job-boards.greenhouse.io/spotter/jobs/4417247005) in a seperate thread...\n",
      "[2024-09-07 15:15:11] ----- RETURNING TO CLIENT -----\n",
      "[2024-09-07 15:15:11] ----- RETURNED -----\n",
      "Evaluating task lifecyle...\n",
      "Rescheduling next_task  <Task pending name='Task 0' coro=<<anext_awaitable without __name__>()>>\n",
      "Evaluating task lifecyle...\n",
      "[2024-09-07 15:15:14] ----- RETURNING TO CLIENT -----\n",
      "[2024-09-07 15:15:14] ----- RETURNED -----\n",
      "Evaluating task lifecyle...\n",
      "Rescheduling next_task  <Task pending name='Task 1' coro=<<anext_awaitable without __name__>()>>\n",
      "Evaluating task lifecyle...\n"
     ]
    }
   ],
   "source": [
    "async for res in research_job_openings(spotter_openings):\n",
    "    # Get current time and format it\n",
    "    current_time = datetime.now().strftime(\"%Y-%m-%d %H:%M:%S\")\n",
    "    print(f\"[{current_time}] ----- RETURNING TO CLIENT -----\")\n",
    "    # print(f\"[{current_time}] {res}\")\n",
    "    print(f\"[{current_time}] ----- RETURNED -----\")"
   ]
  },
  {
   "cell_type": "code",
   "execution_count": 12,
   "id": "73a2ce6e-6b94-4fc0-9b9d-f684e10aedd3",
   "metadata": {},
   "outputs": [],
   "source": [
    "serp_service=SerpService()"
   ]
  },
  {
   "cell_type": "code",
   "execution_count": 23,
   "id": "e3ff7282-f0dc-4508-8321-ab344151782c",
   "metadata": {},
   "outputs": [
    {
     "name": "stdout",
     "output_type": "stream",
     "text": [
      "Search QUERY:  site:https://linkedin.com/in valon Python Engineering Manager\n",
      "Search Results:  [{'title': 'Jonathan Hsu - Valon', 'link': 'https://www.linkedin.com/in/jonathan-r-hsu', 'displayed_link': '740+ followers', 'favicon': 'data:image/png;base64,iVBORw0KGgoAAAANSUhEUgAAABAAAAAQCAYAAAAf8/9hAAAAm0lEQVR4AWP4//8/RRhMyLfs3sNQvOk/KRikB24ATNB2yhEQJtoQuAEwzVAAYtPVAMJe4Cjf8l+0bsd/RkIGQAGc/ej9t/+TDt/7/+vPXzD/6Yfv/+2nHSXWAAT49P33/z9//4HZl559JM2Aqm3XwXyXGcfA/H///pFmgFj9DjCfp3IrTIgkA5ADbbAbQA6mKDPp9x7YBTOAIgwAVba5DGceMlQAAAAASUVORK5CYII=', 'source': 'LinkedIn\\xa0·\\xa0Jonathan Hsu', 'snippet': 'Experience: Valon · Education: Carnegie Mellon University · Location: New York City Metropolitan Area · 500+ connections on LinkedIn.', 'highlighted_keywords': ['Valon'], 'date': '', 'inline_snippet': 'New York City Metropolitan Area · Valon', 'rank': 1}, {'title': 'Michael Morel - Valon', 'link': 'https://www.linkedin.com/in/whoismichaelj', 'displayed_link': 'https://www.linkedin.com › whoismichaelj', 'favicon': 'data:image/png;base64,iVBORw0KGgoAAAANSUhEUgAAABAAAAAQCAYAAAAf8/9hAAAAm0lEQVR4AWP4//8/RRhMyLfs3sNQvOk/KRikB24ATNB2yhEQJtoQuAEwzVAAYtPVAMJe4Cjf8l+0bsd/RkIGQAGc/ej9t/+TDt/7/+vPXzD/6Yfv/+2nHSXWAAT49P33/z9//4HZl559JM2Aqm3XwXyXGcfA/H///pFmgFj9DjCfp3IrTIgkA5ADbbAbQA6mKDPp9x7YBTOAIgwAVba5DGceMlQAAAAASUVORK5CYII=', 'source': 'LinkedIn', 'snippet': \"Currently working in C Language and Python. Project Manager and Co-Founder of 42 USA's Climbing Center.\", 'highlighted_keywords': ['Python', 'Manager'], 'date': '', 'inline_snippet': 'New York, New York, United States · Valon', 'rank': 2}, {'title': 'Luke Chang - Analytics Manager - Valon', 'link': 'https://www.linkedin.com/in/luke-chang-a8534265', 'displayed_link': '1.2K+ followers', 'favicon': 'data:image/png;base64,iVBORw0KGgoAAAANSUhEUgAAABAAAAAQCAYAAAAf8/9hAAAAm0lEQVR4AWP4//8/RRhMyLfs3sNQvOk/KRikB24ATNB2yhEQJtoQuAEwzVAAYtPVAMJe4Cjf8l+0bsd/RkIGQAGc/ej9t/+TDt/7/+vPXzD/6Yfv/+2nHSXWAAT49P33/z9//4HZl559JM2Aqm3XwXyXGcfA/H///pFmgFj9DjCfp3IrTIgkA5ADbbAbQA6mKDPp9x7YBTOAIgwAVba5DGceMlQAAAAASUVORK5CYII=', 'source': 'LinkedIn\\xa0·\\xa0Luke Chang', 'snippet': 'Lead Agency debt strategist providing insights on housing finance debt market through a biweekly research publication.', 'highlighted_keywords': [], 'date': '', 'inline_snippet': 'New York, New York, United States · Analytics Manager · Valon', 'rank': 3}, {'title': 'Kelsey Wheeler - Valon', 'link': 'https://www.linkedin.com/in/kelsey-g-wheeler', 'displayed_link': '1K+ followers', 'favicon': 'data:image/png;base64,iVBORw0KGgoAAAANSUhEUgAAABAAAAAQCAYAAAAf8/9hAAAAm0lEQVR4AWP4//8/RRhMyLfs3sNQvOk/KRikB24ATNB2yhEQJtoQuAEwzVAAYtPVAMJe4Cjf8l+0bsd/RkIGQAGc/ej9t/+TDt/7/+vPXzD/6Yfv/+2nHSXWAAT49P33/z9//4HZl559JM2Aqm3XwXyXGcfA/H///pFmgFj9DjCfp3IrTIgkA5ADbbAbQA6mKDPp9x7YBTOAIgwAVba5DGceMlQAAAAASUVORK5CYII=', 'source': 'LinkedIn\\xa0·\\xa0Kelsey Wheeler', 'snippet': 'I love to build things: databases, processes, teams, relationships (also, anything with Legos). I appreciate using data to inform decisions.', 'highlighted_keywords': [], 'date': '', 'inline_snippet': 'New York City Metropolitan Area · Valon', 'rank': 4}, {'title': 'Valon Blakaj - Software Development Engineer - Silvaco Inc', 'link': 'https://uk.linkedin.com/in/valon-blakaj-2619846a', 'displayed_link': '530+ followers', 'favicon': 'data:image/png;base64,iVBORw0KGgoAAAANSUhEUgAAABAAAAAQCAYAAAAf8/9hAAAAm0lEQVR4AWP4//8/RRhMyLfs3sNQvOk/KRikB24ATNB2yhEQJtoQuAEwzVAAYtPVAMJe4Cjf8l+0bsd/RkIGQAGc/ej9t/+TDt/7/+vPXzD/6Yfv/+2nHSXWAAT49P33/z9//4HZl559JM2Aqm3XwXyXGcfA/H///pFmgFj9DjCfp3IrTIgkA5ADbbAbQA6mKDPp9x7YBTOAIgwAVba5DGceMlQAAAAASUVORK5CYII=', 'source': 'LinkedIn\\xa0·\\xa0Valon Blakaj', 'snippet': 'This includes my expertise in C/C++ and Python, computational electromagnetics, implementing ray tracing algorithms to predict radio coverage in wireless\\xa0...', 'highlighted_keywords': ['Python'], 'date': '', 'inline_snippet': 'London Area, United Kingdom · Software Development Engineer · Silvaco Inc', 'rank': 5}, {'title': 'Sam Animashaun - Product Design Manager', 'link': 'https://ng.linkedin.com/in/sam-animashaun?trk=public_profile_browsemap', 'displayed_link': '2K+ followers', 'favicon': 'data:image/png;base64,iVBORw0KGgoAAAANSUhEUgAAABAAAAAQCAYAAAAf8/9hAAAAm0lEQVR4AWP4//8/RRhMyLfs3sNQvOk/KRikB24ATNB2yhEQJtoQuAEwzVAAYtPVAMJe4Cjf8l+0bsd/RkIGQAGc/ej9t/+TDt/7/+vPXzD/6Yfv/+2nHSXWAAT49P33/z9//4HZl559JM2Aqm3XwXyXGcfA/H///pFmgFj9DjCfp3IrTIgkA5ADbbAbQA6mKDPp9x7YBTOAIgwAVba5DGceMlQAAAAASUVORK5CYII=', 'source': 'LinkedIn\\xa0·\\xa0Sam Animashaun', 'snippet': 'Experience ; Product Design Manager. Valon Consulting Group. Jan 2024 ; Product Design and Managing Consultant. Smatrex Solutions. Jun 2021 ; Wellhead Data\\xa0...', 'highlighted_keywords': ['Manager', 'Valon', 'Managing'], 'rank': 6}, {'title': 'Valon Shabani - Co-Founder - CloudMyBusiness', 'link': 'https://www.linkedin.com/in/valon-shabani-a5398715b', 'displayed_link': '330+ followers', 'favicon': 'data:image/png;base64,iVBORw0KGgoAAAANSUhEUgAAABAAAAAQCAYAAAAf8/9hAAAAm0lEQVR4AWP4//8/RRhMyLfs3sNQvOk/KRikB24ATNB2yhEQJtoQuAEwzVAAYtPVAMJe4Cjf8l+0bsd/RkIGQAGc/ej9t/+TDt/7/+vPXzD/6Yfv/+2nHSXWAAT49P33/z9//4HZl559JM2Aqm3XwXyXGcfA/H///pFmgFj9DjCfp3IrTIgkA5ADbbAbQA6mKDPp9x7YBTOAIgwAVba5DGceMlQAAAAASUVORK5CYII=', 'source': 'LinkedIn\\xa0·\\xa0Valon Shabani', 'snippet': 'Experience. CloudMyBusiness Graphic. Co-Founder. CloudMyBusiness. 2020 - Present 4 years. Co-Founder / Director. Llampa Innovation Center.', 'highlighted_keywords': [], 'rank': 7}, {'title': 'Valon Gjonbalaj - Kosovo | Professional Profile', 'link': 'https://www.linkedin.com/in/valon-gjonbalaj-9aa51a71', 'displayed_link': '30+ followers', 'favicon': 'data:image/png;base64,iVBORw0KGgoAAAANSUhEUgAAABAAAAAQCAYAAAAf8/9hAAAAm0lEQVR4AWP4//8/RRhMyLfs3sNQvOk/KRikB24ATNB2yhEQJtoQuAEwzVAAYtPVAMJe4Cjf8l+0bsd/RkIGQAGc/ej9t/+TDt/7/+vPXzD/6Yfv/+2nHSXWAAT49P33/z9//4HZl559JM2Aqm3XwXyXGcfA/H///pFmgFj9DjCfp3IrTIgkA5ADbbAbQA6mKDPp9x7YBTOAIgwAVba5DGceMlQAAAAASUVORK5CYII=', 'source': 'LinkedIn\\xa0·\\xa0Valon Gjonbalaj', 'snippet': 'Highly Qualified IT Engineer: Technically sophisticated information technology professional with demonstrated success in computer system/network administration.', 'highlighted_keywords': ['Engineer'], 'rank': 8}, {'title': 'Samuel Breck - Valon', 'link': 'https://www.linkedin.com/in/samuel-breck-164703109', 'displayed_link': '1.2K+ followers', 'favicon': 'data:image/png;base64,iVBORw0KGgoAAAANSUhEUgAAABAAAAAQCAYAAAAf8/9hAAAAm0lEQVR4AWP4//8/RRhMyLfs3sNQvOk/KRikB24ATNB2yhEQJtoQuAEwzVAAYtPVAMJe4Cjf8l+0bsd/RkIGQAGc/ej9t/+TDt/7/+vPXzD/6Yfv/+2nHSXWAAT49P33/z9//4HZl559JM2Aqm3XwXyXGcfA/H///pFmgFj9DjCfp3IrTIgkA5ADbbAbQA6mKDPp9x7YBTOAIgwAVba5DGceMlQAAAAASUVORK5CYII=', 'source': 'LinkedIn\\xa0·\\xa0Samuel Breck', 'snippet': 'Sam is an incredibly talented and sharp young professional. A true self starter, with a full skillset for not only managing projects but also doing the work if\\xa0...', 'highlighted_keywords': ['managing'], 'date': '', 'inline_snippet': 'Saratoga, California, United States · Valon', 'rank': 9}, {'title': 'Valon Berisha - System Network Administrator - KOSTT sh.a', 'link': 'https://www.linkedin.com/in/valon-berisha-440a29b2', 'displayed_link': '50+ followers', 'favicon': 'data:image/png;base64,iVBORw0KGgoAAAANSUhEUgAAABAAAAAQCAYAAAAf8/9hAAAAm0lEQVR4AWP4//8/RRhMyLfs3sNQvOk/KRikB24ATNB2yhEQJtoQuAEwzVAAYtPVAMJe4Cjf8l+0bsd/RkIGQAGc/ej9t/+TDt/7/+vPXzD/6Yfv/+2nHSXWAAT49P33/z9//4HZl559JM2Aqm3XwXyXGcfA/H///pFmgFj9DjCfp3IrTIgkA5ADbbAbQA6mKDPp9x7YBTOAIgwAVba5DGceMlQAAAAASUVORK5CYII=', 'source': 'LinkedIn\\xa0·\\xa0Valon Berisha', 'snippet': \"University of Business & Technology. Master's degree Computer Science MASTER OF SCIENCE IN CMPUTER SCIENCE AND ENGINEERING.\", 'highlighted_keywords': ['ENGINEERING'], 'date': '', 'inline_snippet': 'Pristina, District of Pristina, Kosovo · System Network Administrator · KOSTT sh.a', 'rank': 10}]\n"
     ]
    }
   ],
   "source": [
    "company = Company(name='valon', opening_link=None, careers_link=None)\n",
    "keywords = ['Python', 'web application development', 'mobile application development', 'large-scale distributed systems', 'infrastructure management', '401k', 'equity'][0:1]\n",
    "positions = ['Engineering Manager', 'Senior Software Engineer', 'Technical Lead', 'Product Manager', 'Designer'][0:1]\n",
    "\n",
    "query = \"site:https://linkedin.com/in {} {} {}\".format(\n",
    "    company.name, \" \".join(keywords), \" \".join(positions)\n",
    ")\n",
    "print(\"Search QUERY: \", query)\n",
    "res = serp_service._search(query)\n",
    "results = json.loads(res)[\"organic_results\"]\n",
    "print(\"Search Results: \", results)\n"
   ]
  },
  {
   "cell_type": "code",
   "execution_count": 24,
   "id": "1f138ca5-a34e-4740-83d2-2cb7294a07d1",
   "metadata": {},
   "outputs": [
    {
     "data": {
      "text/plain": [
       "{'title': 'Jonathan Hsu - Valon',\n",
       " 'link': 'https://www.linkedin.com/in/jonathan-r-hsu',\n",
       " 'displayed_link': '740+ followers',\n",
       " 'favicon': 'data:image/png;base64,iVBORw0KGgoAAAANSUhEUgAAABAAAAAQCAYAAAAf8/9hAAAAm0lEQVR4AWP4//8/RRhMyLfs3sNQvOk/KRikB24ATNB2yhEQJtoQuAEwzVAAYtPVAMJe4Cjf8l+0bsd/RkIGQAGc/ej9t/+TDt/7/+vPXzD/6Yfv/+2nHSXWAAT49P33/z9//4HZl559JM2Aqm3XwXyXGcfA/H///pFmgFj9DjCfp3IrTIgkA5ADbbAbQA6mKDPp9x7YBTOAIgwAVba5DGceMlQAAAAASUVORK5CYII=',\n",
       " 'source': 'LinkedIn\\xa0·\\xa0Jonathan Hsu',\n",
       " 'snippet': 'Experience: Valon · Education: Carnegie Mellon University · Location: New York City Metropolitan Area · 500+ connections on LinkedIn.',\n",
       " 'highlighted_keywords': ['Valon'],\n",
       " 'date': '',\n",
       " 'inline_snippet': 'New York City Metropolitan Area · Valon',\n",
       " 'rank': 1}"
      ]
     },
     "execution_count": 24,
     "metadata": {},
     "output_type": "execute_result"
    }
   ],
   "source": [
    "results[0]"
   ]
  },
  {
   "cell_type": "code",
   "execution_count": 25,
   "id": "71a1a713-7406-496c-bd9c-da7336026e96",
   "metadata": {},
   "outputs": [
    {
     "data": {
      "text/plain": [
       "{'title': 'Michael Morel - Valon',\n",
       " 'link': 'https://www.linkedin.com/in/whoismichaelj',\n",
       " 'displayed_link': 'https://www.linkedin.com › whoismichaelj',\n",
       " 'favicon': 'data:image/png;base64,iVBORw0KGgoAAAANSUhEUgAAABAAAAAQCAYAAAAf8/9hAAAAm0lEQVR4AWP4//8/RRhMyLfs3sNQvOk/KRikB24ATNB2yhEQJtoQuAEwzVAAYtPVAMJe4Cjf8l+0bsd/RkIGQAGc/ej9t/+TDt/7/+vPXzD/6Yfv/+2nHSXWAAT49P33/z9//4HZl559JM2Aqm3XwXyXGcfA/H///pFmgFj9DjCfp3IrTIgkA5ADbbAbQA6mKDPp9x7YBTOAIgwAVba5DGceMlQAAAAASUVORK5CYII=',\n",
       " 'source': 'LinkedIn',\n",
       " 'snippet': \"Currently working in C Language and Python. Project Manager and Co-Founder of 42 USA's Climbing Center.\",\n",
       " 'highlighted_keywords': ['Python', 'Manager'],\n",
       " 'date': '',\n",
       " 'inline_snippet': 'New York, New York, United States · Valon',\n",
       " 'rank': 2}"
      ]
     },
     "execution_count": 25,
     "metadata": {},
     "output_type": "execute_result"
    }
   ],
   "source": [
    "results[1]"
   ]
  },
  {
   "cell_type": "code",
   "execution_count": 26,
   "id": "a995bae2-d153-4068-a142-5df33cbe7a3e",
   "metadata": {},
   "outputs": [
    {
     "data": {
      "text/plain": [
       "{'title': 'Luke Chang - Analytics Manager - Valon',\n",
       " 'link': 'https://www.linkedin.com/in/luke-chang-a8534265',\n",
       " 'displayed_link': '1.2K+ followers',\n",
       " 'favicon': 'data:image/png;base64,iVBORw0KGgoAAAANSUhEUgAAABAAAAAQCAYAAAAf8/9hAAAAm0lEQVR4AWP4//8/RRhMyLfs3sNQvOk/KRikB24ATNB2yhEQJtoQuAEwzVAAYtPVAMJe4Cjf8l+0bsd/RkIGQAGc/ej9t/+TDt/7/+vPXzD/6Yfv/+2nHSXWAAT49P33/z9//4HZl559JM2Aqm3XwXyXGcfA/H///pFmgFj9DjCfp3IrTIgkA5ADbbAbQA6mKDPp9x7YBTOAIgwAVba5DGceMlQAAAAASUVORK5CYII=',\n",
       " 'source': 'LinkedIn\\xa0·\\xa0Luke Chang',\n",
       " 'snippet': 'Lead Agency debt strategist providing insights on housing finance debt market through a biweekly research publication.',\n",
       " 'highlighted_keywords': [],\n",
       " 'date': '',\n",
       " 'inline_snippet': 'New York, New York, United States · Analytics Manager · Valon',\n",
       " 'rank': 3}"
      ]
     },
     "execution_count": 26,
     "metadata": {},
     "output_type": "execute_result"
    }
   ],
   "source": [
    "results[2]"
   ]
  },
  {
   "cell_type": "code",
   "execution_count": null,
   "id": "3d962392-5d36-45c5-95de-65ef6b604e13",
   "metadata": {},
   "outputs": [],
   "source": []
  }
 ],
 "metadata": {
  "kernelspec": {
   "display_name": "Python (reefer)",
   "language": "python",
   "name": "reefer"
  },
  "language_info": {
   "codemirror_mode": {
    "name": "ipython",
    "version": 3
   },
   "file_extension": ".py",
   "mimetype": "text/x-python",
   "name": "python",
   "nbconvert_exporter": "python",
   "pygments_lexer": "ipython3",
   "version": "3.12.5"
  }
 },
 "nbformat": 4,
 "nbformat_minor": 5
}
