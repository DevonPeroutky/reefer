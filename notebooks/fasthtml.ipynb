{
 "cells": [
  {
   "cell_type": "code",
   "execution_count": null,
   "id": "610598cd-eff6-4e84-a792-9df3832982ee",
   "metadata": {},
   "outputs": [],
   "source": [
    "from starlette.testclient import TestClient\n",
    "from fasthtml.common import *"
   ]
  },
  {
   "cell_type": "code",
   "execution_count": 21,
   "id": "e49909ff-79fd-4b44-bc8a-c5c2b4dcb200",
   "metadata": {},
   "outputs": [],
   "source": [
    "app = FastHTML()\n",
    "\n",
    "@app.get(\"/swag\")\n",
    "def home(cheese: str, prompt: Optional[str] = None):\n",
    "    print(cheese)\n",
    "    return Title(\"Page Demo\"), Div(H1('Hello, World'), P('Some text'), P('Some more text'))"
   ]
  },
  {
   "cell_type": "code",
   "execution_count": 22,
   "id": "bee8c3c3-7dce-4847-bcc6-37aa5df5d678",
   "metadata": {},
   "outputs": [
    {
     "name": "stdout",
     "output_type": "stream",
     "text": [
      "FUCK\n"
     ]
    },
    {
     "data": {
      "text/plain": [
       "'<!doctype html>\\n\\n<html>\\n  <head>\\n    <title>Page Demo</title>\\n    <meta charset=\"utf-8\">\\n    <meta name=\"viewport\" content=\"width=device-width, initial-scale=1, viewport-fit=cover\">\\n    <script src=\"https://unpkg.com/htmx.org@next/dist/htmx.min.js\"></script>\\n    <script src=\"https://cdn.jsdelivr.net/gh/answerdotai/surreal@main/surreal.js\"></script>\\n    <script src=\"https://cdn.jsdelivr.net/gh/gnat/css-scope-inline@main/script.js\"></script>\\n  </head>\\n  <body><div>\\n  <h1>Hello, World</h1>\\n  <p>Some text</p>\\n  <p>Some more text</p>\\n</div>\\n</body>\\n</html>\\n'"
      ]
     },
     "execution_count": 22,
     "metadata": {},
     "output_type": "execute_result"
    }
   ],
   "source": [
    "client = TestClient(app)\n",
    "r = client.get(\"/swag?cheese=FUCK\")\n",
    "r.text"
   ]
  },
  {
   "cell_type": "code",
   "execution_count": 9,
   "id": "7ea10f3e-9c43-40ba-a001-8d4342665fb7",
   "metadata": {},
   "outputs": [],
   "source": [
    "import w"
   ]
  },
  {
   "cell_type": "code",
   "execution_count": 12,
   "id": "9d360612-0ec9-4135-9566-79685ea14ef8",
   "metadata": {},
   "outputs": [
    {
     "data": {
      "text/plain": [
       "'claude-3-5-sonnet-20240620'"
      ]
     },
     "execution_count": 12,
     "metadata": {},
     "output_type": "execute_result"
    }
   ],
   "source": [
    "claudette.models[1]"
   ]
  },
  {
   "cell_type": "code",
   "execution_count": 23,
   "id": "081564e4-2539-42d9-a3f4-9792d9766916",
   "metadata": {},
   "outputs": [],
   "source": [
    "PARSE_HTML_SYSTEM_PROMPT = \"\"\"Your job is to parse html and return structured data as requested. You parse the full document and return all the results. Provide only the answer, with no additional text or explanation.\"\"\"\n",
    "PARSE_OPENINGS_LINK_PROMPT = \"\"\"\n",
    "This is the html content of the {} careers page. This html is either contains a list of job openings, or a link to the list of openings/roles/positions/jobs. Return the link to the page containing openings/roles/positions/jobs. If the current page contains the list then simply return the current link.\n",
    "Dp not acknowledge this request, simply return only the link, with no additional text or explanation.\n",
    "\"\"\"\n",
    "PARSE_OPENINGS_PROMPT = \"\"\"\n",
    "This is the html content of the {} careers page containing a list of list of openings/roles/positions/jobs, each with a link. Parse the page and return a list of openings with the title of the opening, the link to the specific job page, and the location (if available). Also return a boolean field called related.\n",
    "Related should return 'True' if the the specific job is related to the criteria {} and 'False' if unrelated. Return the results as a list of json with the keys \"title\", \"link\", \"location\", and \"related\".\n",
    "Provide only the JSON, with no additional text or explanation.\n",
    "\"\"\""
   ]
  },
  {
   "cell_type": "code",
   "execution_count": 25,
   "id": "411ca67f-bae2-4bf5-b643-ab980b7df657",
   "metadata": {},
   "outputs": [
    {
     "data": {
      "text/plain": [
       "'Hey \\nThis is the html content of the swag careers page. This html is either contains a list of job openings, or a link to the list of openings/roles/positions/jobs. Return the link to the page containing openings/roles/positions/jobs. If the current page contains the list then simply return the current link.\\nDp not acknowledge this request, simply return only the link, with no additional text or explanation.\\n'"
      ]
     },
     "execution_count": 25,
     "metadata": {},
     "output_type": "execute_result"
    }
   ],
   "source": [
    "f\"Hey {PARSE_OPENINGS_LINK_PROMPT}\".format(\"swag\")"
   ]
  },
  {
   "cell_type": "code",
   "execution_count": 31,
   "id": "6e7922d8-ed00-43c6-863c-5164f4f381ca",
   "metadata": {},
   "outputs": [
    {
     "ename": "ModuleNotFoundError",
     "evalue": "No module named 'data_types'",
     "output_type": "error",
     "traceback": [
      "\u001b[0;31m---------------------------------------------------------------------------\u001b[0m",
      "\u001b[0;31mModuleNotFoundError\u001b[0m                       Traceback (most recent call last)",
      "Cell \u001b[0;32mIn[31], line 16\u001b[0m\n\u001b[1;32m     13\u001b[0m \u001b[38;5;28;01mfrom\u001b[39;00m \u001b[38;5;21;01mselenium\u001b[39;00m\u001b[38;5;21;01m.\u001b[39;00m\u001b[38;5;21;01mwebdriver\u001b[39;00m\u001b[38;5;21;01m.\u001b[39;00m\u001b[38;5;21;01mchrome\u001b[39;00m\u001b[38;5;21;01m.\u001b[39;00m\u001b[38;5;21;01moptions\u001b[39;00m \u001b[38;5;28;01mimport\u001b[39;00m Options\n\u001b[1;32m     14\u001b[0m \u001b[38;5;28;01mfrom\u001b[39;00m \u001b[38;5;21;01mselenium\u001b[39;00m\u001b[38;5;21;01m.\u001b[39;00m\u001b[38;5;21;01mwebdriver\u001b[39;00m\u001b[38;5;21;01m.\u001b[39;00m\u001b[38;5;21;01mcommon\u001b[39;00m\u001b[38;5;21;01m.\u001b[39;00m\u001b[38;5;21;01mby\u001b[39;00m \u001b[38;5;28;01mimport\u001b[39;00m By\n\u001b[0;32m---> 16\u001b[0m \u001b[38;5;28;01mfrom\u001b[39;00m \u001b[38;5;21;01mdata_types\u001b[39;00m \u001b[38;5;28;01mimport\u001b[39;00m JobOpening\n\u001b[1;32m     18\u001b[0m PARSE_HTML_SYSTEM_PROMPT \u001b[38;5;241m=\u001b[39m \u001b[38;5;124m\"\"\"\u001b[39m\u001b[38;5;124mYour job is to parse html and return structured data as requested. You parse the full document and return all the results. Provide only the answer, with no additional text or explanation.\u001b[39m\u001b[38;5;124m\"\"\"\u001b[39m\n\u001b[1;32m     19\u001b[0m PARSE_OPENINGS_LINK_PROMPT \u001b[38;5;241m=\u001b[39m \u001b[38;5;124m\"\"\"\u001b[39m\n\u001b[1;32m     20\u001b[0m \u001b[38;5;124mThis is the html content of the \u001b[39m\u001b[38;5;132;01m{}\u001b[39;00m\u001b[38;5;124m careers page. This html is either contains a list of job openings, or a link to the list of openings/roles/positions/jobs. Return the link to the page containing openings/roles/positions/jobs. If the current page contains the list then simply return the current link.\u001b[39m\n\u001b[1;32m     21\u001b[0m \u001b[38;5;124mDp not acknowledge this request, simply return only the link, with no additional text or explanation.\u001b[39m\n\u001b[1;32m     22\u001b[0m \u001b[38;5;124m\"\"\"\u001b[39m\n",
      "\u001b[0;31mModuleNotFoundError\u001b[0m: No module named 'data_types'"
     ]
    }
   ],
   "source": [
    "import json\n",
    "import os\n",
    "import undetected_chromedriver as uc\n",
    "\n",
    "from typing import List, Optional\n",
    "from anthropic import Anthropic\n",
    "from bs4 import BeautifulSoup, Comment\n",
    "from urllib.parse import urlparse, urljoin\n",
    "\n",
    "from selenium import webdriver\n",
    "from selenium.webdriver.support.ui import WebDriverWait\n",
    "from selenium.webdriver.chrome.service import Service\n",
    "from selenium.webdriver.chrome.options import Options\n",
    "from selenium.webdriver.common.by import By\n",
    "\n",
    "from data_types import JobOpening\n",
    "\n",
    "PARSE_HTML_SYSTEM_PROMPT = \"\"\"Your job is to parse html and return structured data as requested. You parse the full document and return all the results. Provide only the answer, with no additional text or explanation.\"\"\"\n",
    "PARSE_OPENINGS_LINK_PROMPT = \"\"\"\n",
    "This is the html content of the {} careers page. This html is either contains a list of job openings, or a link to the list of openings/roles/positions/jobs. Return the link to the page containing openings/roles/positions/jobs. If the current page contains the list then simply return the current link.\n",
    "Dp not acknowledge this request, simply return only the link, with no additional text or explanation.\n",
    "\"\"\"\n",
    "PARSE_OPENINGS_PROMPT = \"\"\"\n",
    "This is the html content of the {} careers page containing a list of list of openings/roles/positions/jobs, each with a link. Parse the page and return a list of openings with the title of the opening, the link to the specific job page, and the location (if available). Also return a boolean field called related.\n",
    "Related should return 'True' if the the specific job is related to the criteria {} and 'False' if unrelated. Return the results as a list of json with the keys \"title\", \"link\", \"location\", and \"related\".\n",
    "Provide only the JSON, with no additional text or explanation.\n",
    "\"\"\"\n"
   ]
  },
  {
   "cell_type": "code",
   "execution_count": null,
   "id": "9a9b62f5-838c-4488-8696-a777eaa9f2ae",
   "metadata": {},
   "outputs": [],
   "source": []
  }
 ],
 "metadata": {
  "kernelspec": {
   "display_name": "Python (reefer)",
   "language": "python",
   "name": "reefer"
  },
  "language_info": {
   "codemirror_mode": {
    "name": "ipython",
    "version": 3
   },
   "file_extension": ".py",
   "mimetype": "text/x-python",
   "name": "python",
   "nbconvert_exporter": "python",
   "pygments_lexer": "ipython3",
   "version": "3.12.5"
  }
 },
 "nbformat": 4,
 "nbformat_minor": 5
}
