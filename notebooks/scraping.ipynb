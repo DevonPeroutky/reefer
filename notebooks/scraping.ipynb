{
 "cells": [
  {
   "cell_type": "code",
   "execution_count": 1,
   "id": "29dcc4de-b9d2-47e5-ab66-9c27e8045f0a",
   "metadata": {},
   "outputs": [],
   "source": [
    "import os\n",
    "import requests\n",
    "import json\n",
    "import json\n",
    "\n",
    "from typing import List, Set\n",
    "from anthropic import Anthropic\n",
    "from bs4 import BeautifulSoup, Comment\n",
    "from dataclasses import dataclass\n",
    "from typing import Optional\n",
    "from urllib.parse import urlparse, urljoin\n",
    "\n",
    "import undetected_chromedriver as uc\n",
    "from selenium import webdriver\n",
    "from selenium.webdriver.support.ui import WebDriverWait\n",
    "from selenium.webdriver.chrome.service import Service\n",
    "from selenium.webdriver.chrome.options import Options\n",
    "from selenium.webdriver.common.by import By"
   ]
  },
  {
   "cell_type": "code",
   "execution_count": 2,
   "id": "571b6d91-d8d1-4f44-b262-a6d88c29eba4",
   "metadata": {},
   "outputs": [],
   "source": [
    "@dataclass\n",
    "class JobOpening:\n",
    "    id: str\n",
    "    title: str\n",
    "    location: Optional[str]\n",
    "    link: str\n",
    "    related: bool"
   ]
  },
  {
   "cell_type": "code",
   "execution_count": 3,
   "id": "96b2dba1-29f0-487b-945f-98f25a3fd055",
   "metadata": {},
   "outputs": [],
   "source": [
    "PARSE_HTML_SYSTEM_PROMPT = \"\"\"Your job is to parse html and return structured data as requested. You parse the full document and return all the results. Provide only the answer, with no additional text or explanation.\"\"\"\n",
    "PARSE_OPENINGS_LINK_PROMPT = \"\"\"\n",
    "This is the html content of the {} careers page. This html is either contains a list of job openings, or a link to the list of openings/roles/positions/jobs. Return the link to the page containing openings/roles/positions/jobs. If the current page contains the list then simply return the current link.\n",
    "Dp not acknowledge this request, simply return only the link, with no additional text or explanation.\n",
    "\"\"\"\n",
    "PARSE_OPENINGS_PROMPT = \"\"\"\n",
    "This is the html content of the {} careers page containing a list of list of openings/roles/positions/jobs, each with a link. Parse the page and return a list of openings with the title of the opening, the link to the specific job page, and the location (if available). Also return a boolean field called related.\n",
    "Related should return 'True' if the the specific job is related to the criteria {} and 'False' if unrelated. Return the results as a list of json with the keys \"title\", \"link\", \"location\", and \"related\".\n",
    "Provide only the JSON, with no additional text or explanation.\n",
    "\"\"\""
   ]
  },
  {
   "cell_type": "code",
   "execution_count": 10,
   "id": "0e2aa33a-fadc-4502-bb77-3058a0e9359f",
   "metadata": {},
   "outputs": [
    {
     "name": "stdout",
     "output_type": "stream",
     "text": [
      "554d5e43-4150-4f71-a134-7ab2a2d91308\n"
     ]
    }
   ],
   "source": [
    "SERPDOG_API_KEY = os.getenv('SERPDOG_API_KEY')\n",
    "ANTHROPIC_API_KEY = os.getenv('CLAUDE_API_KEY')\n",
    "PROSPECT_API_KEY = os.getenv('PROSPECT_API_KEY')\n",
    "print(PROSPECT_API_KEY)"
   ]
  },
  {
   "cell_type": "code",
   "execution_count": 5,
   "id": "f87e3df8-2d93-4db2-beae-1fce92f940b1",
   "metadata": {},
   "outputs": [
    {
     "name": "stdout",
     "output_type": "stream",
     "text": [
      "{\"meta\":{\"api_key\":\"66c0f8f964e55443ffdb1ef7\",\"q\":\"anduril careers\",\"gl\":\"us\"},\"user_credits_info\":{\"quota\":1000,\"requests\":80,\"requests_left\":920},\"search_information\":{\"total_results\":\"About 3,670,000 results (0.22 seconds)\",\"query_displayed\":\"anduril careers\"},\"menu_items\":[{\"title\":\"News\",\"link\":\"https://www.google.com/search?sca_esv=af551f653f51ea9a&gl=us&hl=en&q=anduril+careers&tbm=nws&source=lnms&fbs=AEQNm0Aa4sjWe7Rqy32pFwRj0UkWd8nbOJfsBGGB5IQQO6L3J5MIFhvnvU242yFxzEEp3BfblMs7eBu5zPnhtGsrETMyhOqzWtfgc_pCzrf4BYocXLJaX0gJBEKL77s1Ay-4tHfnMqP5vC_ZT8lpSywyzIaNxlK3h27DKyjP4cAIPUhzalTbEILgzj9kP6BqoP0xWu6yYBTYByfUljVA60k5fyr5AlSneg&sa=X&ved=2ahUKEwjs37exrYCIAxU21AIHHT4oAvEQ0pQJegQIERAB\",\"position\":1},{\"title\":\"Videos\",\"link\":\"https://www.google.com/search?sca_esv=af551f653f51ea9a&gl=us&hl=en&q=anduril+careers&tbm=vid&source=lnms&fbs=AEQNm0Aa4sjWe7Rqy32pFwRj0UkWd8nbOJfsBGGB5IQQO6L3J5MIFhvnvU242yFxzEEp3BfblMs7eBu5zPnhtGsrETMyhOqzWtfgc_pCzrf4BYocXLJaX0gJBEKL77s1Ay-4tHfnMqP5vC_ZT8lpSywyzIaNxlK3h27DKyjP4cAIPUhzalTbEILgzj9kP6BqoP0xWu6yYBTYByfUljVA60k5fyr5AlSneg&sa=X&ved=2ahUKEwjs37exrYCIAxU21AIHHT4oAvEQ0pQJegQIDxAB\",\"position\":2},{\"title\":\"Shopping\",\"link\":\"https://www.google.com/search?sca_esv=af551f653f51ea9a&gl=us&hl=en&q=anduril+careers&tbm=shop&source=lnms&fbs=AEQNm0Aa4sjWe7Rqy32pFwRj0UkWd8nbOJfsBGGB5IQQO6L3J5MIFhvnvU242yFxzEEp3BfblMs7eBu5zPnhtGsrETMyhOqzWtfgc_pCzrf4BYocXLJaX0gJBEKL77s1Ay-4tHfnMqP5vC_ZT8lpSywyzIaNxlK3h27DKyjP4cAIPUhzalTbEILgzj9kP6BqoP0xWu6yYBTYByfUljVA60k5fyr5AlSneg&ved=1t:200715&ictx=111\",\"position\":3},{\"title\":\"Maps\",\"link\":\"https://www.google.comhttps://maps.google.com/maps?sca_esv=af551f653f51ea9a&gl=us&hl=en&output=search&q=anduril+careers&source=lnms&fbs=AEQNm0Aa4sjWe7Rqy32pFwRj0UkWd8nbOJfsBGGB5IQQO6L3J5MIFhvnvU242yFxzEEp3BfblMs7eBu5zPnhtGsrETMyhOqzWtfgc_pCzrf4BYocXLJaX0gJBEKL77s1Ay-4tHfnMqP5vC_ZT8lpSywyzIaNxlK3h27DKyjP4cAIPUhzalTbEILgzj9kP6BqoP0xWu6yYBTYByfUljVA60k5fyr5AlSneg&entry=mc&ved=1t:200715&ictx=111\",\"position\":4}],\"peopleAlsoAskedFor\":[{\"question\":\"Is Anduril a good company?\",\"id\":\"_T9zCZqz8Jbaoi-gPvtCIiA8_47\",\"rank\":1,\"answers\":\"Employees rate Anduril 4 out of 5 stars based on 141 anonymous reviews on Glassdoor.\",\"date\":\"\",\"source\":\"Glassdoor\",\"displayed_link\":\"https://www.glassdoor.com › Overview › Working-at-An...\",\"link\":\"https://www.glassdoor.com/Overview/Working-at-Anduril-EI_IE3546800.11,18.htm#:~:text=Employees%20rate%20Anduril%204%20out,141%20anonymous%20reviews%20on%20Glassdoor.\",\"title\":\"Working at Anduril - Glassdoor\",\"favicon\":\"data:image/png;base64,iVBORw0KGgoAAAANSUhEUgAAABAAAAAQCAMAAAAoLQ9TAAAAP1BMVEX////V7+Vnw52h2cL1/PrR7uIAqnEAnFg6tYX8//5yxqOy4c4vsoCN0rYrrnoAnVsAoGGBzK0Ap2tawJfj9e4sm9QvAAAATUlEQVR4AaUPgxHAMLAxXtX+q9bGKW+jKgCljb0FnA/xiKSUJpEDbD5gRKLIYraAkVpynsRvABAlEyPDscKEZpm8QUJp1fWE1FFf8tMId4EC6OzEEdwAAAAASUVORK5CYII=\"},{\"question\":\"How much do you get paid at Anduril?\",\"id\":\"_T9zCZqz8Jbaoi-gPvtCIiA8_50\",\"rank\":2,\"answers\":\"The average Anduril salary ranges from approximately $87,018 per year for Operations Coordinator to $230,603 per year for Chief Architect. Average Anduril hourly pay ranges from approximately $22.00 per hour for Machine Learning Engineer to $55.74 per hour for Senior Technical Recruiter.\",\"date\":\"\",\"source\":\"Indeed\",\"displayed_link\":\"https://www.indeed.com › cmp › Anduril-1 › salaries › C...\",\"link\":\"https://www.indeed.com/cmp/Anduril-1/salaries?location=US%2FCA%2FCosta+Mesa#:~:text=The%20average%20Anduril%20salary%20ranges,hour%20for%20Senior%20Technical%20Recruiter.\",\"title\":\"Anduril salaries in Costa Mesa, CA - Indeed\",\"favicon\":\"data:image/png;base64,iVBORw0KGgoAAAANSUhEUgAAABAAAAAQCAMAAAAoLQ9TAAAAOVBMVEVHcEz////////////////////////////O2OpBarMsXa66xuB+lseertPd5fKxwN0AE5Dn7vcAPqA+BsiVAAAACHRSTlMAF5Xb/xyozJkl3cYAAABuSURBVHgBZY+FEQQxCAAjexKX/ov9YeB9ozg4wYcIMRzOODFOlS/gTjkXuMxObUDpiM8BtJtWQfAuiIIxZ0MILsKAe86CEB1wA6ujOJSalymivnsuCwnfiuD8t+LQxkxhzV+aFOD6H045dHwv/werHAT8MuYWngAAAABJRU5ErkJggg==\"},{\"question\":\"What is the controversy with the Anduril Industries?\",\"id\":\"_T9zCZqz8Jbaoi-gPvtCIiA8_49\",\"rank\":3,\"answers\":\"Anduril has been called \\\"Tech's Most Controversial Startup.\\\" Autonomous weapons have stirred controversy, but Anduril courts business from the government and military. CBP's use of Anduril's sentry towers was criticized by immigration activists.\",\"date\":\"\",\"source\":\"Wikipedia\",\"displayed_link\":\"https://en.wikipedia.org › wiki › Anduril_Industries\",\"link\":\"https://en.wikipedia.org/wiki/Anduril_Industries#:~:text=Anduril%20has%20been%20called%20%22Tech's,was%20criticized%20by%20immigration%20activists.\",\"title\":\"Anduril Industries - Wikipedia\",\"favicon\":\"data:image/png;base64,iVBORw0KGgoAAAANSUhEUgAAABAAAAAQCAMAAAAoLQ9TAAAAM1BMVEUAAAD+/v7MzMw7OzsAAACVlZVJSUnm5uampqYXFxfZ2dkBAQGzs7MnJyeGhoZpaWl5eXkOJSOoAAAAAXRSTlMAQObYZgAAAGpJREFUeAFtz7UBxEAQBMHtgwXpKP9kn/k13pTXIsLH5OfD74d/SLlUtFTL2Tx0E2xvWL+gQQYBzeDRBni9QSoJegeUG6AKMyCtB7R9Q8OZ9gD6anV0mzzBd8X2nF5AVJjKGzYAO4yRv/wzhDIC9UYsU1MAAAAASUVORK5CYII=\"},{\"question\":\"Does Anduril have a PTO policy?\",\"id\":\"_T9zCZqz8Jbaoi-gPvtCIiA8_48\",\"rank\":4,\"answers\":\"Flexible Time Off: Anduril has an unlimited vacation policy, but we know that means sometimes people don't take the breaks they need.\",\"date\":\"\",\"source\":\"Indeed\",\"displayed_link\":\"https://www.indeed.com › cmp › Anduril-1 › about\",\"link\":\"https://www.indeed.com/cmp/Anduril-1/about#:~:text=Flexible%20Time%20Off%3A%20Anduril%20has,take%20the%20breaks%20they%20need.\",\"title\":\"Anduril Mission, Benefits, and Work Culture | Indeed.com\",\"favicon\":\"data:image/png;base64,iVBORw0KGgoAAAANSUhEUgAAABAAAAAQCAMAAAAoLQ9TAAAAOVBMVEVHcEz////////////////////////////O2OpBarMsXa66xuB+lseertPd5fKxwN0AE5Dn7vcAPqA+BsiVAAAACHRSTlMAF5Xb/xyozJkl3cYAAABuSURBVHgBZY+FEQQxCAAjexKX/ov9YeB9ozg4wYcIMRzOODFOlS/gTjkXuMxObUDpiM8BtJtWQfAuiIIxZ0MILsKAe86CEB1wA6ujOJSalymivnsuCwnfiuD8t+LQxkxhzV+aFOD6H045dHwv/werHAT8MuYWngAAAABJRU5ErkJggg==\"}],\"organic_results\":[{\"title\":\"Careers - Anduril\",\"link\":\"https://www.anduril.com/careers/\",\"displayed_link\":\"https://www.anduril.com › careers\",\"favicon\":\"data:image/png;base64,iVBORw0KGgoAAAANSUhEUgAAABwAAAAcCAAAAABXZoBIAAAA0ElEQVR4AcTJIYzCMACG0d8nJ0/iyLmTmPNmPlnO1k7VTVeQ4FNbgahPLa56Cjd1pm5mgkx/52DAhuXZJ154d3aHw36fVzLIBeNW0ulMV6/kTpFRyzkqGtDfYvp2EIR2MVXYZCZdFrKxYH8gVM+ZBEXK8O0fM2mArT8LULhPpwJuC7aCSc0sR/0CQRdgZ4FW/TX5ShAVAHoZKOKWRQWljWrzoWQ+e+VZkhUF5XTqAS/PPOmkAQA4KnKfTFb1MefYqCo8JkyprSsbh/8NdOrDAwBNXbuvOsvdRwAAAABJRU5ErkJggg==\",\"source\":\"Anduril\",\"snippet\":\"Anduril is not a traditional defense contractor. We privately fund our R&D and sell finished products off the shelf, meaning we emphasize speed and results. If ...\",\"highlighted_keywords\":[\"Anduril\"],\"extended_sitelinks\":[{\"title\":\"Open Roles\",\"link\":\"https://www.anduril.com/open-roles/\",\"snippet\":\"Finance & Accounting. Accounts Receivable · Altius. ALTIUS ...\"},{\"title\":\"Emerging Talent\",\"link\":\"https://www.anduril.com/internships-at-anduril/\",\"snippet\":\"Careers · Leadership · Newsroom · Blog · Media · Twitter · LinkedIn ...\"},{\"title\":\"Anduril Leadership\",\"link\":\"https://www.anduril.com/leadership/\",\"snippet\":\"Careers · Leadership · Newsroom · Blog · Media · Twitter · LinkedIn ...\"}],\"rank\":1},{\"title\":\"Anduril Industries: Jobs\",\"link\":\"https://www.linkedin.com/company/andurilindustries/jobs\",\"displayed_link\":\"https://www.linkedin.com › company › jobs\",\"source\":\"LinkedIn\",\"snippet\":\"Browse jobs · Anduril Industries jobs. 472 open jobs · Mechanical Engineer jobs. 58,544 open jobs · Engineer jobs. 608,159 open jobs · Analyst jobs. 760,055 ...\",\"highlighted_keywords\":[\"jobs\",\"Anduril\",\"jobs\",\"jobs\",\"jobs\",\"jobs\",\"jobs\",\"jobs\",\"jobs\"],\"rank\":2},{\"title\":\"Anduril Jobs & Careers - 274 Open Positions\",\"link\":\"https://www.glassdoor.com/Jobs/Anduril-Jobs-E3546800.htm\",\"displayed_link\":\"https://www.glassdoor.com › Anduril-Jobs-E3546800\",\"favicon\":\"data:image/png;base64,iVBORw0KGgoAAAANSUhEUgAAABwAAAAcCAMAAABF0y+mAAAAYFBMVEX////8/v33/PrU7+XE6Nrh9O3x+vfs+PN+zq4lrXkvsoBqx6O+59Z2y6kOpmwAoWMTq3OJ07ZKuo0AomTM7OC45NK14tFcwZqn3smc2sIbrXYqsX2v4c06tYZUv5U/tohXSID7AAAApElEQVR4Ac3SRQKDQBAAway7Dq7/f2XcPafQRwpYXS0ghF4bJpTxVy6k0sbiF+h8CDE9V2xl9iHSVzMiOYDE10+KstpWMlZWZe1Dza+QO7VLN41WysMd1mGXb9vtfOARAeCA8CuGcMRddxPqus5vsek7pbrO8JulDFU7bpFVw64C3a4dDypE+3zbWjcCTOwpig4C6BI9x17Nkrza7pIy/Pl6/LsNfZYMoaxng94AAAAASUVORK5CYII=\",\"source\":\"Glassdoor\",\"snippet\":\"Search job openings at Anduril. 274 Anduril jobs including salaries, ratings, and reviews, posted by Anduril employees.\",\"highlighted_keywords\":[\"Anduril jobs\"],\"rank\":3},{\"title\":\"Open Roles\",\"link\":\"https://www.anduril.com/open-roles/?location=&department=Skillbridge\",\"displayed_link\":\"https://www.anduril.com › open-roles\",\"favicon\":\"data:image/png;base64,iVBORw0KGgoAAAANSUhEUgAAABwAAAAcCAAAAABXZoBIAAAA0ElEQVR4AcTJIYzCMACG0d8nJ0/iyLmTmPNmPlnO1k7VTVeQ4FNbgahPLa56Cjd1pm5mgkx/52DAhuXZJ154d3aHw36fVzLIBeNW0ulMV6/kTpFRyzkqGtDfYvp2EIR2MVXYZCZdFrKxYH8gVM+ZBEXK8O0fM2mArT8LULhPpwJuC7aCSc0sR/0CQRdgZ4FW/TX5ShAVAHoZKOKWRQWljWrzoWQ+e+VZkhUF5XTqAS/PPOmkAQA4KnKfTFb1MefYqCo8JkyprSsbh/8NdOrDAwBNXbuvOsvdRwAAAABJRU5ErkJggg==\",\"source\":\"Anduril\",\"snippet\":\"Open Roles. Current Open Roles. Showing 2 Jobs. Select a Location. Select a Department. Skillbridge. Clear filters. Costa Mesa, California, United States.\",\"highlighted_keywords\":[\"Jobs\"],\"rank\":4},{\"title\":\"Careers at Anduril Industries\",\"link\":\"https://jobs.lsvp.com/jobs/anduril-industries\",\"displayed_link\":\"https://jobs.lsvp.com › jobs › anduril-industries\",\"favicon\":\"data:image/png;base64,iVBORw0KGgoAAAANSUhEUgAAABwAAAAcCAYAAAByDd+UAAAAaUlEQVR4AWJwL/ChKx6mFo5a+DY3WoTeFiYB2q0DC4CBKAiiTaSGz7WVVrbw5AYIEJEzHB8D4GFhZ7HBC9QGKTZIsUGKDVLZ4Ghw+w1P0Nl4VOvB92KDFBuk2CDFBilfwQL92dGfZkkN3jqIBZLzoS2fAAAAAElFTkSuQmCC\",\"source\":\"Lightspeed Venture Partners\",\"snippet\":\"Careers at Anduril Industries · Production Coordinator · Enterprise Applications Engineer · Director of Business Development, EW · Director of Business ...\",\"highlighted_keywords\":[\"Careers\",\"Anduril\"],\"rank\":5},{\"title\":\"Careers at Anduril Industries\",\"link\":\"https://jobs.a16z.com/jobs/anduril-industries\",\"displayed_link\":\"https://jobs.a16z.com › jobs › anduril-industries\",\"favicon\":\"data:image/png;base64,iVBORw0KGgoAAAANSUhEUgAAACAAAAAgCAMAAABEpIrGAAAAOVBMVEVHcEztiwDtiwDtiwDtiwDtiwDtiwDtiwDthgDukBP64sn////sgADyrGL0t3v2yJzwmzf40q7+9eq5/Nq2AAAACHRSTlMASLz0/8BAs/0Eca4AAADZSURBVHgB7dNXYsNACARQFWzPMmzT/Q8bJr3nM82oLfDUpSVj3Xb7MLJ/MsXHYLPPwdm+AJevwP4VsCv4wQBW3gdwMlvhrHgDABiqJ0BjDxUUDwBj+hx9dBYMHiOSKSruACoVbJ2GgxShwu+BqTLuwGQf6aFrYbsDaKzQWoAeFjlEdOpaBKxx6DwCgx1muY4qKrArn4FwAeORw846NEi767PPnncnBTq9zWwenH022EU/jsXUJQuU6Bri8S7Od78eUBABRA6j6NChgG3L5z/vSf0Pf/99W7N5A5DgFzo5UAdpAAAAAElFTkSuQmCC\",\"source\":\"Andreessen Horowitz\",\"snippet\":\"Careers at Anduril Industries · Production Coordinator · Enterprise Applications Engineer · Director of Business Development, EW · Director of Business ...\",\"highlighted_keywords\":[\"Careers\",\"Anduril\"],\"rank\":6},{\"title\":\"25+ Anduril Industries Jobs, Employment in Boston, MA ...\",\"link\":\"https://www.indeed.com/q-anduril-industries-l-boston,-ma-jobs.html\",\"displayed_link\":\"https://www.indeed.com › q-anduril-industries-l-boston,-...\",\"favicon\":\"data:image/png;base64,iVBORw0KGgoAAAANSUhEUgAAACAAAAAgCAMAAABEpIrGAAAAflBMVEUAAAD///////////////////////////////////////////////+/zuZvkMZQd7pAa7Sgtdnv8/gAOptgg8AgUqcgU6evweCAnc0QRqF/nc3v8vhwkMcwXq3f5vLP2uz////f5/JfhMB/nM0wX66AnM1PeLqPqdOftdrv8/mN6/jEAAAAIXRSTlMAEGCfz+//XyCQj98w/////////////////////////6AQ1BAWAAABD0lEQVR4AYWThRZCIQxAR+11h939/z+oHECHGNd4sbvR8IJxIRWikiJiEBInCl+IGHxYim+kfnqGARkpkj/jRVnVVdMaIw/yi7qr+7IaxolXg7n4dDZfGHEojGFG4/q3XK3RsSE9jV3+SqevC6ToRrbmdjc84m3ddeOOCAkAQ8Oo6++7BzURFANuB3DQ/8dOgwTuWjjpAnjW8YEKAqS5KU0dLVyoIEGZYdnOr8veH4YCN+5vWGGBVtxc68IXFFLqrus8QYH8LUjY/hYE8N9CBEz9FBhA8ksQZLmpQJeblAiFxNtyoZCxYNMvu252CzY+2fa3fVU84/nfg0NgyXs8YeATb0lUJTGEML61x5+T7DuGyRy8BcS3+wAAAABJRU5ErkJggg==\",\"source\":\"Indeed\",\"snippet\":\"34 Anduril Industries jobs available in Boston, MA on Indeed.com. Apply to Program Manager, Senior Engineer, Supply Manager and more!\",\"highlighted_keywords\":[\"Anduril\",\"jobs\"],\"rank\":7},{\"title\":\"Anduril Los Angeles Jobs + Careers\",\"link\":\"https://www.builtinla.com/company/anduril/jobs\",\"displayed_link\":\"https://www.builtinla.com › Companies › Anduril\",\"favicon\":\"data:image/png;base64,iVBORw0KGgoAAAANSUhEUgAAACAAAAAgCAMAAABEpIrGAAAAilBMVEUAAAArAFUHAEEFAD8EAEAFAD8EAEALAEAFAEEEAD8EAD8kAEkGAEEEAEAFAEAGAEMEAEAGAEQAt/wAuf4AoeUAuP0ArfIAqu4BaKoDC0kBaKkAs/gAq+8AsvcDBkUAr/MAtvsAouYEAD8ApuoAt/sBZ6kBdrgAr/QBh8oDI2ICOHgCOXkCMG8DCkhLPorkAAAAI3RSTlMABkeVv9nzGJbx/weC9Mcu4y3/////////////////////8ja8OkgAAADfSURBVHgBhZNFAgMhDACDQ+ru7u3u/59XLw1rzJUBovCHcSGV1koKziCPsQ49zhoIqdUbGNCo14LrTczRJI+02lhAu+Pv03NqmO//TSyh+YmjjqXU3x/4+Lu9PoY0Xp9YLBfQAjBXJTgGHKsE5CCoMBg+GY0n6BEgqfBlih4JKhBm8/mi15ujR4GmwnCJuFz11ujRoHNBbqiwBVUtKJDVggSRE3ZUELRQ+97qcDgce70TLRQp9br35UxLDTYnnC60WaTd19vt+iRJSbtjAxMdudjQRsc+vjjx1Ysvb3T9H+irJzSL0LzqAAAAAElFTkSuQmCC\",\"source\":\"Built In Los Angeles\",\"snippet\":\"Explore jobs and careers at Anduril in Los Angeles. Anduril is currently hiring for a range of positions.\",\"highlighted_keywords\":[\"jobs\",\"careers\",\"Anduril\",\"Anduril\"],\"rank\":8}],\"pagination\":{\"current\":\"1\",\"next\":\"https://www.google.com/search?q=anduril+careers&sca_esv=af551f653f51ea9a&gl=us&hl=en&ei=T9zCZqz8Jbaoi-gPvtCIiA8&start=10&sa=N&sstk=Aagrsug6tQZyaEf_VEo5WlO8ZpWk8BB8g_4p_fkMw2YF2ZHfjY-SbJL7biD66q5BQ1M7sl1DohAIgyNxnap3_Q88Okwn9oD5F1Jqpw&ved=2ahUKEwjs37exrYCIAxU21AIHHT4oAvEQ8NMDegQICRAS\",\"page_no\":{\"2\":\"https://www.google.com/search?q=anduril+careers&sca_esv=af551f653f51ea9a&gl=us&hl=en&ei=T9zCZqz8Jbaoi-gPvtCIiA8&start=10&sa=N&sstk=Aagrsug6tQZyaEf_VEo5WlO8ZpWk8BB8g_4p_fkMw2YF2ZHfjY-SbJL7biD66q5BQ1M7sl1DohAIgyNxnap3_Q88Okwn9oD5F1Jqpw&ved=2ahUKEwjs37exrYCIAxU21AIHHT4oAvEQ8tMDegQICRAE\",\"3\":\"https://www.google.com/search?q=anduril+careers&sca_esv=af551f653f51ea9a&gl=us&hl=en&ei=T9zCZqz8Jbaoi-gPvtCIiA8&start=20&sa=N&sstk=Aagrsug6tQZyaEf_VEo5WlO8ZpWk8BB8g_4p_fkMw2YF2ZHfjY-SbJL7biD66q5BQ1M7sl1DohAIgyNxnap3_Q88Okwn9oD5F1Jqpw&ved=2ahUKEwjs37exrYCIAxU21AIHHT4oAvEQ8tMDegQICRAG\",\"4\":\"https://www.google.com/search?q=anduril+careers&sca_esv=af551f653f51ea9a&gl=us&hl=en&ei=T9zCZqz8Jbaoi-gPvtCIiA8&start=30&sa=N&sstk=Aagrsug6tQZyaEf_VEo5WlO8ZpWk8BB8g_4p_fkMw2YF2ZHfjY-SbJL7biD66q5BQ1M7sl1DohAIgyNxnap3_Q88Okwn9oD5F1Jqpw&ved=2ahUKEwjs37exrYCIAxU21AIHHT4oAvEQ8tMDegQICRAI\",\"5\":\"https://www.google.com/search?q=anduril+careers&sca_esv=af551f653f51ea9a&gl=us&hl=en&ei=T9zCZqz8Jbaoi-gPvtCIiA8&start=40&sa=N&sstk=Aagrsug6tQZyaEf_VEo5WlO8ZpWk8BB8g_4p_fkMw2YF2ZHfjY-SbJL7biD66q5BQ1M7sl1DohAIgyNxnap3_Q88Okwn9oD5F1Jqpw&ved=2ahUKEwjs37exrYCIAxU21AIHHT4oAvEQ8tMDegQICRAK\",\"6\":\"https://www.google.com/search?q=anduril+careers&sca_esv=af551f653f51ea9a&gl=us&hl=en&ei=T9zCZqz8Jbaoi-gPvtCIiA8&start=50&sa=N&sstk=Aagrsug6tQZyaEf_VEo5WlO8ZpWk8BB8g_4p_fkMw2YF2ZHfjY-SbJL7biD66q5BQ1M7sl1DohAIgyNxnap3_Q88Okwn9oD5F1Jqpw&ved=2ahUKEwjs37exrYCIAxU21AIHHT4oAvEQ8tMDegQICRAM\",\"7\":\"https://www.google.com/search?q=anduril+careers&sca_esv=af551f653f51ea9a&gl=us&hl=en&ei=T9zCZqz8Jbaoi-gPvtCIiA8&start=60&sa=N&sstk=Aagrsug6tQZyaEf_VEo5WlO8ZpWk8BB8g_4p_fkMw2YF2ZHfjY-SbJL7biD66q5BQ1M7sl1DohAIgyNxnap3_Q88Okwn9oD5F1Jqpw&ved=2ahUKEwjs37exrYCIAxU21AIHHT4oAvEQ8tMDegQICRAO\",\"8\":\"https://www.google.com/search?q=anduril+careers&sca_esv=af551f653f51ea9a&gl=us&hl=en&ei=T9zCZqz8Jbaoi-gPvtCIiA8&start=70&sa=N&sstk=Aagrsug6tQZyaEf_VEo5WlO8ZpWk8BB8g_4p_fkMw2YF2ZHfjY-SbJL7biD66q5BQ1M7sl1DohAIgyNxnap3_Q88Okwn9oD5F1Jqpw&ved=2ahUKEwjs37exrYCIAxU21AIHHT4oAvEQ8tMDegQICRAQ\"}},\"serpdog_pagination\":{\"current\":\"1\",\"page_no\":{\"2\":\"https://api.serpdog.io/search?api_key=66c0f8f964e55443ffdb1ef7&q=anduril+careers&gl=us&page=10\",\"3\":\"https://api.serpdog.io/search?api_key=66c0f8f964e55443ffdb1ef7&q=anduril+careers&gl=us&page=20\",\"4\":\"https://api.serpdog.io/search?api_key=66c0f8f964e55443ffdb1ef7&q=anduril+careers&gl=us&page=30\",\"5\":\"https://api.serpdog.io/search?api_key=66c0f8f964e55443ffdb1ef7&q=anduril+careers&gl=us&page=40\",\"6\":\"https://api.serpdog.io/search?api_key=66c0f8f964e55443ffdb1ef7&q=anduril+careers&gl=us&page=50\",\"7\":\"https://api.serpdog.io/search?api_key=66c0f8f964e55443ffdb1ef7&q=anduril+careers&gl=us&page=60\",\"8\":\"https://api.serpdog.io/search?api_key=66c0f8f964e55443ffdb1ef7&q=anduril+careers&gl=us&page=70\"}}}\n"
     ]
    }
   ],
   "source": [
    "payload = {'api_key': SERPDOG_API_KEY, 'q':'anduril careers' , 'gl':'us'}\n",
    "resp = requests.get('https://api.serpdog.io/search', params=payload)\n",
    "print (resp.text)"
   ]
  },
  {
   "cell_type": "code",
   "execution_count": 7,
   "id": "05292c9e-4455-4bef-8cee-1db5ff766895",
   "metadata": {},
   "outputs": [],
   "source": [
    "results = json.loads(resp.text)['organic_results']"
   ]
  },
  {
   "cell_type": "code",
   "execution_count": 8,
   "id": "25fadf43-5e6d-4eaf-9ff3-86f011389b1f",
   "metadata": {},
   "outputs": [
    {
     "data": {
      "text/plain": [
       "{'title': 'Careers - Anduril',\n",
       " 'link': 'https://www.anduril.com/careers/',\n",
       " 'displayed_link': 'https://www.anduril.com › careers',\n",
       " 'favicon': 'data:image/png;base64,iVBORw0KGgoAAAANSUhEUgAAABwAAAAcCAAAAABXZoBIAAAA0ElEQVR4AcTJIYzCMACG0d8nJ0/iyLmTmPNmPlnO1k7VTVeQ4FNbgahPLa56Cjd1pm5mgkx/52DAhuXZJ154d3aHw36fVzLIBeNW0ulMV6/kTpFRyzkqGtDfYvp2EIR2MVXYZCZdFrKxYH8gVM+ZBEXK8O0fM2mArT8LULhPpwJuC7aCSc0sR/0CQRdgZ4FW/TX5ShAVAHoZKOKWRQWljWrzoWQ+e+VZkhUF5XTqAS/PPOmkAQA4KnKfTFb1MefYqCo8JkyprSsbh/8NdOrDAwBNXbuvOsvdRwAAAABJRU5ErkJggg==',\n",
       " 'source': 'Anduril',\n",
       " 'snippet': 'Anduril is not a traditional defense contractor. We privately fund our R&D and sell finished products off the shelf, meaning we emphasize speed and results. If\\xa0...',\n",
       " 'highlighted_keywords': ['Anduril'],\n",
       " 'extended_sitelinks': [{'title': 'Open Roles',\n",
       "   'link': 'https://www.anduril.com/open-roles/',\n",
       "   'snippet': 'Finance & Accounting. Accounts Receivable · Altius. ALTIUS ...'},\n",
       "  {'title': 'Emerging Talent',\n",
       "   'link': 'https://www.anduril.com/internships-at-anduril/',\n",
       "   'snippet': 'Careers · Leadership · Newsroom · Blog · Media · Twitter · LinkedIn ...'},\n",
       "  {'title': 'Anduril Leadership',\n",
       "   'link': 'https://www.anduril.com/leadership/',\n",
       "   'snippet': 'Careers · Leadership · Newsroom · Blog · Media · Twitter · LinkedIn ...'}],\n",
       " 'rank': 1}"
      ]
     },
     "execution_count": 8,
     "metadata": {},
     "output_type": "execute_result"
    }
   ],
   "source": [
    "results[0]"
   ]
  },
  {
   "cell_type": "code",
   "execution_count": null,
   "id": "8b7e6724-fba1-46a4-b17b-f4935bd199c6",
   "metadata": {},
   "outputs": [],
   "source": [
    "chrome_options = Options()\n",
    "chrome_options.add_argument(\"--headless\")  # Run headless Chrome\n",
    "chrome_options.add_argument(\"--no-sandbox\")\n",
    "chrome_options.add_argument(\"--disable-dev-shm-usage\")\n",
    "\n",
    "driver = uc.Chrome(options=chrome_options)\n",
    "driver.get('https://www.anduril.com/careers/')\n",
    "\n",
    "# Wait for the page to load completely (this can be adjusted as needed)\n",
    "driver.implicitly_wait(2)\n",
    "\n",
    "# Extract text content from the body or specific elements\n",
    "# content = driver.find_element(By.TAG_NAME, \"body\").text\n",
    "\n",
    "def get_page_source(url):\n",
    "    chrome_options = Options()\n",
    "    chrome_options.add_argument(\"--headless\")  # Run headless Chrome\n",
    "    chrome_options.add_argument(\"--no-sandbox\")\n",
    "    chrome_options.add_argument(\"--disable-dev-shm-usage\")\n",
    "    \n",
    "    driver = uc.Chrome(options=chrome_options)\n",
    "    driver.get(url)\n",
    "\n",
    "    # Wait for JavaScript to finish loading\n",
    "    print(\"Waiting for javascript to finish loading\")\n",
    "    WebDriverWait(driver, 10).until(\n",
    "        lambda d: d.execute_script(\"return document.readyState\") == \"complete\"\n",
    "    )\n",
    "    print(\"Done.\")\n",
    "    \n",
    "    # Wait for the page to load completely (this can be adjusted as needed)\n",
    "    driver.implicitly_wait(2)\n",
    "    \n",
    "    # Extract text content from the body or specific elements\n",
    "    # content = driver.find_element(By.TAG_NAME, \"body\").text\n",
    "\n",
    "    return driver.page_source"
   ]
  },
  {
   "cell_type": "code",
   "execution_count": null,
   "id": "c73ab1bc-a225-4a4b-a5c7-98a8e960fec1",
   "metadata": {},
   "outputs": [],
   "source": [
    "len(driver.page_source)"
   ]
  },
  {
   "cell_type": "markdown",
   "id": "66e4da1c-3236-46b7-a73c-aa0b4b467920",
   "metadata": {},
   "source": [
    "# LLM Service"
   ]
  },
  {
   "cell_type": "code",
   "execution_count": null,
   "id": "cc535a6a-d314-4fc3-b4f5-fef1a1ee143a",
   "metadata": {},
   "outputs": [],
   "source": [
    "def strip_html(soup):\n",
    "    for tag in soup([\"script\", \"style\", \"iframe\"]):\n",
    "        tag.decompose()\n",
    "\n",
    "    # Iterate over all elements in the soup\n",
    "    for tag in soup.find_all(True):\n",
    "        # Remove the class attribute from each tag\n",
    "        tag.attrs.pop(\"class\", None)\n",
    "\n",
    "    # List of attributes to preserve\n",
    "    preserve_attrs = [\"id\", \"href\", \"datetime\"]\n",
    "\n",
    "    # Iterate over all elements in the soup\n",
    "    for tag in soup.find_all(True):\n",
    "        # Get the attributes of the current tag\n",
    "        attrs = tag.attrs.copy()  # Copy to avoid modifying while iterating\n",
    "\n",
    "        # Remove all attributes except the ones in preserve_attrs\n",
    "        for attr in attrs:\n",
    "            if attr not in preserve_attrs:\n",
    "                tag.attrs.pop(attr, None)\n",
    "\n",
    "    # Remove all comments\n",
    "    for comment in soup.find_all(string=lambda text: isinstance(text, Comment)):\n",
    "        comment.extract()\n",
    "\n",
    "    return soup\n",
    "\n",
    "def fetch_all_links_from_webpage(self, soup):\n",
    "    # Return the href attribute from each <a> tag\n",
    "    links = soup.find_all(\"a\")\n",
    "    return set([link.get(\"href\") for link in links if link.get(\"href\")])\n",
    "\n",
    "def resolve_url(base_url, link):\n",
    "    # Parse the link\n",
    "    parsed_link = urlparse(link)\n",
    "    \n",
    "    # Check if the link is relative (it doesn't have a scheme or netloc)\n",
    "    if not parsed_link.scheme and not parsed_link.netloc:\n",
    "        # Combine it with the base URL\n",
    "        combined_url = urljoin(base_url, link)\n",
    "        return combined_url\n",
    "    else:\n",
    "        # The link is absolute\n",
    "        return link\n",
    "\n",
    "\n",
    "class LLMService:\n",
    "    def __init__(self, anthropic_api_key: str):\n",
    "        self.client = Anthropic(api_key=anthropic_api_key)\n",
    "\n",
    "    def create_message(self, prompt, system_prompt, model, temperature, max_tokens):\n",
    "        message = self.client.messages.create(\n",
    "            model=model,\n",
    "            temperature=temperature,\n",
    "            max_tokens=max_tokens,\n",
    "            system=system_prompt,\n",
    "            messages=[{\"role\": \"user\", \"content\": [{\"type\": \"text\", \"text\": prompt}]}],\n",
    "        )\n",
    "        return message.content[0].text\n",
    "\n",
    "    def parse_openings_from_html(self, company: str, job_type: str, raw_html: str) -> List[JobOpening]:\n",
    "        prompt = f\"{raw_html}\\n\\n {PARSE_OPENINGS_PROMPT}\".format(company, job_type)\n",
    "        text_responses = self.create_message(\n",
    "            PARSE_HTML_SYSTEM_PROMPT,\n",
    "            prompt,\n",
    "            model=\"claude-3-5-sonnet-20240620\",\n",
    "            temperature=0.1,\n",
    "            max_tokens=4096,\n",
    "        )\n",
    "        print(text_responses)\n",
    "        json_response = json.loads(text_responses)\n",
    "        print(json_response)\n",
    "        return [\n",
    "            JobOpening(id=str(idx), **json_object)\n",
    "            for idx, json_object in enumerate(json_response)\n",
    "        ]\n",
    "\n",
    "    def parse_openings_page_link_from_html(self, company: str, raw_html: str) -> Optional[str]:\n",
    "        prompt = f\"{raw_html}\\n\\n {PARSE_OPENINGS_LINK_PROMPT}\".format(company)\n",
    "        return self.create_message(\n",
    "            PARSE_HTML_SYSTEM_PROMPT,\n",
    "            prompt,\n",
    "            model=\"claude-3-5-sonnet-20240620\",\n",
    "            temperature=0.1,\n",
    "            max_tokens=4096,\n",
    "        )"
   ]
  },
  {
   "cell_type": "markdown",
   "id": "7a95c20e-bdde-4381-b2f1-6f9df8a7c664",
   "metadata": {},
   "source": [
    "# Find Postings"
   ]
  },
  {
   "cell_type": "code",
   "execution_count": null,
   "id": "3323df03-da03-4d16-b6d7-2b01c44b15a2",
   "metadata": {},
   "outputs": [],
   "source": [
    "soup = BeautifulSoup(driver.page_source, \"html.parser\")"
   ]
  },
  {
   "cell_type": "code",
   "execution_count": null,
   "id": "a560c0ae-fe39-4c4a-b483-c2b373cc5cf3",
   "metadata": {},
   "outputs": [],
   "source": [
    "cleaned_html = str(strip_html(soup))\n",
    "print(len(cleaned_html))\n",
    "\n",
    "openings_link = llm_service.parse_openings_page_link_from_html(\"anduril\", cleaned_html)\n",
    "openings_link"
   ]
  },
  {
   "cell_type": "code",
   "execution_count": null,
   "id": "fa354777-2ee6-4efd-8318-a6631d9557a7",
   "metadata": {},
   "outputs": [],
   "source": [
    "full_url = resolve_url(\"https://www.anduril.com/careers/\", openings_link)"
   ]
  },
  {
   "cell_type": "code",
   "execution_count": null,
   "id": "546637bc-e158-4f25-9dca-65c46a373e7f",
   "metadata": {
    "scrolled": true
   },
   "outputs": [],
   "source": [
    "llm_service = LLMService(ANTHROPIC_API_KEY)\n",
    "page_source = get_page_source(full_url)\n",
    "soup = BeautifulSoup(page_source, \"html.parser\")\n",
    "cleaned_html = str(strip_html(soup))\n",
    "job_openings = llm_service.parse_openings_from_html(\"anduril\", \"software engineer\", cleaned_html)\n",
    "job_openings"
   ]
  },
  {
   "cell_type": "markdown",
   "id": "dc6ca66a-015d-4fa0-b4b1-d0d21dbe7b03",
   "metadata": {},
   "source": [
    "# Find People"
   ]
  },
  {
   "cell_type": "code",
   "execution_count": null,
   "id": "2eb9cb8e-9a87-41cd-a7b7-a858431af610",
   "metadata": {},
   "outputs": [],
   "source": [
    "base_url = 'https://linkedin.com/in/'\n",
    "company = \"anduril\"\n",
    "position = \"software engineering manager\"\n",
    "query = f\"site:{base_url} {company} {position}\"\n",
    "print(query)"
   ]
  },
  {
   "cell_type": "code",
   "execution_count": null,
   "id": "24936f29-cf3c-4f91-96da-cf1448f71b86",
   "metadata": {},
   "outputs": [],
   "source": [
    "payload = {'api_key': SERPDOG_API_KEY, 'q': query , 'gl':'us'}\n",
    "resp = requests.get('https://api.serpdog.io/search', params=payload)"
   ]
  },
  {
   "cell_type": "code",
   "execution_count": null,
   "id": "8066c5b4-bd84-43b7-a772-c395bf546e8e",
   "metadata": {
    "scrolled": true
   },
   "outputs": [],
   "source": [
    "print(resp.text)"
   ]
  },
  {
   "cell_type": "code",
   "execution_count": null,
   "id": "a8847683-4f0e-487a-911c-3b687c940643",
   "metadata": {},
   "outputs": [],
   "source": [
    "[(res['title'], res['link']) for res in json.loads(resp.text)['organic_results']]"
   ]
  },
  {
   "cell_type": "code",
   "execution_count": null,
   "id": "66bfe0ce-a8b8-43a9-bdc2-6766744fbeef",
   "metadata": {},
   "outputs": [],
   "source": [
    "test = [('Michael Nowak - Anduril Industries',\n",
    "  'https://www.linkedin.com/in/michael-nowak-ba332567'),\n",
    " ('Mike Glazer - Anduril Industries',\n",
    "  'https://www.linkedin.com/in/mike-glazer-5a885bb'),\n",
    " ('Julien Faro - Software Engineer - Anduril Industries',\n",
    "  'https://www.linkedin.com/in/julien-faro'),\n",
    " ('Thomas Weaver - Mission Software Engineer',\n",
    "  'https://www.linkedin.com/in/thomas-weaver-sw'),\n",
    " ('Varun Murthy - Mission Software Engineer',\n",
    "  'https://www.linkedin.com/in/varun-murthy-a9a4ba20a'),\n",
    " ('Nabil Enayet - Anduril Industries',\n",
    "  'https://www.linkedin.com/in/nabilenayet'),\n",
    " ('Spencer Fishman - Anduril Industries',\n",
    "  'https://www.linkedin.com/in/spencerfishman'),\n",
    " ('Shane Arnott - Anduril Industries',\n",
    "  'https://www.linkedin.com/in/shanearnott'),\n",
    " ('John Hottinger - Anduril Industries',\n",
    "  'https://www.linkedin.com/in/jhottinger'),\n",
    " ('Benjamin Colebrook - Software Engineer at Anduril',\n",
    "  'https://www.linkedin.com/in/benjamin-colebrook')]"
   ]
  },
  {
   "cell_type": "code",
   "execution_count": null,
   "id": "fb4e9be0-4f5d-434f-a980-043a2fe0d096",
   "metadata": {},
   "outputs": [],
   "source": [
    "# url = \"https://api.getprospect.com/public/v1/email/find?name={}&company={}\"\n",
    "linkedin_search_url = 'https://api.getprospect.com/public/v1/insights/contact?linkedinUrl={}&apiKey={}'\n",
    "headers = {\"accept\": \"application/json\", }\n",
    "for title, link in test:\n",
    "    print(title)\n",
    "    print(link)"
   ]
  },
  {
   "cell_type": "code",
   "execution_count": null,
   "id": "0c324e7e-97e8-4aee-af3c-25bd4fb6ff18",
   "metadata": {},
   "outputs": [],
   "source": [
    "link = test[0][1]\n",
    "response = requests.get(linkedin_search_url.format(link, PROSPECT_API_KEY))\n",
    "print(response)"
   ]
  },
  {
   "cell_type": "code",
   "execution_count": 30,
   "id": "a48d53a2-c739-4258-84d8-af45eacbf57f",
   "metadata": {},
   "outputs": [
    {
     "name": "stdout",
     "output_type": "stream",
     "text": [
      "anduril\n",
      "554d5e43-4150-4f71-a134-7ab2a2d91308\n",
      "Michael Nowak\n"
     ]
    }
   ],
   "source": [
    "name = json.loads(response.text)['firstName'] + ' ' + json.loads(response.text)['lastName']\n",
    "url = \"https://api.getprospect.com/public/v1/email/find?name={}&company={}&apiKey={}\"\n",
    "\n",
    "print(company)\n",
    "print(PROSPECT_API_KEY)\n",
    "print(name)\n",
    "response = requests.get(url.format(name, company, PROSPECT_API_KEY), headers=headers)"
   ]
  },
  {
   "cell_type": "code",
   "execution_count": 31,
   "id": "cd9dbdf8-1ff6-4c4d-9c89-d43d4d950b84",
   "metadata": {},
   "outputs": [
    {
     "data": {
      "text/plain": [
       "<Response [200]>"
      ]
     },
     "execution_count": 31,
     "metadata": {},
     "output_type": "execute_result"
    }
   ],
   "source": [
    "response"
   ]
  },
  {
   "cell_type": "code",
   "execution_count": 32,
   "id": "2d88afe1-537c-42b3-95d9-3e0eeadd8adb",
   "metadata": {},
   "outputs": [
    {
     "data": {
      "text/plain": [
       "'{\"email\":\"mnowak@anduril.com\",\"status\":\"accept_all\"}'"
      ]
     },
     "execution_count": 32,
     "metadata": {},
     "output_type": "execute_result"
    }
   ],
   "source": [
    "response.text"
   ]
  },
  {
   "cell_type": "code",
   "execution_count": 17,
   "id": "139bc020-810e-42c4-8634-bc5f869d9a6f",
   "metadata": {},
   "outputs": [],
   "source": [
    "\n",
    "class ScrapingService:\n",
    "\n",
    "    def __init__(self, anthropic_api_key: str):\n",
    "        self.client = Anthropic(api_key=anthropic_api_key)\n",
    "\n",
    "    @staticmethod\n",
    "    def strip_html(soup):\n",
    "        for tag in soup([\"script\", \"style\", \"iframe\"]):\n",
    "            tag.decompose()\n",
    "\n",
    "        # Iterate over all elements in the soup\n",
    "        for tag in soup.find_all(True):\n",
    "            # Remove the class attribute from each tag\n",
    "            tag.attrs.pop(\"class\", None)\n",
    "\n",
    "        # List of attributes to preserve\n",
    "        preserve_attrs = [\"id\", \"href\", \"datetime\"]\n",
    "\n",
    "        # Iterate over all elements in the soup\n",
    "        for tag in soup.find_all(True):\n",
    "            # Get the attributes of the current tag\n",
    "            attrs = tag.attrs.copy()  # Copy to avoid modifying while iterating\n",
    "\n",
    "            # Remove all attributes except the ones in preserve_attrs\n",
    "            for attr in attrs:\n",
    "                if attr not in preserve_attrs:\n",
    "                    tag.attrs.pop(attr, None)\n",
    "\n",
    "        # Remove all comments\n",
    "        for comment in soup.find_all(string=lambda text: isinstance(text, Comment)):\n",
    "            comment.extract()\n",
    "\n",
    "        return soup\n",
    "\n",
    "    @staticmethod\n",
    "    def fetch_all_links_from_webpage(soup):\n",
    "        # Return the href attribute from each <a> tag\n",
    "        links = soup.find_all(\"a\")\n",
    "        return set([link.get(\"href\") for link in links if link.get(\"href\")])\n",
    "\n",
    "    @staticmethod\n",
    "    def resolve_url(base_url, link):\n",
    "        # Parse the link\n",
    "        parsed_link = urlparse(link)\n",
    "\n",
    "        # Check if the link is relative (it doesn't have a scheme or netloc)\n",
    "        if not parsed_link.scheme and not parsed_link.netloc:\n",
    "            # Combine it with the base URL\n",
    "            combined_url = urljoin(base_url, link)\n",
    "            return combined_url\n",
    "        else:\n",
    "            # The link is absolute\n",
    "            return link\n",
    "\n",
    "    @staticmethod\n",
    "    def get_page_source(url):\n",
    "        chrome_options = Options()\n",
    "        chrome_options.add_argument(\"--headless\")  # Run headless Chrome\n",
    "        chrome_options.add_argument(\"--no-sandbox\")\n",
    "        chrome_options.add_argument(\"--disable-dev-shm-usage\")\n",
    "\n",
    "        driver = uc.Chrome(options=chrome_options)\n",
    "        driver.get(url)\n",
    "\n",
    "        # Wait for JavaScript to finish loading\n",
    "        print(\"Waiting for javascript to finish loading\")\n",
    "        WebDriverWait(driver, 10).until(\n",
    "            lambda d: d.execute_script(\"return document.readyState\") == \"complete\"\n",
    "        )\n",
    "        print(\"Done.\")\n",
    "\n",
    "        # Wait for the page to load completely (this can be adjusted as needed)\n",
    "        driver.implicitly_wait(2)\n",
    "\n",
    "        # Extract text content from the body or specific elements\n",
    "        # content = driver.find_element(By.TAG_NAME, \"body\").text\n",
    "        page_source = driver.page_source\n",
    "\n",
    "        driver.quit()\n",
    "\n",
    "        return page_source\n",
    "\n",
    "    def create_message(\n",
    "        self, prompt, system_prompt, model, temperature, max_tokens\n",
    "    ) -> str:\n",
    "        message = self.client.messages.create(\n",
    "            model=model,\n",
    "            temperature=temperature,\n",
    "            max_tokens=max_tokens,\n",
    "            system=system_prompt,\n",
    "            messages=[{\"role\": \"user\", \"content\": [{\"type\": \"text\", \"text\": prompt}]}],\n",
    "        )\n",
    "        return message.content[0].text\n",
    "\n",
    "    @staticmethod\n",
    "    def parse_openings_from_html(\n",
    "        company: str, job_type: str, raw_html: str\n",
    "    ) -> List[JobOpening]:\n",
    "        prompt = f\"{raw_html}\\n\\n {PARSE_OPENINGS_PROMPT}\".format(company, job_type)\n",
    "        text_responses = self.create_message(\n",
    "            PARSE_HTML_SYSTEM_PROMPT,\n",
    "            prompt,\n",
    "            model=\"claude-3-5-sonnet-20240620\",\n",
    "            temperature=0.1,\n",
    "            max_tokens=4096,\n",
    "        )\n",
    "        print(text_responses)\n",
    "        json_response = json.loads(text_responses)\n",
    "        print(json_response)\n",
    "        return [\n",
    "            JobOpening(id=str(idx), **json_object)\n",
    "            for idx, json_object in enumerate(json_response)\n",
    "        ]\n",
    "\n",
    "    def parse_openings_page_link_from_html(\n",
    "        self, company: str, raw_html: str\n",
    "    ) -> Optional[str]:\n",
    "        # print(f\"Raw HTML: {raw_html}\")\n",
    "        print(f\"Parsing openings page link from html for {company}\")\n",
    "        prompt = f\"{raw_html}\\n\\n {PARSE_OPENINGS_LINK_PROMPT}\".format(company)\n",
    "        print()\n",
    "        return self.create_message(\n",
    "            PARSE_HTML_SYSTEM_PROMPT,\n",
    "            prompt,\n",
    "            model=\"claude-3-5-sonnet-20240620\",\n",
    "            temperature=0.1,\n",
    "            max_tokens=4096,\n",
    "        )\n",
    "\n",
    "scraping_service = ScrapingService(ANTHROPIC_API_KEY)\n"
   ]
  },
  {
   "cell_type": "code",
   "execution_count": null,
   "id": "63e0b34a-3d0b-40f4-8316-2aff578f1d6f",
   "metadata": {},
   "outputs": [],
   "source": [
    "html_source = scraping_service.get_page_source(url=\"https://www.anduril.com/careers\")\n",
    "len(html_source)"
   ]
  },
  {
   "cell_type": "code",
   "execution_count": 48,
   "id": "44af2b80-e7e3-4550-a9b5-d5ff4d94474b",
   "metadata": {},
   "outputs": [
    {
     "data": {
      "text/plain": [
       "[{'text': ' Anduril', 'link': '/'},\n",
       " {'text': 'Command & Control', 'link': '/command-and-control/'},\n",
       " {'text': 'Mission Autonomy', 'link': '/mission-autonomy/'},\n",
       " {'text': 'Counter UAS', 'link': '/capability/counter-uas/'},\n",
       " {'text': 'Counter Intrusion', 'link': '/capability/land/'},\n",
       " {'text': 'Maritime Counter Intrusion', 'link': '/capability/Sea/'},\n",
       " {'text': 'Roadrunner', 'link': '/roadrunner/'},\n",
       " {'text': 'Fury', 'link': '/fury/'},\n",
       " {'text': 'Ghost', 'link': '/hardware/ghost-autonomous-suas/'},\n",
       " {'text': 'Altius', 'link': '/hardware/altius/'},\n",
       " {'text': 'Dive-LD', 'link': '/hardware/dive-ld/'},\n",
       " {'text': 'Solid Rocket Motors', 'link': '/hardware/solid-rocket-motors/'},\n",
       " {'text': 'Careers', 'link': '/careers/'},\n",
       " {'text': 'Emerging Talent', 'link': '/internships-at-anduril/'},\n",
       " {'text': 'SkillBridge', 'link': '/skillbridge/'},\n",
       " {'text': 'Open Roles', 'link': '/open-roles/'},\n",
       " {'text': 'Mission', 'link': '/mission/'},\n",
       " {'text': 'Newsroom', 'link': '/newsroom/'},\n",
       " {'text': 'Media', 'link': '/media/'},\n",
       " {'text': 'Anvil', 'link': '/hardware/anvil/'},\n",
       " {'text': 'Altius', 'link': '/hardware/altius/'},\n",
       " {'text': 'Command & Control', 'link': '/command-and-control/'},\n",
       " {'text': 'Dive-LD', 'link': '/hardware/dive-ld/'},\n",
       " {'text': 'Fury', 'link': '/fury/'},\n",
       " {'text': 'Ghost', 'link': '/hardware/ghost-autonomous-suas/'},\n",
       " {'text': 'Iris', 'link': '/hardware/iris/'},\n",
       " {'text': 'Menace', 'link': '/hardware/menace/'},\n",
       " {'text': 'Mission Autonomy', 'link': '/mission-autonomy/'},\n",
       " {'text': 'Pulsar', 'link': '/hardware/pulsar/'},\n",
       " {'text': 'Roadrunner', 'link': '/roadrunner/'},\n",
       " {'text': 'Sentry', 'link': '/hardware/sentry/'},\n",
       " {'text': 'Solid Rocket Motors', 'link': '/hardware/solid-rocket-motors/'},\n",
       " {'text': 'Wisp', 'link': '/hardware/wisp/'},\n",
       " {'text': 'View Openings', 'link': '/open-roles/'},\n",
       " {'text': 'our leadership', 'link': 'https://www.anduril.com/leadership/'},\n",
       " {'text': '8/14/2024Anduril Australia to Build Ghost Shark FactoryRead More',\n",
       "  'link': '/article/anduril-australia-to-build-ghost-shark-factory/'},\n",
       " {'text': 'Read More',\n",
       "  'link': '/article/anduril-australia-to-build-ghost-shark-factory/'},\n",
       " {'text': '8/7/2024Anduril Raises $1.5 Billion to Rebuild the Arsenal of DemocracyRead More',\n",
       "  'link': '/article/anduril-raises-usd1-5-billion-to-rebuild-the-arsenal-of-democracy/'},\n",
       " {'text': 'Read More',\n",
       "  'link': '/article/anduril-raises-usd1-5-billion-to-rebuild-the-arsenal-of-democracy/'},\n",
       " {'text': '7/31/2024Anduril Industries, Sumisho Aero-Systems to demonstrate diverse command and control for the Japan Maritime Self Defense ForceRead More',\n",
       "  'link': '/article/anduril-industries-sumisho-aero-systems-to-demonstrate-diverse-command-and-control-for-the-japan/'},\n",
       " {'text': 'Read More',\n",
       "  'link': '/article/anduril-industries-sumisho-aero-systems-to-demonstrate-diverse-command-and-control-for-the-japan/'},\n",
       " {'text': '6/19/2024Rheinmetall and Anduril join forces to develop C-sUAS systemRead More',\n",
       "  'link': '/article/rheinmetall-and-anduril-join-forces-to-develop-c-suas-system/'},\n",
       " {'text': 'Read More',\n",
       "  'link': '/article/rheinmetall-and-anduril-join-forces-to-develop-c-suas-system/'},\n",
       " {'text': 'More in Newsroom', 'link': '/newsroom/'},\n",
       " {'text': ' Anduril', 'link': '/'},\n",
       " {'text': 'Mission', 'link': '/mission/'},\n",
       " {'text': 'Careers', 'link': '/careers/'},\n",
       " {'text': 'Leadership', 'link': '/leadership/'},\n",
       " {'text': 'Newsroom', 'link': '/newsroom/'},\n",
       " {'text': 'Blog', 'link': 'https://medium.com/anduril-blog'},\n",
       " {'text': 'Media', 'link': '/media/'},\n",
       " {'text': 'Twitter', 'link': 'https://twitter.com/anduriltech'},\n",
       " {'text': 'LinkedIn',\n",
       "  'link': 'https://www.linkedin.com/company/andurilindustries/'},\n",
       " {'text': 'Instagram',\n",
       "  'link': 'https://www.instagram.com/anduril_industries/'},\n",
       " {'text': 'Counter UAS', 'link': '/capability/counter-uas/'},\n",
       " {'text': 'Counter Intrusion ', 'link': '/capability/land/'},\n",
       " {'text': 'Maritime Counter Intrusion', 'link': '/capability/Sea/'},\n",
       " {'text': 'Altius', 'link': '/hardware/altius/'},\n",
       " {'text': 'Anvil', 'link': '/hardware/anvil/'},\n",
       " {'text': 'Command & Control', 'link': '/command-and-control/'},\n",
       " {'text': 'Dive-LD', 'link': '/hardware/dive-ld/'},\n",
       " {'text': 'Fury', 'link': '/fury/'},\n",
       " {'text': 'Ghost', 'link': '/hardware/ghost-autonomous-suas/'},\n",
       " {'text': 'Iris', 'link': '/hardware/iris/'},\n",
       " {'text': 'Menace', 'link': '/hardware/menace/'},\n",
       " {'text': 'Mission Autonomy', 'link': '/mission-autonomy/'},\n",
       " {'text': 'Pulsar', 'link': '/hardware/pulsar/'},\n",
       " {'text': 'Roadrunner', 'link': '/roadrunner/'},\n",
       " {'text': 'Sentry', 'link': '/hardware/sentry/'},\n",
       " {'text': 'Solid Rocket Motors', 'link': '/hardware/solid-rocket-motors/'},\n",
       " {'text': 'Wisp', 'link': '/hardware/wisp/'},\n",
       " {'text': 'contact@anduril.com', 'link': 'mailto:contact@anduril.com'},\n",
       " {'text': 'Privacy Policy', 'link': '/document/privacy-policy/'},\n",
       " {'text': 'Terms of Use', 'link': '/document/terms-of-use/'},\n",
       " {'text': 'Modern Anti-Slavery Policy',\n",
       "  'link': 'https://cdn.sanity.io/files/z5s3oquj/staging/9962262bc3ac54c7488bb89cf1da91ea4f413b52.pdf'}]"
      ]
     },
     "execution_count": 48,
     "metadata": {},
     "output_type": "execute_result"
    }
   ],
   "source": [
    "soup = BeautifulSoup(html_source, \"html.parser\")\n",
    "[{'text': a_tag.get_text(), 'link': a_tag.get('href')} for a_tag in soup.find_all('a')]"
   ]
  },
  {
   "cell_type": "code",
   "execution_count": 20,
   "id": "3825b6bd-b8a8-45ce-b123-cc39d280a91b",
   "metadata": {},
   "outputs": [
    {
     "name": "stdout",
     "output_type": "stream",
     "text": [
      "Parsing openings page link from html for anduril\n"
     ]
    },
    {
     "ename": "KeyError",
     "evalue": "'opacity'",
     "output_type": "error",
     "traceback": [
      "\u001b[0;31m---------------------------------------------------------------------------\u001b[0m",
      "\u001b[0;31mKeyError\u001b[0m                                  Traceback (most recent call last)",
      "Cell \u001b[0;32mIn[20], line 2\u001b[0m\n\u001b[1;32m      1\u001b[0m company \u001b[38;5;241m=\u001b[39m \u001b[38;5;124m\"\u001b[39m\u001b[38;5;124manduril\u001b[39m\u001b[38;5;124m\"\u001b[39m\n\u001b[0;32m----> 2\u001b[0m openings_link \u001b[38;5;241m=\u001b[39m \u001b[43mscraping_service\u001b[49m\u001b[38;5;241;43m.\u001b[39;49m\u001b[43mparse_openings_page_link_from_html\u001b[49m\u001b[43m(\u001b[49m\n\u001b[1;32m      3\u001b[0m \u001b[43m    \u001b[49m\u001b[43mcompany\u001b[49m\u001b[38;5;241;43m=\u001b[39;49m\u001b[38;5;124;43m\"\u001b[39;49m\u001b[38;5;124;43manduril\u001b[39;49m\u001b[38;5;124;43m\"\u001b[39;49m\u001b[43m,\u001b[49m\u001b[43m \u001b[49m\u001b[43mraw_html\u001b[49m\u001b[38;5;241;43m=\u001b[39;49m\u001b[43mhtml_source\u001b[49m\n\u001b[1;32m      4\u001b[0m \u001b[43m)\u001b[49m\n",
      "Cell \u001b[0;32mIn[17], line 120\u001b[0m, in \u001b[0;36mScrapingService.parse_openings_page_link_from_html\u001b[0;34m(self, company, raw_html)\u001b[0m\n\u001b[1;32m    115\u001b[0m \u001b[38;5;28;01mdef\u001b[39;00m \u001b[38;5;21mparse_openings_page_link_from_html\u001b[39m(\n\u001b[1;32m    116\u001b[0m     \u001b[38;5;28mself\u001b[39m, company: \u001b[38;5;28mstr\u001b[39m, raw_html: \u001b[38;5;28mstr\u001b[39m\n\u001b[1;32m    117\u001b[0m ) \u001b[38;5;241m-\u001b[39m\u001b[38;5;241m>\u001b[39m Optional[\u001b[38;5;28mstr\u001b[39m]:\n\u001b[1;32m    118\u001b[0m     \u001b[38;5;66;03m# print(f\"Raw HTML: {raw_html}\")\u001b[39;00m\n\u001b[1;32m    119\u001b[0m     \u001b[38;5;28mprint\u001b[39m(\u001b[38;5;124mf\u001b[39m\u001b[38;5;124m\"\u001b[39m\u001b[38;5;124mParsing openings page link from html for \u001b[39m\u001b[38;5;132;01m{\u001b[39;00mcompany\u001b[38;5;132;01m}\u001b[39;00m\u001b[38;5;124m\"\u001b[39m)\n\u001b[0;32m--> 120\u001b[0m     prompt \u001b[38;5;241m=\u001b[39m \u001b[38;5;124;43mf\u001b[39;49m\u001b[38;5;124;43m\"\u001b[39;49m\u001b[38;5;132;43;01m{\u001b[39;49;00m\u001b[43mraw_html\u001b[49m\u001b[38;5;132;43;01m}\u001b[39;49;00m\u001b[38;5;130;43;01m\\n\u001b[39;49;00m\u001b[38;5;130;43;01m\\n\u001b[39;49;00m\u001b[38;5;124;43m \u001b[39;49m\u001b[38;5;132;43;01m{\u001b[39;49;00m\u001b[43mPARSE_OPENINGS_LINK_PROMPT\u001b[49m\u001b[38;5;132;43;01m}\u001b[39;49;00m\u001b[38;5;124;43m\"\u001b[39;49m\u001b[38;5;241;43m.\u001b[39;49m\u001b[43mformat\u001b[49m\u001b[43m(\u001b[49m\u001b[43mcompany\u001b[49m\u001b[43m)\u001b[49m\n\u001b[1;32m    121\u001b[0m     \u001b[38;5;28mprint\u001b[39m()\n\u001b[1;32m    122\u001b[0m     \u001b[38;5;28;01mreturn\u001b[39;00m \u001b[38;5;28mself\u001b[39m\u001b[38;5;241m.\u001b[39mcreate_message(\n\u001b[1;32m    123\u001b[0m         PARSE_HTML_SYSTEM_PROMPT,\n\u001b[1;32m    124\u001b[0m         prompt,\n\u001b[0;32m   (...)\u001b[0m\n\u001b[1;32m    127\u001b[0m         max_tokens\u001b[38;5;241m=\u001b[39m\u001b[38;5;241m4096\u001b[39m,\n\u001b[1;32m    128\u001b[0m     )\n",
      "\u001b[0;31mKeyError\u001b[0m: 'opacity'"
     ]
    }
   ],
   "source": [
    "company = \"anduril\"\n",
    "openings_link = scraping_service.parse_openings_page_link_from_html(\n",
    "    company=\"anduril\", raw_html=html_source\n",
    ")"
   ]
  },
  {
   "cell_type": "code",
   "execution_count": 49,
   "id": "2a4b797c-708f-4c68-a410-e112fc9759c6",
   "metadata": {},
   "outputs": [],
   "source": [
    "PARSE_OPENINGS_LINK_PROMPT = \"\"\"\n",
    "This is the list of links tags (containing the content and href) parsed from the html content of the {} careers page. This list contains either a list of job openings, or a link to the list of openings/roles/positions/jobs. Return the link to the page containing openings/roles/positions/jobs. If the current page contains the list then simply return the current link.\n",
    "Dp not acknowledge this request, simply return only the link, with no additional text or explanation.\n",
    "\"\"\"\n",
    "link_prompt = PARSE_OPENINGS_LINK_PROMPT.format(company)"
   ]
  },
  {
   "cell_type": "code",
   "execution_count": 50,
   "id": "1bae77c0-c3ff-4e5c-bf68-5adbd4b146bb",
   "metadata": {},
   "outputs": [],
   "source": [
    "prompt = f\"\"\"{html.escape(html_source)}\\n\\n {link_prompt}\"\"\""
   ]
  },
  {
   "cell_type": "code",
   "execution_count": 31,
   "id": "e0b5fa92-6111-4c5b-9e97-93d7e983bede",
   "metadata": {},
   "outputs": [],
   "source": [
    "import html\n"
   ]
  },
  {
   "cell_type": "code",
   "execution_count": 51,
   "id": "69ac40d2-c3f0-4e70-af90-a73a40b5e9c2",
   "metadata": {},
   "outputs": [
    {
     "data": {
      "text/plain": [
       "[JobOpening(id='0', title='Compliance Manager', location=None, link='/careers#Compliance-heading', related=False),\n",
       " JobOpening(id='1', title='Data Scientist', location=None, link='/careers#Data-heading', related=True),\n",
       " JobOpening(id='2', title='Designer', location=None, link='/careers#Design-heading', related=False),\n",
       " JobOpening(id='3', title='Software Engineer', location=None, link='/careers#Engineering-heading', related=True),\n",
       " JobOpening(id='4', title='Financial Analyst', location=None, link='/careers#Finance-heading', related=False),\n",
       " JobOpening(id='5', title='Legal Counsel', location=None, link='/careers#Legal-heading', related=False),\n",
       " JobOpening(id='6', title='Marketing Manager', location=None, link='/careers#Marketing-heading', related=False),\n",
       " JobOpening(id='7', title='Operations Specialist', location=None, link='/careers#Operations-heading', related=False),\n",
       " JobOpening(id='8', title='Administrative Assistant', location=None, link='/careers#Other General and Administrative-heading', related=False),\n",
       " JobOpening(id='9', title='HR Specialist', location=None, link='/careers#People-heading', related=False),\n",
       " JobOpening(id='10', title='Sales Representative', location=None, link='/careers#Sales-heading', related=False)]"
      ]
     },
     "execution_count": 51,
     "metadata": {},
     "output_type": "execute_result"
    }
   ],
   "source": [
    "[JobOpening(id='0', title='Compliance Manager', location=None, link='/careers#Compliance-heading', related=False), JobOpening(id='1', title='Data Scientist', location=None, link='/careers#Data-heading', related=True), JobOpening(id='2', title='Designer', location=None, link='/careers#Design-heading', related=False), JobOpening(id='3', title='Software Engineer', location=None, link='/careers#Engineering-heading', related=True), JobOpening(id='4', title='Financial Analyst', location=None, link='/careers#Finance-heading', related=False), JobOpening(id='5', title='Legal Counsel', location=None, link='/careers#Legal-heading', related=False), JobOpening(id='6', title='Marketing Manager', location=None, link='/careers#Marketing-heading', related=False), JobOpening(id='7', title='Operations Specialist', location=None, link='/careers#Operations-heading', related=False), JobOpening(id='8', title='Administrative Assistant', location=None, link='/careers#Other General and Administrative-heading', related=False), JobOpening(id='9', title='HR Specialist', location=None, link='/careers#People-heading', related=False), JobOpening(id='10', title='Sales Representative', location=None, link='/careers#Sales-heading', related=False)]"
   ]
  },
  {
   "cell_type": "code",
   "execution_count": null,
   "id": "4948f6fe-a6d7-44c8-aa1f-b203bb742fdc",
   "metadata": {},
   "outputs": [],
   "source": []
  }
 ],
 "metadata": {
  "kernelspec": {
   "display_name": "Python (reefer)",
   "language": "python",
   "name": "reefer"
  },
  "language_info": {
   "codemirror_mode": {
    "name": "ipython",
    "version": 3
   },
   "file_extension": ".py",
   "mimetype": "text/x-python",
   "name": "python",
   "nbconvert_exporter": "python",
   "pygments_lexer": "ipython3",
   "version": "3.12.5"
  }
 },
 "nbformat": 4,
 "nbformat_minor": 5
}
