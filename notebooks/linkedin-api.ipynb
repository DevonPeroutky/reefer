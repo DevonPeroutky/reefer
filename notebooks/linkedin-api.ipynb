{
 "cells": [
  {
   "cell_type": "code",
   "execution_count": null,
   "id": "73e65d33-7a98-4c28-bc7e-e176e01e3c92",
   "metadata": {},
   "outputs": [],
   "source": [
    "from linkedin_api import Linkedin"
   ]
  },
  {
   "cell_type": "code",
   "execution_count": null,
   "id": "493dc1d8-c57d-423d-8764-77c858fd313b",
   "metadata": {},
   "outputs": [],
   "source": [
    "not_a_password = \"Arsenal142s!Linkedin2\"\n",
    "\n",
    "# Authenticate using any Linkedin user account credentials\n",
    "api = Linkedin('devon@landria.io', not_a_password)"
   ]
  },
  {
   "cell_type": "code",
   "execution_count": null,
   "id": "7b6bfc45-be6b-4cd8-a692-679dd1a8af46",
   "metadata": {},
   "outputs": [],
   "source": [
    "# GET a profile\n",
    "profile = api.get_profile('devon-peroutky-806748146')\n",
    "print(profile)\n",
    "\n",
    "# GET a profiles contact info\n",
    "contact_info = api.get_profile_contact_info('devon-peroutky-806748146')"
   ]
  },
  {
   "cell_type": "code",
   "execution_count": 8,
   "id": "baec899a-3094-4a9d-97b2-132130c610a2",
   "metadata": {},
   "outputs": [],
   "source": [
    "res = api.get_company(\"valon-technologies\")"
   ]
  },
  {
   "cell_type": "code",
   "execution_count": 18,
   "id": "c2a26f4c-fdfd-4754-806f-e5973bfa934b",
   "metadata": {},
   "outputs": [
    {
     "name": "stdout",
     "output_type": "stream",
     "text": [
      "urn:li:fs_normalized_company:28792473\n"
     ]
    }
   ],
   "source": [
    "list(filter(lambda n: \"rn\" in n, res.keys()))\n",
    "print(res['entityUrn'])"
   ]
  },
  {
   "cell_type": "code",
   "execution_count": null,
   "id": "869a2dcf-76f8-4f76-84e8-529aacaea61c",
   "metadata": {},
   "outputs": [],
   "source": [
    "print(profile['urn_id'])\n",
    "api.get_profile_connections(profile['urn_id'])"
   ]
  },
  {
   "cell_type": "code",
   "execution_count": 25,
   "id": "d061ff87-d434-4f1c-b5fb-e2308b5b799b",
   "metadata": {},
   "outputs": [
    {
     "data": {
      "text/plain": [
       "[{'urn_id': 'ACoAABW5E1QBU_Hww5--sumNAcIu7b9Mgfb0caQ',\n",
       "  'distance': 'DISTANCE_1',\n",
       "  'jobtitle': 'Engineering at Valon',\n",
       "  'location': 'New York, NY',\n",
       "  'name': 'Ankit Gupta'},\n",
       " {'urn_id': 'ACoAAAomtKcB1Dlw-BUNytnCcE0RgV3LutNepfI',\n",
       "  'distance': 'DISTANCE_1',\n",
       "  'jobtitle': 'Software Engineer @ Valon (ex-Twilio)',\n",
       "  'location': 'Austin, TX',\n",
       "  'name': 'James Bonner'},\n",
       " {'urn_id': 'ACoAAAZWzgMB3a0fDwk1hZzxqTzwxoRe8QwJ5RY',\n",
       "  'distance': 'DISTANCE_1',\n",
       "  'jobtitle': \"Co-Founder / Head of Engineering at Valon - we're hiring!\",\n",
       "  'location': 'New York City Metropolitan Area',\n",
       "  'name': 'Jonathan Hsu'},\n",
       " {'urn_id': 'ACoAABUybasBxcMAJNtG69R7BHrKrfAYjVY-Tas',\n",
       "  'distance': 'DISTANCE_1',\n",
       "  'jobtitle': 'living life 🎉',\n",
       "  'location': 'New York City Metropolitan Area',\n",
       "  'name': 'Hugh Han'}]"
      ]
     },
     "execution_count": 25,
     "metadata": {},
     "output_type": "execute_result"
    }
   ],
   "source": [
    "api.search_people(\"software engineer\", current_company=['28792473'], network_depths=\"F\", limit=10)"
   ]
  },
  {
   "cell_type": "code",
   "execution_count": 28,
   "id": "e6a342d6-4c08-44fa-a22c-6e272a012195",
   "metadata": {},
   "outputs": [
    {
     "data": {
      "text/plain": [
       "[{'urn_id': 'ACoAACQBWGAB0t07u0ki0XBVeQsw7_Bj2QKLOv4',\n",
       "  'distance': 'DISTANCE_2',\n",
       "  'jobtitle': 'Staff Software Engineer at ServiceNow',\n",
       "  'location': 'San Diego Metropolitan Area',\n",
       "  'name': 'Rob Grossman'},\n",
       " {'urn_id': 'ACoAAEUVS78BH7WK4CSxF9dR1TrGWSpOXIfKSTE',\n",
       "  'distance': 'DISTANCE_3',\n",
       "  'jobtitle': 'Software Engineer',\n",
       "  'location': 'Austin, TX',\n",
       "  'name': 'Saavan Nanavati'},\n",
       " {'urn_id': 'ACoAABddnZwBb-1Kc44ay1v3Ts8_BZYUosVNWTU',\n",
       "  'distance': 'DISTANCE_3',\n",
       "  'jobtitle': 'Frontend Engineer @ Atlassian',\n",
       "  'location': 'Jaipur',\n",
       "  'name': 'Roopal Jasnani'},\n",
       " {'urn_id': 'ACoAAE673dQBVGnvCcOOq7XapYS0_bYONTUpdKQ',\n",
       "  'distance': 'DISTANCE_3',\n",
       "  'jobtitle': 'CTO and Full-Stack Developer in TexasTechTitans | Web Development | Front-end Development | Back-end Development | Wordpress | React | Vue | Angular | PHP | Javascript | AWS | Azure | node.js | Webflow',\n",
       "  'location': 'Rosharon, TX',\n",
       "  'name': 'Justin Sutphen'},\n",
       " {'urn_id': 'ACoAABi9YnMBDZtb2BRdr7SIhDvmfZuJmG7HJW0',\n",
       "  'distance': 'DISTANCE_3',\n",
       "  'jobtitle': 'Writer',\n",
       "  'location': 'Cambridge, MA',\n",
       "  'name': 'Jakob G.'}]"
      ]
     },
     "execution_count": 28,
     "metadata": {},
     "output_type": "execute_result"
    }
   ],
   "source": [
    "api.search_people(\"software engineer\", past_companies=['28792473'], network_depths=\"O\", limit=10)"
   ]
  },
  {
   "cell_type": "code",
   "execution_count": 30,
   "id": "b0a5208d-a7ae-43ef-a7e2-7ed9ac93dc66",
   "metadata": {},
   "outputs": [
    {
     "data": {
      "text/plain": [
       "[{'urn_id': 'ACoAABVi474BLYziyBb7QkM-fHUhLa-ZgV-F0Vs',\n",
       "  'distance': 'DISTANCE_3',\n",
       "  'jobtitle': 'Staff Software Engineer at Valon',\n",
       "  'location': 'Chicago, IL',\n",
       "  'name': 'Svetoslav T.'},\n",
       " {'urn_id': 'ACoAABcnyzUB7rze9HJRtlbZ75GO0N6dtNRNYF0',\n",
       "  'distance': 'DISTANCE_3',\n",
       "  'jobtitle': 'Valon | Ex-Mooch | Ex-Meta | Yale | Twitter @kcheng96',\n",
       "  'location': 'Mountain View, CA',\n",
       "  'name': 'Ken Cheng'},\n",
       " {'urn_id': 'ACoAABwa9WMBKASsEe0UWxyygHdPL6aOxrIkPNA',\n",
       "  'distance': 'DISTANCE_3',\n",
       "  'jobtitle': 'Software Engineer at Valon',\n",
       "  'location': 'San Francisco, CA',\n",
       "  'name': 'Kelsea Tomaino'},\n",
       " {'urn_id': 'ACoAABVw8xoBjM051GWApOfOV_d98LMx0X-8VfA',\n",
       "  'distance': 'DISTANCE_3',\n",
       "  'jobtitle': 'Software Engineer',\n",
       "  'location': 'United States',\n",
       "  'name': 'Joseph Bateh'},\n",
       " {'urn_id': 'ACoAADTIiE0Blv-LtpY-LJ63v0HCpsJ2gRH-R1Y',\n",
       "  'distance': 'DISTANCE_3',\n",
       "  'jobtitle': 'Freelancer: Senior Software Entwicklerin/Full Stack(Java, Angular)',\n",
       "  'location': 'Vienna',\n",
       "  'name': 'Valon Pllana'},\n",
       " {'urn_id': 'ACoAABfnPR8Bemeyn5o6PxWhX-lp2y5yxrXz5dA',\n",
       "  'distance': 'DISTANCE_3',\n",
       "  'jobtitle': 'Sr Security Operations Engineer | CISSP, GCIH, GSEC',\n",
       "  'location': 'Denver, CO',\n",
       "  'name': 'Ryan B.'},\n",
       " {'urn_id': 'ACoAACKNrRkBrQ85qDI_rv4ZefR7Wo06Oe6LN1U',\n",
       "  'distance': 'DISTANCE_3',\n",
       "  'jobtitle': 'Business Systems Manager',\n",
       "  'location': 'Tempe, AZ',\n",
       "  'name': 'Lauren Fosgett'}]"
      ]
     },
     "execution_count": 30,
     "metadata": {},
     "output_type": "execute_result"
    }
   ],
   "source": [
    "api.search_people(\"software engineer\", current_company=['28792473'], network_depths=\"O\", limit=10)"
   ]
  },
  {
   "cell_type": "code",
   "execution_count": null,
   "id": "5cd738a8-d801-444f-8ae7-b9e8cfa44199",
   "metadata": {},
   "outputs": [],
   "source": []
  }
 ],
 "metadata": {
  "kernelspec": {
   "display_name": "Python (reefer)",
   "language": "python",
   "name": "reefer"
  },
  "language_info": {
   "codemirror_mode": {
    "name": "ipython",
    "version": 3
   },
   "file_extension": ".py",
   "mimetype": "text/x-python",
   "name": "python",
   "nbconvert_exporter": "python",
   "pygments_lexer": "ipython3",
   "version": "3.12.5"
  }
 },
 "nbformat": 4,
 "nbformat_minor": 5
}
