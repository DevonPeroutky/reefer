{
 "cells": [
  {
   "cell_type": "code",
   "execution_count": 55,
   "id": "dd3b4a55-0778-4e6d-a9e5-9a0112b393c1",
   "metadata": {},
   "outputs": [],
   "source": [
    "import importlib.util\n",
    "import requests\n",
    "import asyncio\n",
    "import os\n",
    "import sys\n",
    "import json\n",
    "\n",
    "from abc import ABC, abstractmethod\n",
    "from typing import Optional\n",
    "from pydantic import BaseModel\n",
    "from fasthtml.common import List\n",
    "from exa_py import Exa"
   ]
  },
  {
   "cell_type": "code",
   "execution_count": 65,
   "id": "98eb2be7-135e-4ec9-8be2-b5fc5d215f5f",
   "metadata": {},
   "outputs": [],
   "source": [
    "class SearchResult(BaseModel):\n",
    "    id: str\n",
    "    url: str\n",
    "    title: str\n",
    "    snippet: Optional[str]\n",
    "\n",
    "\n",
    "class SearchClient(ABC):\n",
    "    @abstractmethod\n",
    "    def search(self, query: str) -> str:\n",
    "        pass\n",
    "\n",
    "\n",
    "class ExaClient:\n",
    "    def __init__(self) -> None:\n",
    "        self.api_key = os.getenv(\"EXA_API_KEY\")\n",
    "        assert self.api_key, \"EXA_API_KEY environment variable is not set.\"\n",
    "        self.exa = Exa(self.api_key)\n",
    "\n",
    "    def search(self, query: str) -> List[SearchResult]:\n",
    "        result = self.exa.search_and_contents(\n",
    "            query,\n",
    "            type=\"neural\",\n",
    "            # use_autoprompt=True,\n",
    "            num_results=10,\n",
    "            text=True,\n",
    "        )\n",
    "        return [SearchResult(id=res.id, url=res.url, title=res.title, snippet=res.text) for res in result.results]\n",
    "\n",
    "\n",
    "class SerpDogClient:\n",
    "    def __init__(self) -> None:\n",
    "        self.api_key = os.getenv(\"SERPDOG_API_KEY\")\n",
    "        assert self.api_key, \"SERPDOG_API_KEY environment variable is not set.\"\n",
    "\n",
    "    def search(self, query: str) -> str:\n",
    "        payload = {\"api_key\": self.api_key, \"q\": query, \"gl\": \"us\"}\n",
    "        resp = requests.get(\"https://api.serpdog.io/search\", params=payload)\n",
    "        print(resp)\n",
    "        if resp.status_code != 200:\n",
    "            raise Exception(\n",
    "                \"Failed to fetch search results. Error: \", resp.status_code, resp.reason\n",
    "            )\n",
    "        return resp.text\n",
    "\n",
    "\n",
    "class GoogleSearchClient:\n",
    "    def __init__(self, API_KEY: str, SEARCH_ENGINE_ID: str) -> None:\n",
    "        self.api_key = os.getenv(\"GOOGLE_API_KEY\", API_KEY)\n",
    "        self.search_engine_id = os.getenv(\"GOOGLE_SEARCH_ENGINE_ID\", SEARCH_ENGINE_ID)\n",
    "        assert self.api_key, \"GOOGLE_API_KEY environment variable is not set.\"\n",
    "        assert self.search_engine_id, \"GOOGLE_SEARCH_ENGINE_ID environment variable is not set.\"\n",
    "\n",
    "    def search(self, query: str) -> List[SearchResult]:\n",
    "        url = \"https://www.googleapis.com/customsearch/v1\"\n",
    "        params = {\n",
    "            'key': self.api_key,\n",
    "            'cx': self.search_engine_id,\n",
    "            'q': query\n",
    "        }\n",
    "\n",
    "        resp = requests.get(url, params=params)\n",
    "\n",
    "        if resp.status_code != 200:\n",
    "            raise Exception(\n",
    "                f\"Failed to fetch search results. Error: {resp.status_code} - {resp.reason}\"\n",
    "            )\n",
    "\n",
    "        data = resp.json()\n",
    "\n",
    "        return [\n",
    "            SearchResult(\n",
    "                id=str(index),\n",
    "                url=item.get(\"link\"),\n",
    "                title=item.get(\"title\"),\n",
    "                snippet=item.get(\"snippet\"),\n",
    "            )\n",
    "            for index, item in enumerate(data.get(\"items\", []))\n",
    "        ]"
   ]
  },
  {
   "cell_type": "code",
   "execution_count": 59,
   "id": "1e85882e-114f-4e16-90ee-cd79fb2115a7",
   "metadata": {},
   "outputs": [],
   "source": [
    "client = ExaClient()"
   ]
  },
  {
   "cell_type": "code",
   "execution_count": 63,
   "id": "6c01b880-06db-459b-b7db-03b29ab91d10",
   "metadata": {},
   "outputs": [],
   "source": [
    "res = client.search(\"valon software careers\")"
   ]
  },
  {
   "cell_type": "code",
   "execution_count": 64,
   "id": "50118801-7d1f-496b-ad27-8f8f774f8b83",
   "metadata": {},
   "outputs": [
    {
     "data": {
      "text/plain": [
       "SearchResult(id='https://isovalent.com/careers/', url='https://isovalent.com/careers/', title='Isovalent — Careers', snippet='Come join a fast growing team and help define the future of open-source networking.  See open positions    Join Isovalent Isovalent is the company founded by the creators of Cilium and eBPF. We build open source software and enterprise solutions solving networking, security, and observability needs for modern cloud native infrastructure.   Amazing technology We are driven by a simple goal: Building amazing technology. Beginning with our open source roots, building outstanding technology with a great team continues to be at the core of everything we do. We work every day to inspire our customers with our products and exceed their expectations.   Open source Building open source software is the engine of our innovation and the root of our engineering culture. We believe that open source leads to great technology and the highest quality software and we apply its best practices across the board.   Inclusive teams Inclusive teams and culture are very important to us. Inclusive and diverse teams lead to better decisions, creative innovation, and well-balanced teams. From hiring, onboarding to everyday team culture, a welcoming and inclusive work environment enables all team members to collaborate in the most successful way possible.   Remote-first We strongly believe in a remote-first approach and build teams working around the world. Our work and communication culture allows teams to be successful regardless of their location. For those interested to work in an office, we offer office locations in Mountain View and Zurich.     Open Positions   Marketing   Technical Marketing Engineer, Observability (Mountain View, Zurich or Remote)   Regional/ Field Marketing Associate EMEA     Engineering   Go Software Engineer (Mountain View, Zurich or Remote)   eBPF/Kernel Engineer (US Timezone preferred, Remote, Mountain View)     Sales   Enterprise Account Executive - (East Coast, West Coast, Europe)   Senior Sales Engineer - US East/Central/West and Europe         US Headquarters 20830 Stevens Creek Blvd #1047  Cupertino, CA 95014 USA     Swiss Headquarters Hönggerstrasse 65, 8037Zürich, Switzerland        Product       Events     Blog')"
      ]
     },
     "execution_count": 64,
     "metadata": {},
     "output_type": "execute_result"
    }
   ],
   "source": [
    "res[0]"
   ]
  },
  {
   "cell_type": "code",
   "execution_count": 66,
   "id": "2f33a91b-4fad-4d69-9c47-72978427698d",
   "metadata": {},
   "outputs": [
    {
     "ename": "TypeError",
     "evalue": "GoogleSearchClient.__init__() missing 2 required positional arguments: 'API_KEY' and 'SEARCH_ENGINE_ID'",
     "output_type": "error",
     "traceback": [
      "\u001b[0;31m---------------------------------------------------------------------------\u001b[0m",
      "\u001b[0;31mTypeError\u001b[0m                                 Traceback (most recent call last)",
      "Cell \u001b[0;32mIn[66], line 1\u001b[0m\n\u001b[0;32m----> 1\u001b[0m google_client \u001b[38;5;241m=\u001b[39m \u001b[43mGoogleSearchClient\u001b[49m\u001b[43m(\u001b[49m\u001b[43m)\u001b[49m\n",
      "\u001b[0;31mTypeError\u001b[0m: GoogleSearchClient.__init__() missing 2 required positional arguments: 'API_KEY' and 'SEARCH_ENGINE_ID'"
     ]
    }
   ],
   "source": [
    "google_client = GoogleSearchClient(API_KEY='', SEARCH_ENGINE_ID='')"
   ]
  },
  {
   "cell_type": "code",
   "execution_count": null,
   "id": "c219965b-431d-4eb6-bbc0-1ba1585a595f",
   "metadata": {},
   "outputs": [],
   "source": []
  }
 ],
 "metadata": {
  "kernelspec": {
   "display_name": "Python (reefer)",
   "language": "python",
   "name": "reefer"
  },
  "language_info": {
   "codemirror_mode": {
    "name": "ipython",
    "version": 3
   },
   "file_extension": ".py",
   "mimetype": "text/x-python",
   "name": "python",
   "nbconvert_exporter": "python",
   "pygments_lexer": "ipython3",
   "version": "3.12.5"
  }
 },
 "nbformat": 4,
 "nbformat_minor": 5
}
